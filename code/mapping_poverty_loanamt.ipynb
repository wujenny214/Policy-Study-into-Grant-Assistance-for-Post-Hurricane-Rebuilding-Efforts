{
 "cells": [
  {
   "cell_type": "code",
   "execution_count": 299,
   "id": "afedd79e",
   "metadata": {},
   "outputs": [],
   "source": [
    "import plotly.figure_factory as ff\n",
    "import geopandas as gpd\n",
    "import matplotlib.pyplot as plt\n",
    "import numpy as np\n",
    "import pandas as pd\n",
    "from sklearn.linear_model import LinearRegression\n",
    "from matplotlib.ticker import FuncFormatter"
   ]
  },
  {
   "cell_type": "markdown",
   "id": "b46585d3",
   "metadata": {},
   "source": [
    "### Loading Datasets for GeoPanads, loan, and poverty information"
   ]
  },
  {
   "cell_type": "code",
   "execution_count": 300,
   "id": "1443060e",
   "metadata": {},
   "outputs": [
    {
     "name": "stderr",
     "output_type": "stream",
     "text": [
      "/var/folders/xm/yhmrwng57qq9wlcywlm89pxh0000gn/T/ipykernel_56644/3987194667.py:2: DtypeWarning: Columns (13,15) have mixed types. Specify dtype option on import or set low_memory=False.\n",
      "  df_loan = pd.read_csv(\n"
     ]
    }
   ],
   "source": [
    "# Load the loan dataset\n",
    "df_loan = pd.read_csv(\n",
    "    \"https://raw.githubusercontent.com/wujenny214/Policy-Study-into-Grant-Assistance-for-Post-Hurricane-Rebuilding-Efforts/refs/heads/main/data/roadhome_for_datastore.csv\"\n",
    ")\n",
    "\n",
    "df_loan = df_loan[df_loan[\"GIS State\"] == \"LA\"]\n",
    "df_loan = df_loan[df_loan[\"ARS File (Yes/No)\"] == \"N\"]"
   ]
  },
  {
   "cell_type": "code",
   "execution_count": 301,
   "id": "d8cd1bed",
   "metadata": {},
   "outputs": [
    {
     "data": {
      "application/vnd.microsoft.datawrangler.viewer.v0+json": {
       "columns": [
        {
         "name": "index",
         "rawType": "int64",
         "type": "integer"
        },
        {
         "name": "state_fips",
         "rawType": "object",
         "type": "string"
        },
        {
         "name": "county_fips",
         "rawType": "object",
         "type": "string"
        },
        {
         "name": "all_ages_pov_pct_est",
         "rawType": "object",
         "type": "string"
        },
        {
         "name": "parish",
         "rawType": "object",
         "type": "string"
        }
       ],
       "ref": "0a4c1870-1224-42cd-bc25-4abbb54540b3",
       "rows": [
        [
         "0",
         "22",
         "0",
         "19.2",
         "Louisiana"
        ],
        [
         "1",
         "22",
         "1",
         "21.0",
         "Acadia Parish"
        ],
        [
         "2",
         "22",
         "3",
         "22.0",
         "Allen Parish"
        ],
        [
         "3",
         "22",
         "5",
         "12.0",
         "Ascension Parish"
        ],
        [
         "4",
         "22",
         "7",
         "19.3",
         "Assumption Parish"
        ],
        [
         "5",
         "22",
         "9",
         "24.8",
         "Avoyelles Parish"
        ],
        [
         "6",
         "22",
         "11",
         "16.3",
         "Beauregard Parish"
        ],
        [
         "7",
         "22",
         "13",
         "22.5",
         "Bienville Parish"
        ],
        [
         "8",
         "22",
         "15",
         "14.4",
         "Bossier Parish"
        ],
        [
         "9",
         "22",
         "17",
         "20.5",
         "Caddo Parish"
        ],
        [
         "10",
         "22",
         "19",
         "17.4",
         "Calcasieu Parish"
        ],
        [
         "11",
         "22",
         "21",
         "20.6",
         "Caldwell Parish"
        ],
        [
         "12",
         "22",
         "23",
         "12.9",
         "Cameron Parish"
        ],
        [
         "13",
         "22",
         "25",
         "24.5",
         "Catahoula Parish"
        ],
        [
         "14",
         "22",
         "27",
         "23.9",
         "Claiborne Parish"
        ],
        [
         "15",
         "22",
         "29",
         "25.6",
         "Concordia Parish"
        ],
        [
         "16",
         "22",
         "31",
         "19.5",
         "De Soto Parish"
        ],
        [
         "17",
         "22",
         "33",
         "18.0",
         "East Baton Rouge Parish"
        ],
        [
         "18",
         "22",
         "35",
         "36.0",
         "East Carroll Parish"
        ],
        [
         "19",
         "22",
         "37",
         "19.3",
         "East Feliciana Parish"
        ],
        [
         "20",
         "22",
         "39",
         "26.0",
         "Evangeline Parish"
        ],
        [
         "21",
         "22",
         "41",
         "24.8",
         "Franklin Parish"
        ],
        [
         "22",
         "22",
         "43",
         "19.6",
         "Grant Parish"
        ],
        [
         "23",
         "22",
         "45",
         "21.1",
         "Iberia Parish"
        ],
        [
         "24",
         "22",
         "47",
         "22.5",
         "Iberville Parish"
        ],
        [
         "25",
         "22",
         "49",
         "17.8",
         "Jackson Parish"
        ],
        [
         "26",
         "22",
         "51",
         "16.5",
         "Jefferson Parish"
        ],
        [
         "27",
         "22",
         "53",
         "18.6",
         "Jefferson Davis Parish"
        ],
        [
         "28",
         "22",
         "55",
         "16.5",
         "Lafayette Parish"
        ],
        [
         "29",
         "22",
         "57",
         "16.5",
         "Lafourche Parish"
        ],
        [
         "30",
         "22",
         "59",
         "18.1",
         "La Salle Parish"
        ],
        [
         "31",
         "22",
         "61",
         "22.6",
         "Lincoln Parish"
        ],
        [
         "32",
         "22",
         "63",
         "13.2",
         "Livingston Parish"
        ],
        [
         "33",
         "22",
         "65",
         "30.6",
         "Madison Parish"
        ],
        [
         "34",
         "22",
         "67",
         "25.0",
         "Morehouse Parish"
        ],
        [
         "35",
         "22",
         "69",
         "23.6",
         "Natchitoches Parish"
        ],
        [
         "36",
         "22",
         "71",
         "27.0",
         "Orleans Parish"
        ],
        [
         "37",
         "22",
         "73",
         "21.2",
         "Ouachita Parish"
        ],
        [
         "38",
         "22",
         "75",
         "16.2",
         "Plaquemines Parish"
        ],
        [
         "39",
         "22",
         "77",
         "19.9",
         "Pointe Coupee Parish"
        ],
        [
         "40",
         "22",
         "79",
         "20.2",
         "Rapides Parish"
        ],
        [
         "41",
         "22",
         "81",
         "23.7",
         "Red River Parish"
        ],
        [
         "42",
         "22",
         "83",
         "24.7",
         "Richland Parish"
        ],
        [
         "43",
         "22",
         "85",
         "18.8",
         "Sabine Parish"
        ],
        [
         "44",
         "22",
         "87",
         "15.1",
         "St. Bernard Parish"
        ],
        [
         "45",
         "22",
         "89",
         "13.3",
         "St. Charles Parish"
        ],
        [
         "46",
         "22",
         "91",
         "22.0",
         "St. Helena Parish"
        ],
        [
         "47",
         "22",
         "93",
         "17.7",
         "St. James Parish"
        ],
        [
         "48",
         "22",
         "95",
         "16.4",
         "St. John the Baptist Parish"
        ],
        [
         "49",
         "22",
         "97",
         "23.9",
         "St. Landry Parish"
        ]
       ],
       "shape": {
        "columns": 4,
        "rows": 65
       }
      },
      "text/html": [
       "<div>\n",
       "<style scoped>\n",
       "    .dataframe tbody tr th:only-of-type {\n",
       "        vertical-align: middle;\n",
       "    }\n",
       "\n",
       "    .dataframe tbody tr th {\n",
       "        vertical-align: top;\n",
       "    }\n",
       "\n",
       "    .dataframe thead th {\n",
       "        text-align: right;\n",
       "    }\n",
       "</style>\n",
       "<table border=\"1\" class=\"dataframe\">\n",
       "  <thead>\n",
       "    <tr style=\"text-align: right;\">\n",
       "      <th></th>\n",
       "      <th>state_fips</th>\n",
       "      <th>county_fips</th>\n",
       "      <th>all_ages_pov_pct_est</th>\n",
       "      <th>parish</th>\n",
       "    </tr>\n",
       "  </thead>\n",
       "  <tbody>\n",
       "    <tr>\n",
       "      <th>0</th>\n",
       "      <td>22</td>\n",
       "      <td>0</td>\n",
       "      <td>19.2</td>\n",
       "      <td>Louisiana</td>\n",
       "    </tr>\n",
       "    <tr>\n",
       "      <th>1</th>\n",
       "      <td>22</td>\n",
       "      <td>1</td>\n",
       "      <td>21.0</td>\n",
       "      <td>Acadia Parish</td>\n",
       "    </tr>\n",
       "    <tr>\n",
       "      <th>2</th>\n",
       "      <td>22</td>\n",
       "      <td>3</td>\n",
       "      <td>22.0</td>\n",
       "      <td>Allen Parish</td>\n",
       "    </tr>\n",
       "    <tr>\n",
       "      <th>3</th>\n",
       "      <td>22</td>\n",
       "      <td>5</td>\n",
       "      <td>12.0</td>\n",
       "      <td>Ascension Parish</td>\n",
       "    </tr>\n",
       "    <tr>\n",
       "      <th>4</th>\n",
       "      <td>22</td>\n",
       "      <td>7</td>\n",
       "      <td>19.3</td>\n",
       "      <td>Assumption Parish</td>\n",
       "    </tr>\n",
       "    <tr>\n",
       "      <th>...</th>\n",
       "      <td>...</td>\n",
       "      <td>...</td>\n",
       "      <td>...</td>\n",
       "      <td>...</td>\n",
       "    </tr>\n",
       "    <tr>\n",
       "      <th>60</th>\n",
       "      <td>22</td>\n",
       "      <td>119</td>\n",
       "      <td>19.0</td>\n",
       "      <td>Webster Parish</td>\n",
       "    </tr>\n",
       "    <tr>\n",
       "      <th>61</th>\n",
       "      <td>22</td>\n",
       "      <td>121</td>\n",
       "      <td>16.8</td>\n",
       "      <td>West Baton Rouge Parish</td>\n",
       "    </tr>\n",
       "    <tr>\n",
       "      <th>62</th>\n",
       "      <td>22</td>\n",
       "      <td>123</td>\n",
       "      <td>22.7</td>\n",
       "      <td>West Carroll Parish</td>\n",
       "    </tr>\n",
       "    <tr>\n",
       "      <th>63</th>\n",
       "      <td>22</td>\n",
       "      <td>125</td>\n",
       "      <td>20.4</td>\n",
       "      <td>West Feliciana Parish</td>\n",
       "    </tr>\n",
       "    <tr>\n",
       "      <th>64</th>\n",
       "      <td>22</td>\n",
       "      <td>127</td>\n",
       "      <td>22.8</td>\n",
       "      <td>Winn Parish</td>\n",
       "    </tr>\n",
       "  </tbody>\n",
       "</table>\n",
       "<p>65 rows × 4 columns</p>\n",
       "</div>"
      ],
      "text/plain": [
       "   state_fips county_fips all_ages_pov_pct_est                   parish\n",
       "0          22           0                 19.2                Louisiana\n",
       "1          22           1                 21.0            Acadia Parish\n",
       "2          22           3                 22.0             Allen Parish\n",
       "3          22           5                 12.0         Ascension Parish\n",
       "4          22           7                 19.3        Assumption Parish\n",
       "..        ...         ...                  ...                      ...\n",
       "60         22         119                 19.0           Webster Parish\n",
       "61         22         121                 16.8  West Baton Rouge Parish\n",
       "62         22         123                 22.7      West Carroll Parish\n",
       "63         22         125                 20.4    West Feliciana Parish\n",
       "64         22         127                 22.8              Winn Parish\n",
       "\n",
       "[65 rows x 4 columns]"
      ]
     },
     "execution_count": 301,
     "metadata": {},
     "output_type": "execute_result"
    }
   ],
   "source": [
    "# Load SAIPE 2004 Louisiana county-level poverty data\n",
    "\n",
    "colspecs = [\n",
    "    (0, 2),  # 1-2   FIPS State\n",
    "    (3, 6),  # 4-6   FIPS County\n",
    "    # (7, 15),  # 8-15  Est all ages in poverty\n",
    "    # (16, 24),  # 17-24 LCI\n",
    "    # (25, 33),  # 26-33 UCI\n",
    "    (34, 38),  # 35-38 % all ages est\n",
    "    # (39, 43),  # 40-43 % all ages LCI\n",
    "    # (44, 48),  # 45-48 % all ages UCI\n",
    "    # (49, 57),  # 50-57 Est age 0-17\n",
    "    # (58, 66),  # 59-66 LCI\n",
    "    # (67, 75),  # 68-75 UCI\n",
    "    # (76, 80),  # 77-80 % 0-17 est\n",
    "    # (81, 85),  # 82-85 % 0-17 LCI\n",
    "    # (86, 90),  # 87-90 % 0-17 UCI\n",
    "    # (91, 99),  # 92-99 Est related children 5-17 in families\n",
    "    # (100, 108),  # 101-108 LCI\n",
    "    # (109, 117),  # 110-117 UCI\n",
    "    # (118, 122),  # 119-122 % related 5-17 est\n",
    "    # (123, 127),  # 124-127 % related 5-17 LCI\n",
    "    # (128, 132),  # 129-132 % related 5-17 UCI\n",
    "    # (133, 139),  # 134-139 Median HH income\n",
    "    # (140, 146),  # 141-146 Median HH income LCI\n",
    "    # (147, 153),  # 148-153 Median HH income UCI\n",
    "    # (154, 161),  # Estimate of people under age 5 in poverty\n",
    "    # (162, 169),  # 90% confidence interval lower bound of estimate of people under age 5 in poverty\n",
    "    # (170, 177),  # 90% confidence interval upper bound of estimate of people under age 5 in poverty\n",
    "    # (178, 182),  # Estimated percent of people under age 5 in poverty\n",
    "    # (183, 187),  # 90% confidence interval lower bound of estimate of percent of people under age 5 in poverty\n",
    "    # (189, 192),  # 90% confidence interval upper bound of estimate of percent of people under age 5 in poverty\n",
    "    (193, 238),  # State or county name\n",
    "    # (239, 241),  # Two-letter Postal State abbreviation\n",
    "    # (242, 266),  # A tag indicating the file name and date of creation\n",
    "]\n",
    "\n",
    "names = [\n",
    "    \"state_fips\",\n",
    "    \"county_fips\",\n",
    "    # \"all_ages_pov_est\",\n",
    "    # \"all_ages_pov_l\",\n",
    "    # \"all_ages_pov_u\",\n",
    "    \"all_ages_pov_pct_est\",\n",
    "    # \"all_ages_pov_pct_l\",\n",
    "    # \"all_ages_pov_pct_u\",\n",
    "    # \"age0_17_pov_est\",\n",
    "    # \"age0_17_pov_l\",\n",
    "    # \"age0_17_pov_u\",\n",
    "    # \"age0_17_pov_pct_est\",\n",
    "    # \"age0_17_pov_pct_l\",\n",
    "    # \"age0_17_pov_pct_u\",\n",
    "    # \"rel5_17_pov_est\",\n",
    "    # \"rel5_17_pov_l\",\n",
    "    # \"rel5_17_pov_u\",\n",
    "    # \"rel5_17_pov_pct_est\",\n",
    "    # \"rel5_17_pov_pct_l\",\n",
    "    # \"rel5_17_pov_pct_u\",\n",
    "    # \"med_hh_income_est\",\n",
    "    # \"med_hh_income_l\",\n",
    "    # \"med_hh_income_u\",\n",
    "    # \"est_ppl_under5pov\",\n",
    "    # \"lci_ppl_under5pov\",\n",
    "    # \"uci_ppl_under5pov\",\n",
    "    # \"pct_ppl_under5pov_est\",\n",
    "    # \"pct_ppl_under5pov_l\",\n",
    "    # \"pct_ppl_under5pov_u\",\n",
    "    \"parish\",\n",
    "    # \"state\",\n",
    "    # \"file_tag\",\n",
    "]\n",
    "\n",
    "# Read the fixed-width file\n",
    "url = \"https://www2.census.gov/programs-surveys/saipe/datasets/2004/2004-state-and-county/est04-la.txt\"\n",
    "df_poverty = pd.read_fwf(url, colspecs=colspecs, names=names, dtype=str)\n",
    "\n",
    "df_poverty"
   ]
  },
  {
   "cell_type": "code",
   "execution_count": 302,
   "id": "fb9979e7",
   "metadata": {},
   "outputs": [
    {
     "data": {
      "application/vnd.microsoft.datawrangler.viewer.v0+json": {
       "columns": [
        {
         "name": "index",
         "rawType": "int64",
         "type": "integer"
        },
        {
         "name": "FIPS",
         "rawType": "object",
         "type": "string"
        },
        {
         "name": "parish",
         "rawType": "object",
         "type": "string"
        },
        {
         "name": "all_ages_pov_pct_est",
         "rawType": "object",
         "type": "string"
        }
       ],
       "ref": "d2e18459-01ee-418d-97cd-c14f9b5c7ad2",
       "rows": [
        [
         "1",
         "22001",
         "Acadia Parish",
         "21.0"
        ],
        [
         "2",
         "22003",
         "Allen Parish",
         "22.0"
        ],
        [
         "3",
         "22005",
         "Ascension Parish",
         "12.0"
        ],
        [
         "4",
         "22007",
         "Assumption Parish",
         "19.3"
        ],
        [
         "5",
         "22009",
         "Avoyelles Parish",
         "24.8"
        ],
        [
         "6",
         "22011",
         "Beauregard Parish",
         "16.3"
        ],
        [
         "7",
         "22013",
         "Bienville Parish",
         "22.5"
        ],
        [
         "8",
         "22015",
         "Bossier Parish",
         "14.4"
        ],
        [
         "9",
         "22017",
         "Caddo Parish",
         "20.5"
        ],
        [
         "10",
         "22019",
         "Calcasieu Parish",
         "17.4"
        ],
        [
         "11",
         "22021",
         "Caldwell Parish",
         "20.6"
        ],
        [
         "12",
         "22023",
         "Cameron Parish",
         "12.9"
        ],
        [
         "13",
         "22025",
         "Catahoula Parish",
         "24.5"
        ],
        [
         "14",
         "22027",
         "Claiborne Parish",
         "23.9"
        ],
        [
         "15",
         "22029",
         "Concordia Parish",
         "25.6"
        ],
        [
         "16",
         "22031",
         "De Soto Parish",
         "19.5"
        ],
        [
         "17",
         "22033",
         "East Baton Rouge Parish",
         "18.0"
        ],
        [
         "18",
         "22035",
         "East Carroll Parish",
         "36.0"
        ],
        [
         "19",
         "22037",
         "East Feliciana Parish",
         "19.3"
        ],
        [
         "20",
         "22039",
         "Evangeline Parish",
         "26.0"
        ],
        [
         "21",
         "22041",
         "Franklin Parish",
         "24.8"
        ],
        [
         "22",
         "22043",
         "Grant Parish",
         "19.6"
        ],
        [
         "23",
         "22045",
         "Iberia Parish",
         "21.1"
        ],
        [
         "24",
         "22047",
         "Iberville Parish",
         "22.5"
        ],
        [
         "25",
         "22049",
         "Jackson Parish",
         "17.8"
        ],
        [
         "26",
         "22051",
         "Jefferson Parish",
         "16.5"
        ],
        [
         "27",
         "22053",
         "Jefferson Davis Parish",
         "18.6"
        ],
        [
         "28",
         "22055",
         "Lafayette Parish",
         "16.5"
        ],
        [
         "29",
         "22057",
         "Lafourche Parish",
         "16.5"
        ],
        [
         "30",
         "22059",
         "La Salle Parish",
         "18.1"
        ],
        [
         "31",
         "22061",
         "Lincoln Parish",
         "22.6"
        ],
        [
         "32",
         "22063",
         "Livingston Parish",
         "13.2"
        ],
        [
         "33",
         "22065",
         "Madison Parish",
         "30.6"
        ],
        [
         "34",
         "22067",
         "Morehouse Parish",
         "25.0"
        ],
        [
         "35",
         "22069",
         "Natchitoches Parish",
         "23.6"
        ],
        [
         "36",
         "22071",
         "Orleans Parish",
         "27.0"
        ],
        [
         "37",
         "22073",
         "Ouachita Parish",
         "21.2"
        ],
        [
         "38",
         "22075",
         "Plaquemines Parish",
         "16.2"
        ],
        [
         "39",
         "22077",
         "Pointe Coupee Parish",
         "19.9"
        ],
        [
         "40",
         "22079",
         "Rapides Parish",
         "20.2"
        ],
        [
         "41",
         "22081",
         "Red River Parish",
         "23.7"
        ],
        [
         "42",
         "22083",
         "Richland Parish",
         "24.7"
        ],
        [
         "43",
         "22085",
         "Sabine Parish",
         "18.8"
        ],
        [
         "44",
         "22087",
         "St. Bernard Parish",
         "15.1"
        ],
        [
         "45",
         "22089",
         "St. Charles Parish",
         "13.3"
        ],
        [
         "46",
         "22091",
         "St. Helena Parish",
         "22.0"
        ],
        [
         "47",
         "22093",
         "St. James Parish",
         "17.7"
        ],
        [
         "48",
         "22095",
         "St. John the Baptist Parish",
         "16.4"
        ],
        [
         "49",
         "22097",
         "St. Landry Parish",
         "23.9"
        ],
        [
         "50",
         "22099",
         "St. Martin Parish",
         "20.4"
        ]
       ],
       "shape": {
        "columns": 3,
        "rows": 64
       }
      },
      "text/html": [
       "<div>\n",
       "<style scoped>\n",
       "    .dataframe tbody tr th:only-of-type {\n",
       "        vertical-align: middle;\n",
       "    }\n",
       "\n",
       "    .dataframe tbody tr th {\n",
       "        vertical-align: top;\n",
       "    }\n",
       "\n",
       "    .dataframe thead th {\n",
       "        text-align: right;\n",
       "    }\n",
       "</style>\n",
       "<table border=\"1\" class=\"dataframe\">\n",
       "  <thead>\n",
       "    <tr style=\"text-align: right;\">\n",
       "      <th></th>\n",
       "      <th>FIPS</th>\n",
       "      <th>parish</th>\n",
       "      <th>all_ages_pov_pct_est</th>\n",
       "    </tr>\n",
       "  </thead>\n",
       "  <tbody>\n",
       "    <tr>\n",
       "      <th>1</th>\n",
       "      <td>22001</td>\n",
       "      <td>Acadia Parish</td>\n",
       "      <td>21.0</td>\n",
       "    </tr>\n",
       "    <tr>\n",
       "      <th>2</th>\n",
       "      <td>22003</td>\n",
       "      <td>Allen Parish</td>\n",
       "      <td>22.0</td>\n",
       "    </tr>\n",
       "    <tr>\n",
       "      <th>3</th>\n",
       "      <td>22005</td>\n",
       "      <td>Ascension Parish</td>\n",
       "      <td>12.0</td>\n",
       "    </tr>\n",
       "    <tr>\n",
       "      <th>4</th>\n",
       "      <td>22007</td>\n",
       "      <td>Assumption Parish</td>\n",
       "      <td>19.3</td>\n",
       "    </tr>\n",
       "    <tr>\n",
       "      <th>5</th>\n",
       "      <td>22009</td>\n",
       "      <td>Avoyelles Parish</td>\n",
       "      <td>24.8</td>\n",
       "    </tr>\n",
       "    <tr>\n",
       "      <th>...</th>\n",
       "      <td>...</td>\n",
       "      <td>...</td>\n",
       "      <td>...</td>\n",
       "    </tr>\n",
       "    <tr>\n",
       "      <th>60</th>\n",
       "      <td>22119</td>\n",
       "      <td>Webster Parish</td>\n",
       "      <td>19.0</td>\n",
       "    </tr>\n",
       "    <tr>\n",
       "      <th>61</th>\n",
       "      <td>22121</td>\n",
       "      <td>West Baton Rouge Parish</td>\n",
       "      <td>16.8</td>\n",
       "    </tr>\n",
       "    <tr>\n",
       "      <th>62</th>\n",
       "      <td>22123</td>\n",
       "      <td>West Carroll Parish</td>\n",
       "      <td>22.7</td>\n",
       "    </tr>\n",
       "    <tr>\n",
       "      <th>63</th>\n",
       "      <td>22125</td>\n",
       "      <td>West Feliciana Parish</td>\n",
       "      <td>20.4</td>\n",
       "    </tr>\n",
       "    <tr>\n",
       "      <th>64</th>\n",
       "      <td>22127</td>\n",
       "      <td>Winn Parish</td>\n",
       "      <td>22.8</td>\n",
       "    </tr>\n",
       "  </tbody>\n",
       "</table>\n",
       "<p>64 rows × 3 columns</p>\n",
       "</div>"
      ],
      "text/plain": [
       "     FIPS                   parish all_ages_pov_pct_est\n",
       "1   22001            Acadia Parish                 21.0\n",
       "2   22003             Allen Parish                 22.0\n",
       "3   22005         Ascension Parish                 12.0\n",
       "4   22007        Assumption Parish                 19.3\n",
       "5   22009         Avoyelles Parish                 24.8\n",
       "..    ...                      ...                  ...\n",
       "60  22119           Webster Parish                 19.0\n",
       "61  22121  West Baton Rouge Parish                 16.8\n",
       "62  22123      West Carroll Parish                 22.7\n",
       "63  22125    West Feliciana Parish                 20.4\n",
       "64  22127              Winn Parish                 22.8\n",
       "\n",
       "[64 rows x 3 columns]"
      ]
     },
     "execution_count": 302,
     "metadata": {},
     "output_type": "execute_result"
    }
   ],
   "source": [
    "# # Construct the FIPS codes directly and save them into the dataframe\n",
    "# df_poverty[\"FIPS\"] = df_poverty.apply(\n",
    "#     lambda row: row[\"state_fips\"]\n",
    "#     + (\"00\" if len(row[\"county_fips\"]) == 1 else \"0\")\n",
    "#     + row[\"county_fips\"],\n",
    "#     axis=1,\n",
    "# )\n",
    "\n",
    "# (ALT method) Initialize an empty list to store the FIPS codes\n",
    "fips_codes = []\n",
    "\n",
    "# Iterate through each row in the dataframe\n",
    "for i, row in df_poverty.iterrows():\n",
    "    # Check the length of the county_fips and construct the FIPS code accordingly\n",
    "    if len(row[\"county_fips\"]) == 1:\n",
    "        fips_code = row[\"state_fips\"] + \"00\" + row[\"county_fips\"]\n",
    "    elif len(row[\"county_fips\"]) == 2:\n",
    "        fips_code = row[\"state_fips\"] + \"0\" + row[\"county_fips\"]\n",
    "    else:\n",
    "        fips_code = row[\"state_fips\"] + row[\"county_fips\"]\n",
    "    fips_codes.append(fips_code)\n",
    "\n",
    "# Add the constructed FIPS codes as a new column in the dataframe\n",
    "df_poverty[\"FIPS\"] = fips_codes\n",
    "\n",
    "df_poverty = df_poverty[[\"FIPS\", \"parish\", \"all_ages_pov_pct_est\"]].copy()\n",
    "df_poverty = df_poverty[1:]\n",
    "df_poverty"
   ]
  },
  {
   "cell_type": "markdown",
   "id": "4dd3e20b",
   "metadata": {},
   "source": [
    "### Plotting Louisiaina"
   ]
  },
  {
   "cell_type": "code",
   "execution_count": 303,
   "id": "6cca1b47",
   "metadata": {},
   "outputs": [
    {
     "data": {
      "text/html": [
       "<div>\n",
       "<style scoped>\n",
       "    .dataframe tbody tr th:only-of-type {\n",
       "        vertical-align: middle;\n",
       "    }\n",
       "\n",
       "    .dataframe tbody tr th {\n",
       "        vertical-align: top;\n",
       "    }\n",
       "\n",
       "    .dataframe thead th {\n",
       "        text-align: right;\n",
       "    }\n",
       "</style>\n",
       "<table border=\"1\" class=\"dataframe\">\n",
       "  <thead>\n",
       "    <tr style=\"text-align: right;\">\n",
       "      <th></th>\n",
       "      <th>GEOID</th>\n",
       "      <th>STATEFP</th>\n",
       "      <th>COUNTYFP</th>\n",
       "      <th>NAME</th>\n",
       "      <th>geometry</th>\n",
       "    </tr>\n",
       "  </thead>\n",
       "  <tbody>\n",
       "    <tr>\n",
       "      <th>103</th>\n",
       "      <td>22061</td>\n",
       "      <td>22</td>\n",
       "      <td>061</td>\n",
       "      <td>Lincoln</td>\n",
       "      <td>POLYGON ((-92.88093 32.58526, -92.86661 32.607...</td>\n",
       "    </tr>\n",
       "    <tr>\n",
       "      <th>392</th>\n",
       "      <td>22095</td>\n",
       "      <td>22</td>\n",
       "      <td>095</td>\n",
       "      <td>St. John the Baptist</td>\n",
       "      <td>POLYGON ((-90.68727 30.0372, -90.66997 30.0476...</td>\n",
       "    </tr>\n",
       "    <tr>\n",
       "      <th>409</th>\n",
       "      <td>22029</td>\n",
       "      <td>22</td>\n",
       "      <td>029</td>\n",
       "      <td>Concordia</td>\n",
       "      <td>POLYGON ((-91.8633 31.35445, -91.84502 31.3759...</td>\n",
       "    </tr>\n",
       "    <tr>\n",
       "      <th>570</th>\n",
       "      <td>22003</td>\n",
       "      <td>22</td>\n",
       "      <td>003</td>\n",
       "      <td>Allen</td>\n",
       "      <td>POLYGON ((-93.13119 30.51828, -93.13081 30.564...</td>\n",
       "    </tr>\n",
       "    <tr>\n",
       "      <th>628</th>\n",
       "      <td>22093</td>\n",
       "      <td>22</td>\n",
       "      <td>093</td>\n",
       "      <td>St. James</td>\n",
       "      <td>POLYGON ((-90.96374 30.06683, -90.93559 30.085...</td>\n",
       "    </tr>\n",
       "    <tr>\n",
       "      <th>...</th>\n",
       "      <td>...</td>\n",
       "      <td>...</td>\n",
       "      <td>...</td>\n",
       "      <td>...</td>\n",
       "      <td>...</td>\n",
       "    </tr>\n",
       "    <tr>\n",
       "      <th>3095</th>\n",
       "      <td>22083</td>\n",
       "      <td>22</td>\n",
       "      <td>083</td>\n",
       "      <td>Richland</td>\n",
       "      <td>POLYGON ((-92.03117 32.2814, -92.01982 32.2976...</td>\n",
       "    </tr>\n",
       "    <tr>\n",
       "      <th>3118</th>\n",
       "      <td>22037</td>\n",
       "      <td>22</td>\n",
       "      <td>037</td>\n",
       "      <td>East Feliciana</td>\n",
       "      <td>POLYGON ((-91.32071 30.69942, -91.2931 30.7155...</td>\n",
       "    </tr>\n",
       "    <tr>\n",
       "      <th>3126</th>\n",
       "      <td>22051</td>\n",
       "      <td>22</td>\n",
       "      <td>051</td>\n",
       "      <td>Jefferson</td>\n",
       "      <td>POLYGON ((-90.28006 29.99171, -90.27986 29.998...</td>\n",
       "    </tr>\n",
       "    <tr>\n",
       "      <th>3153</th>\n",
       "      <td>22049</td>\n",
       "      <td>22</td>\n",
       "      <td>049</td>\n",
       "      <td>Jackson</td>\n",
       "      <td>POLYGON ((-92.81715 32.1617, -92.79882 32.1813...</td>\n",
       "    </tr>\n",
       "    <tr>\n",
       "      <th>3160</th>\n",
       "      <td>22115</td>\n",
       "      <td>22</td>\n",
       "      <td>115</td>\n",
       "      <td>Vernon</td>\n",
       "      <td>POLYGON ((-93.56976 30.99672, -93.56798 31.001...</td>\n",
       "    </tr>\n",
       "  </tbody>\n",
       "</table>\n",
       "<p>64 rows × 5 columns</p>\n",
       "</div>"
      ],
      "text/plain": [
       "      GEOID STATEFP COUNTYFP                  NAME  \\\n",
       "103   22061      22      061               Lincoln   \n",
       "392   22095      22      095  St. John the Baptist   \n",
       "409   22029      22      029             Concordia   \n",
       "570   22003      22      003                 Allen   \n",
       "628   22093      22      093             St. James   \n",
       "...     ...     ...      ...                   ...   \n",
       "3095  22083      22      083              Richland   \n",
       "3118  22037      22      037        East Feliciana   \n",
       "3126  22051      22      051             Jefferson   \n",
       "3153  22049      22      049               Jackson   \n",
       "3160  22115      22      115                Vernon   \n",
       "\n",
       "                                               geometry  \n",
       "103   POLYGON ((-92.88093 32.58526, -92.86661 32.607...  \n",
       "392   POLYGON ((-90.68727 30.0372, -90.66997 30.0476...  \n",
       "409   POLYGON ((-91.8633 31.35445, -91.84502 31.3759...  \n",
       "570   POLYGON ((-93.13119 30.51828, -93.13081 30.564...  \n",
       "628   POLYGON ((-90.96374 30.06683, -90.93559 30.085...  \n",
       "...                                                 ...  \n",
       "3095  POLYGON ((-92.03117 32.2814, -92.01982 32.2976...  \n",
       "3118  POLYGON ((-91.32071 30.69942, -91.2931 30.7155...  \n",
       "3126  POLYGON ((-90.28006 29.99171, -90.27986 29.998...  \n",
       "3153  POLYGON ((-92.81715 32.1617, -92.79882 32.1813...  \n",
       "3160  POLYGON ((-93.56976 30.99672, -93.56798 31.001...  \n",
       "\n",
       "[64 rows x 5 columns]"
      ]
     },
     "execution_count": 303,
     "metadata": {},
     "output_type": "execute_result"
    },
    {
     "data": {
      "image/png": "[encoded data removed]",
      "text/plain": [
       "<Figure size 640x480 with 1 Axes>"
      ]
     },
     "metadata": {},
     "output_type": "display_data"
    }
   ],
   "source": [
    "# Download all US counties (2023, 1:5m cartographic boundaries) from Census\n",
    "url = \"https://www2.census.gov/geo/tiger/GENZ2023/shp/cb_2023_us_county_5m.zip\"\n",
    "counties = gpd.read_file(url)\n",
    "\n",
    "# Keep only Louisiana (STATEFP = '22')\n",
    "la = counties[counties[\"STATEFP\"] == \"22\"].copy()\n",
    "\n",
    "# Keep useful fields; GEOID is the full 5-digit county/parish FIPS\n",
    "la = la[[\"GEOID\", \"STATEFP\", \"COUNTYFP\", \"NAME\", \"geometry\"]]\n",
    "\n",
    "# Save as GeoJSON (Leaflet/Mapbox/Folium/Plotly-ready)\n",
    "la.to_file(\"louisiana_counties_fips.geojson\", driver=\"GeoJSON\")\n",
    "\n",
    "# Mapping Louisiana parishes\n",
    "ax = la.plot(edgecolor=\"white\", linewidth=0.8)\n",
    "ax.set_axis_off()\n",
    "\n",
    "la"
   ]
  },
  {
   "cell_type": "code",
   "execution_count": 304,
   "id": "3152a0e2",
   "metadata": {},
   "outputs": [
    {
     "data": {
      "application/vnd.microsoft.datawrangler.viewer.v0+json": {
       "columns": [
        {
         "name": "index",
         "rawType": "int64",
         "type": "integer"
        },
        {
         "name": "index",
         "rawType": "object",
         "type": "string"
        },
        {
         "name": "parish",
         "rawType": "object",
         "type": "string"
        },
        {
         "name": "all_ages_pov_pct_est",
         "rawType": "object",
         "type": "string"
        },
        {
         "name": "geometry",
         "rawType": "geometry",
         "type": "unknown"
        }
       ],
       "ref": "0d3f872b-d5c1-4f0e-9db8-823cd21fe144",
       "rows": [
        [
         "0",
         "22001",
         "Acadia Parish",
         "21.0",
         "POLYGON ((-92.632161 30.314289, -92.619505 30.340052, -92.629695 30.378926, -92.604306 30.39008, -92.605398 30.407202, -92.594586 30.420339, -92.600597 30.437483, -92.626013 30.466031, -92.632025 30.481182, -92.493259 30.480499, -92.431544 30.480074, -92.413567 30.480061, -92.412875 30.480068, -92.389177 30.480004, -92.244795 30.480193, -92.24425 30.436678, -92.176444 30.436852, -92.176435 30.421033, -92.176059 30.400471, -92.176124 30.385983, -92.175778 30.3497, -92.158605 30.349909, -92.15846 30.320806, -92.141509 30.320764, -92.141789 30.309839, -92.142184 30.298817, -92.142128 30.284546, -92.15951 30.28465, -92.159294 30.270019, -92.17624 30.262776, -92.176097 30.241076, -92.210205 30.241892, -92.210094 30.235438, -92.210059 30.226246, -92.24157 30.214652, -92.246328 30.185459, -92.275312 30.146134, -92.284675 30.147443, -92.288856 30.149422, -92.303955 30.128994, -92.324098 30.123462, -92.332364 30.101525, -92.37615 30.066566, -92.408349 30.053721, -92.426039 30.049369, -92.507711 30.077701, -92.506192 30.081222, -92.506462 30.081424, -92.516854 30.085452, -92.529366 30.106636, -92.557126 30.115993, -92.570994 30.102377, -92.587311 30.096118, -92.604815 30.098338, -92.615328 30.088821, -92.625484 30.09233, -92.618338 30.10415, -92.62864 30.133743, -92.607983 30.15858, -92.618728 30.175524, -92.590655 30.190054, -92.595217 30.195162, -92.585492 30.203394, -92.602936 30.206674, -92.626648 30.230387, -92.622526 30.240413, -92.622069 30.252812, -92.627862 30.25861, -92.624006 30.267275, -92.627573 30.299342, -92.621205 30.308328, -92.632161 30.314289))"
        ],
        [
         "1",
         "22003",
         "Allen Parish",
         "22.0",
         "POLYGON ((-93.131188 30.518283, -93.130809 30.56429, -93.130732 30.598093, -92.979098 30.597995, -92.977146 30.751571, -92.978673 30.878136, -92.824169 30.877234, -92.823967 30.888853, -92.82387 30.892071, -92.720966 30.891362, -92.661395 30.898699, -92.623277 30.898758, -92.606318 30.898885, -92.597798 30.896001, -92.598841 30.801817, -92.598215 30.626415, -92.597537 30.581747, -92.582873 30.565876, -92.605186 30.52945, -92.623582 30.51883, -92.61415 30.506457, -92.630321 30.488012, -92.671126 30.48839, -92.773981 30.488218, -92.775737 30.437617, -92.876768 30.437852, -93.014145 30.437847, -93.065525 30.438677, -93.065386 30.424346, -93.131155 30.423591, -93.131188 30.518283))"
        ],
        [
         "2",
         "22005",
         "Ascension Parish",
         "12.0",
         "POLYGON ((-91.106559 30.108519, -91.089834 30.1087, -91.090097 30.14111, -91.07364 30.160921, -91.059124 30.213084, -91.048778 30.241451, -91.044909 30.251966, -91.019324 30.318561, -91.021014 30.321489, -91.017168 30.326419, -91.014065 30.330029, -91.013825 30.330184, -91.014157 30.334779, -90.993064 30.342717, -90.992883 30.342749, -90.983178 30.343893, -90.974123 30.346933, -90.958892 30.345139, -90.939418 30.340313, -90.923852 30.34413, -90.910848 30.339502, -90.891728 30.345244, -90.858509 30.343765, -90.851844 30.331946, -90.838758 30.318182, -90.829065 30.317461, -90.824045 30.292692, -90.81091 30.275701, -90.794017 30.280867, -90.782121 30.274843, -90.791359 30.265, -90.774076 30.251719, -90.767804 30.239749, -90.749109 30.241281, -90.731407 30.221153, -90.734413 30.211878, -90.722632 30.206514, -90.719539 30.189994, -90.70327 30.185806, -90.694554 30.175163, -90.673287 30.198013, -90.678968 30.20669, -90.66169 30.213722, -90.660422 30.22553, -90.649294 30.232296, -90.644671 30.230714, -90.631905 30.22119, -90.642111 30.166448, -90.70791 30.153656, -90.786133 30.138325, -90.915565 30.113285, -90.914657 30.108835, -90.935594 30.085558, -90.963745 30.066831, -90.971385 30.065285, -91.005748 30.079106, -91.026393 30.076105, -91.055825 30.070581, -91.074654 30.081744, -91.089253 30.076797, -91.089108 30.062802, -91.105997 30.062749, -91.106559 30.108519))"
        ],
        [
         "3",
         "22007",
         "Assumption Parish",
         "19.3",
         "POLYGON ((-91.258944 30.000674, -91.236346 30.000894, -91.233143 30.00549, -91.22479 30.024182, -91.22423 30.02556, -91.105997 30.062749, -91.089108 30.062802, -91.089253 30.076797, -91.074654 30.081744, -91.055825 30.070581, -91.026393 30.076105, -91.005748 30.079106, -90.971385 30.065285, -90.963745 30.066831, -90.963357 30.035783, -90.946373 30.036042, -90.946325 30.000957, -90.946294 29.977932, -90.911804 29.9785, -90.911784 29.935072, -90.886306 29.935647, -90.886086 29.923702, -90.885749 29.905348, -90.885266 29.877565, -90.909806 29.877195, -90.925046 29.830377, -90.924626 29.830326, -90.947605 29.792532, -90.981838 29.744875, -91.00689 29.715093, -91.082611 29.626814, -91.086163 29.634838, -91.105249 29.643012, -91.095213 29.696239, -91.10001 29.699402, -91.106551 29.733487, -91.095364 29.737032, -91.094378 29.764575, -91.100052 29.785059, -91.092748 29.801574, -91.109462 29.823945, -91.133079 29.837306, -91.150227 29.836831, -91.187338 29.84869, -91.200263 29.861793, -91.214076 29.907569, -91.232016 29.918171, -91.231576 29.935649, -91.251395 29.957591, -91.255229 29.971457, -91.258944 30.000674))"
        ],
        [
         "4",
         "22009",
         "Avoyelles Parish",
         "24.8",
         "POLYGON ((-92.280738 30.965071, -92.208605 30.962171, -92.216729 30.991373, -92.227124 31.074759, -92.232265 31.116243, -92.22458 31.144144, -92.233811 31.151496, -92.232821 31.255703, -92.233231 31.318816, -92.221837 31.331667, -92.211065 31.327402, -92.193856 31.333904, -92.178268 31.323295, -92.176738 31.311206, -92.16236 31.300341, -92.126063 31.306045, -92.086718 31.335374, -92.081357 31.324143, -92.025948 31.343009, -92.008033 31.325809, -92.007155 31.306639, -91.996456 31.29965, -92.023515 31.284634, -92.009849 31.282507, -92.002682 31.258079, -91.988022 31.248897, -92.004242 31.243457, -91.994828 31.229561, -91.973862 31.225333, -91.962675 31.242321, -91.946569 31.239667, -91.940962 31.221518, -91.922625 31.237892, -91.935391 31.238433, -91.946522 31.271981, -91.934305 31.289855, -91.922727 31.295901, -91.908924 31.296789, -91.885307 31.290084, -91.869676 31.280713, -91.854853 31.264282, -91.83428 31.266344, -91.814197 31.250968, -91.811001 31.237087, -91.777566 31.222047, -91.75846 31.222245, -91.73837 31.204001, -91.721856 31.19955, -91.70815 31.208923, -91.690959 31.201906, -91.677302 31.188047, -91.687263 31.161928, -91.702705 31.161812, -91.719004 31.134616, -91.715938 31.116982, -91.703787 31.103566, -91.716257 31.093342, -91.710309 31.078327, -91.723804 31.044254, -91.747552 31.023223, -91.750119 31.018814, -91.774174 31.002637, -91.780473 30.986694, -91.796521 30.982842, -91.805963 30.972558, -91.80018 30.924621, -91.804324 30.863713, -91.823072 30.856354, -91.815258 30.848107, -91.949037 30.849353, -92.02998 30.849462, -92.057016 30.849628, -92.100518 30.849964, -92.212593 30.848609, -92.237794 30.84828, -92.238281 30.892158, -92.280715 30.935954, -92.280738 30.965071))"
        ],
        [
         "5",
         "22011",
         "Beauregard Parish",
         "16.3",
         "POLYGON ((-93.740253 30.539569, -93.729195 30.544842, -93.725847 30.556978, -93.727746 30.566487, -93.727844 30.57407, -93.712454 30.588479, -93.692869 30.594382, -93.689534 30.592759, -93.687282 30.591601, -93.684329 30.592586, -93.681235 30.596102, -93.679828 30.599758, -93.680813 30.602993, -93.683397 30.608041, -93.685121 30.625201, -93.6831 30.640763, -93.6710395965905 30.6571050074757, -93.670354 30.658034, -93.654971 30.670184, -93.638213 30.673058, -93.629904 30.67994, -93.621093 30.695159, -93.620774 30.704122, -93.616184 30.71398, -93.611192 30.718053, -93.609544 30.723139, -93.609719 30.729182, -93.617688 30.738479, -93.619129 30.742002, -93.607757 30.757657, -93.592828 30.763986, -93.589896 30.77776, -93.589381 30.786681, -93.584265 30.796663, -93.578395 30.802047, -93.569303 30.802969, -93.563243 30.806218, -93.561666 30.807739, -93.554057 30.824941, -93.553626 30.83514, -93.558172 30.839974, -93.5586079008481 30.8688218201739, -93.543939 30.879827, -93.530308 30.880222, -93.478718 30.859183, -93.460761 30.866583, -93.435869 30.881495, -93.421505 30.882814, -93.353589 30.88301, -93.282503 30.882974, -93.247055 30.883089, -93.23547 30.883035, -93.155368 30.883591, -93.133954 30.877772, -93.029459 30.879699, -92.978673 30.878136, -92.977146 30.751571, -92.979098 30.597995, -93.130732 30.598093, -93.130809 30.56429, -93.131188 30.518283, -93.131155 30.423591, -93.131224 30.403058, -93.232867 30.402984, -93.283139 30.402886, -93.378232 30.402622, -93.385189 30.406553, -93.384422 30.460728, -93.384521 30.490166, -93.43616 30.490355, -93.486325 30.490523, -93.486298 30.475454, -93.486197 30.415633, -93.486159 30.402547, -93.526311 30.402811, -93.739980621181 30.4025343526071, -93.722314 30.420729, -93.702665 30.429947, -93.6978 30.440583, -93.697828 30.443838, -93.705845 30.457748, -93.716678 30.494006, -93.710117 30.5064, -93.714322 30.518562, -93.727721 30.525671, -93.732793 30.52996, -93.740253 30.539569))"
        ],
        [
         "6",
         "22013",
         "Bienville Parish",
         "22.5",
         "POLYGON ((-93.428644 32.235273, -93.408126 32.250517, -93.407172 32.284401, -93.41746 32.283579, -93.422015 32.312121, -93.402923 32.368727, -93.424582 32.377261, -93.42338 32.39774, -93.412466 32.400865, -93.388612 32.396441, -93.372722 32.41019, -93.364388 32.410203, -93.326031 32.410227, -93.319192 32.410013, -93.276082 32.410021, -93.236922 32.410161, -93.237242 32.454349, -93.14765 32.454671, -93.146446 32.469962, -93.171274 32.526369, -93.168158 32.549719, -93.178751 32.584808, -92.983146 32.585003, -92.880926 32.585265, -92.879897 32.509603, -92.879586 32.465118, -92.879461 32.454017, -92.776982 32.453611, -92.774016 32.243084, -92.787498 32.21497, -92.801279 32.207244, -92.798816 32.181325, -92.817149 32.161698, -92.815344 32.147413, -92.939092 32.14792, -93.097793 32.148369, -93.098496 32.148328, -93.187138 32.148509, -93.191901 32.178362, -93.211144 32.192231, -93.213143 32.235757, -93.313471 32.235956, -93.422064 32.236161, -93.428644 32.235273))"
        ],
        [
         "7",
         "22015",
         "Bossier Parish",
         "14.4",
         "POLYGON ((-93.826597 32.966734, -93.804092 32.962626, -93.805313 32.973807, -93.822527 32.967191, -93.820511 32.989263, -93.81103 33.001473, -93.823129 33.009651, -93.8145980510626 33.0193719645896, -93.814553 33.019372, -93.8071375448562 33.019378905277, -93.723273 33.019457, -93.6748936476859 33.0192516499902, -93.531499 33.018643, -93.524916 33.018637, -93.520992930177 33.0186161167386, -93.516315 33.002541, -93.530405 32.975397, -93.508922 32.935789, -93.470462 32.913286, -93.482623 32.903867, -93.463841 32.86844, -93.450783 32.87023, -93.460263 32.81404, -93.471175 32.811906, -93.459702 32.806231, -93.473797 32.783172, -93.469744 32.761228, -93.455012 32.761326, -93.444867 32.761395, -93.44546 32.644064, -93.446216 32.535519, -93.446218 32.535128, -93.446498 32.497972, -93.441103 32.483637, -93.441401 32.427561, -93.44115 32.410468, -93.372722 32.41019, -93.388612 32.396441, -93.412466 32.400865, -93.42338 32.39774, -93.424582 32.377261, -93.402923 32.368727, -93.422015 32.312121, -93.41746 32.283579, -93.407172 32.284401, -93.408126 32.250517, -93.428644 32.235273, -93.459253 32.235148, -93.469441 32.237181, -93.471247 32.248427, -93.48605 32.257185, -93.480343 32.242073, -93.49022 32.243585, -93.492204 32.265582, -93.510609 32.276063, -93.524803 32.274003, -93.514407 32.297087, -93.539354 32.28992, -93.537114 32.304861, -93.528165 32.313212, -93.538862 32.31838, -93.545009 32.306454, -93.555323 32.331423, -93.582402 32.328516, -93.588454 32.348934, -93.61513 32.348332, -93.603915 32.379218, -93.625616 32.361915, -93.631086 32.384555, -93.624561 32.397149, -93.645936 32.379323, -93.648589 32.388024, -93.635741 32.39593, -93.659041 32.406058, -93.667969 32.404074, -93.663343 32.387819, -93.687057 32.398121, -93.686675 32.407048, -93.659921 32.415706, -93.673174 32.416362, -93.691777 32.422794, -93.680046 32.433583, -93.661396 32.427624, -93.693065 32.448047, -93.68444 32.458796, -93.701159 32.481575, -93.69619 32.490476, -93.698589 32.49294, -93.703462 32.494301, -93.71765 32.488457, -93.705284 32.497501, -93.725716 32.507669, -93.742093 32.514146, -93.744886 32.520102, -93.767579 32.541385, -93.750825 32.543401, -93.7289 32.533794, -93.740397 32.550873, -93.766419 32.553334, -93.738868 32.576335, -93.739474 32.590773, -93.770643 32.593397, -93.74593 32.603357, -93.759971 32.606107, -93.754375 32.614338, -93.756802 32.636746, -93.776719 32.656121, -93.757406 32.664964, -93.757538 32.675441, -93.78614 32.667073, -93.786725 32.68733, -93.782111 32.712212, -93.787129 32.724641, -93.802562 32.72616, -93.819091 32.710869, -93.826268 32.716593, -93.823221 32.735142, -93.791111 32.759273, -93.783233 32.78436, -93.78729 32.794313, -93.80323 32.797078, -93.816831 32.782333, -93.824304 32.791998, -93.816949 32.801169, -93.798491 32.80758, -93.788164 32.827213, -93.787014 32.861274, -93.799553 32.84688, -93.814747 32.851593, -93.802824 32.860263, -93.801147 32.871361, -93.820313 32.88434, -93.82085 32.901971, -93.801967 32.931806, -93.82357 32.946394, -93.842597 32.946764, -93.826597 32.966734))"
        ],
        [
         "8",
         "22017",
         "Caddo Parish",
         "20.5",
         "POLYGON ((-94.043147 32.693031, -94.043135204709 32.6974518750617, -94.042947 32.767991, -94.043027 32.776863, -94.042938 32.780558, -94.042829 32.785277, -94.042747 32.786973, -94.043026 32.797476, -94.042785 32.871486, -94.043025 32.880446, -94.042886 32.880965, -94.0428857174211 32.881088560255, -94.042859 32.892771, -94.042885 32.898911, -94.043092 32.910021, -94.043067 32.937903, -94.043088 32.955592, -94.0429860440402 33.0079077407455, -94.042964 33.019219, -94.041444 33.019188, -94.035839 33.019145, -94.027983 33.019139, -94.024475 33.019207, -93.8145980510626 33.0193719645896, -93.823129 33.009651, -93.81103 33.001473, -93.820511 32.989263, -93.822527 32.967191, -93.805313 32.973807, -93.804092 32.962626, -93.826597 32.966734, -93.842597 32.946764, -93.82357 32.946394, -93.801967 32.931806, -93.82085 32.901971, -93.820313 32.88434, -93.801147 32.871361, -93.802824 32.860263, -93.814747 32.851593, -93.799553 32.84688, -93.787014 32.861274, -93.788164 32.827213, -93.798491 32.80758, -93.816949 32.801169, -93.824304 32.791998, -93.816831 32.782333, -93.80323 32.797078, -93.78729 32.794313, -93.783233 32.78436, -93.791111 32.759273, -93.823221 32.735142, -93.826268 32.716593, -93.819091 32.710869, -93.802562 32.72616, -93.787129 32.724641, -93.782111 32.712212, -93.786725 32.68733, -93.78614 32.667073, -93.757538 32.675441, -93.757406 32.664964, -93.776719 32.656121, -93.756802 32.636746, -93.754375 32.614338, -93.759971 32.606107, -93.74593 32.603357, -93.770643 32.593397, -93.739474 32.590773, -93.738868 32.576335, -93.766419 32.553334, -93.740397 32.550873, -93.7289 32.533794, -93.750825 32.543401, -93.767579 32.541385, -93.744886 32.520102, -93.742093 32.514146, -93.725716 32.507669, -93.705284 32.497501, -93.71765 32.488457, -93.703462 32.494301, -93.698589 32.49294, -93.69619 32.490476, -93.701159 32.481575, -93.68444 32.458796, -93.693065 32.448047, -93.661396 32.427624, -93.680046 32.433583, -93.691777 32.422794, -93.673174 32.416362, -93.659921 32.415706, -93.686675 32.407048, -93.687057 32.398121, -93.663343 32.387819, -93.667969 32.404074, -93.659041 32.406058, -93.635741 32.39593, -93.648589 32.388024, -93.645936 32.379323, -93.624561 32.397149, -93.631086 32.384555, -93.625616 32.361915, -93.603915 32.379218, -93.61513 32.348332, -93.588454 32.348934, -93.582402 32.328516, -93.555323 32.331423, -93.545009 32.306454, -93.538862 32.31838, -93.528165 32.313212, -93.537114 32.304861, -93.539354 32.28992, -93.514407 32.297087, -93.524803 32.274003, -93.510609 32.276063, -93.492204 32.265582, -93.49022 32.243585, -93.480343 32.242073, -93.48605 32.257185, -93.471247 32.248427, -93.469441 32.237181, -93.61469 32.237526, -93.614162 32.265101, -93.623697 32.283285, -93.66171 32.315089, -93.718066 32.318423, -93.725714 32.32846, -93.763631 32.344738, -93.791323 32.340197, -93.799429 32.333276, -93.808716 32.311705, -93.828444 32.302295, -93.852105 32.289669, -93.860327 32.253673, -93.862277 32.253034, -93.889044 32.232367, -93.951212 32.195625, -94.0426206400517 32.196064957593, -94.042662 32.218146, -94.0426713139795 32.2249949682951, -94.042732 32.26962, -94.042733 32.269696, -94.042739 32.363559, -94.042763 32.373332, -94.0427633405262 32.3733787631245, -94.042901 32.392283, -94.042923 32.399918, -94.042899 32.400659, -94.042986 32.435507, -94.042908 32.439891, -94.0429044875304 32.4613135522125, -94.042903 32.470386, -94.042875 32.471348, -94.042902 32.472906, -94.042995 32.478004, -94.042955 32.480261, -94.043072 32.4843, -94.043089 32.486561, -94.042911 32.492852, -94.042885 32.505145, -94.043081 32.513613, -94.0430844914233 32.5162395233847, -94.043142 32.559502, -94.0431416190152 32.5595327306181, -94.043083 32.564261, -94.042919 32.610142, -94.042929 32.61826, -94.042926 32.622015, -94.042824 32.640305, -94.04278 32.643466, -94.042913 32.655127, -94.0431469938267 32.6930300000381, -94.043147 32.693031))"
        ],
        [
         "9",
         "22019",
         "Calcasieu Parish",
         "17.4",
         "POLYGON ((-93.765822 30.333318, -93.756352 30.356166, -93.755894 30.370709, -93.7580151173828 30.3837610486169, -93.758554 30.387077, -93.757654 30.390423, -93.751437 30.396288, -93.745333 30.397022, -93.739980621181 30.4025343526071, -93.526311 30.402811, -93.486159 30.402547, -93.486197 30.415633, -93.486298 30.475454, -93.486325 30.490523, -93.43616 30.490355, -93.384521 30.490166, -93.384422 30.460728, -93.385189 30.406553, -93.378232 30.402622, -93.283139 30.402886, -93.232867 30.402984, -93.131224 30.403058, -93.131087 30.380008, -93.091176 30.379765, -93.030959 30.37939, -93.030728 30.260564, -92.997128 30.260743, -92.997033 30.25016, -92.996519 30.216606, -92.9963 30.156955, -92.893247 30.15651, -92.889115 30.143406, -92.906865 30.130812, -92.907896 30.112734, -92.891522 30.09661, -92.887222 30.083455, -92.996479 30.082593, -92.996624 30.038481, -93.128409 30.03837, -93.128475 30.052709, -93.213029 30.051892, -93.300963 30.051953, -93.312641 30.052187, -93.530545 30.051848, -93.7214113823105 30.0524687204968, -93.720805 30.053043, -93.70394 30.054291, -93.70082 30.056274, -93.699396 30.05925, -93.70058 30.063666, -93.70218 30.065474, -93.716405 30.069122, -93.731605 30.081282, -93.734085 30.08613, -93.732485 30.088914, -93.7270269963674 30.092178787494, -93.723765 30.09413, -93.702436 30.112721, -93.7017323153625 30.1273741627846, -93.7017253192653 30.1275198458735, -93.701252 30.137376, -93.698276 30.138608, -93.69498 30.135185, -93.692868 30.135217, -93.688212 30.141376, -93.697748 30.152944, -93.703764 30.173936, -93.7058009405353 30.1759823595622, -93.710468 30.180671, -93.717397 30.193439, -93.720946 30.209852, -93.71922 30.218542, -93.713359 30.225261, -93.705083 30.242752, -93.705519312533 30.244184772189, -93.707271 30.249937, -93.709132 30.271827, -93.70719 30.275513, -93.706608 30.281187, -93.708645 30.288317, -93.711118 30.291372, -93.714319 30.294282, -93.718684 30.29501, -93.72422 30.295134, -93.738699 30.303794, -93.760328 30.329924, -93.764265 30.330223, -93.765822 30.333318))"
        ],
        [
         "10",
         "22021",
         "Caldwell Parish",
         "20.6",
         "POLYGON ((-92.311937 32.146036, -92.312163 32.277348, -92.164816 32.276697, -92.152716 32.264668, -92.15264 32.258833, -92.106327 32.25873, -92.106498 32.276886, -92.034473 32.277237, -91.993367 32.276795, -91.996989 32.246383, -92.005402 32.228909, -91.992589 32.227093, -91.998233 32.211532, -91.984835 32.223089, -91.977979 32.216175, -92.006391 32.201628, -92.000132 32.190393, -91.975255 32.20429, -91.982313 32.193292, -91.975908 32.17718, -91.980603 32.166634, -91.954852 32.173558, -91.932756 32.165236, -91.910586 32.16906, -91.892892 32.162799, -91.894729 32.15155, -91.894385 32.137987, -91.883078 32.132347, -91.869477 32.115354, -91.874466 32.104064, -91.868202 32.091555, -91.898017 32.085565, -91.903527 32.075809, -91.911081 32.08504, -91.933229 32.066882, -91.922108 32.066297, -91.909014 32.04621, -91.898496 32.040193, -91.902815 32.025444, -91.894379 32.010551, -91.902051 31.995805, -91.889823 31.97169, -91.904501 31.971399, -91.903565 31.927457, -91.938433 31.927402, -92.005624 31.927383, -92.202485 31.92777, -92.312518 31.927656, -92.311937 32.146036))"
        ],
        [
         "11",
         "22023",
         "Cameron Parish",
         "12.9",
         "POLYGON ((-93.929208 29.802952, -93.927992 29.80964, -93.922744 29.818808, -93.91636 29.824968, -93.9111523582365 29.8289653447748, -93.900728 29.836967, -93.890679 29.843159, -93.872446 29.85165, -93.86357 29.857177, -93.85514 29.864099, -93.8543426408309 29.8649909997958, -93.838374 29.882855, -93.830374 29.894359, -93.818998 29.914822, -93.81655 29.920726, -93.813735 29.935126, -93.807815 29.954549, -93.789431 29.987812, -93.786935 29.99058, -93.7535964278862 30.0131108172881, -93.741078 30.021571, -93.739734 30.023987, -93.739158 30.032627, -93.737446 30.037283, -93.7214113823105 30.0524687204968, -93.530545 30.051848, -93.312641 30.052187, -93.300963 30.051953, -93.213029 30.051892, -93.128475 30.052709, -93.128409 30.03837, -92.996624 30.038481, -92.845637 30.038709, -92.753676 30.0391, -92.737217 30.037455, -92.616033 30.03826, -92.6146 29.919167, -92.6160809217819 29.5858204720519, -92.655029 29.596102, -92.741306 29.622139, -92.786465 29.641146, -92.879992 29.680285, -92.947493 29.708777, -92.993128 29.723846, -93.031157 29.736333, -93.088182 29.749125, -93.17693 29.770487, -93.226934 29.777519, -93.228625 29.7775437878683, -93.267456 29.778113, -93.295573 29.775071, -93.346439 29.762643, -93.380563 29.765606, -93.438973 29.768949, -93.475252 29.769242, -93.538462 29.763299, -93.590786 29.755649, -93.635304 29.752806, -93.68364 29.747153, -93.741948 29.736343, -93.766048 29.7295, -93.79925 29.71526, -93.818995 29.704076, -93.8279503319557 29.6977252463044, -93.837971 29.690619, -93.8383085328739 29.6910663149963, -93.863204 29.724059, -93.87002 29.735482, -93.873941 29.73777, -93.888821 29.742234, -93.891637 29.744618, -93.893829 29.753033, -93.890821 29.761673, -93.893862 29.767289, -93.89847 29.771577, -93.922407 29.785048, -93.926504 29.78956, -93.928808 29.79708, -93.929208 29.802952))"
        ],
        [
         "12",
         "22025",
         "Catahoula Parish",
         "24.5",
         "POLYGON ((-92.023515 31.284634, -91.996456 31.29965, -92.007155 31.306639, -92.008033 31.325809, -92.008498 31.589747, -92.008483 31.728762, -92.005855 31.796449, -92.005624 31.927383, -91.938433 31.927402, -91.903565 31.927457, -91.904501 31.971399, -91.889823 31.97169, -91.851547 31.953259, -91.84522 31.959319, -91.850289 31.944862, -91.823547 31.917816, -91.804797 31.918466, -91.794975 31.902869, -91.804869 31.893193, -91.779711 31.888523, -91.781827 31.872462, -91.756667 31.884686, -91.729158 31.88251, -91.69659 31.9035, -91.682169 31.923516, -91.670325 31.925313, -91.647529 31.970525, -91.596437 31.970401, -91.597042 31.883243, -91.575346 31.883266, -91.56873 31.826961, -91.577653 31.795857, -91.544791 31.751731, -91.535305 31.73773, -91.548234 31.722659, -91.571204 31.735048, -91.584021 31.755764, -91.601622 31.761864, -91.614125 31.745557, -91.635822 31.729119, -91.662466 31.729368, -91.68035 31.743641, -91.694469 31.735286, -91.701676 31.70298, -91.714273 31.675992, -91.705948 31.642863, -91.712166 31.633229, -91.737189 31.614088, -91.756123 31.62267, -91.764476 31.644154, -91.775836 31.648626, -91.806261 31.63104, -91.812005 31.623035, -91.815374 31.618675, -91.824969 31.598003, -91.826426 31.572472, -91.813026 31.554872, -91.779725 31.530973, -91.77704 31.515311, -91.784124 31.502273, -91.802062 31.491104, -91.798754 31.473354, -91.778953 31.468115, -91.738032 31.46741, -91.727781 31.463586, -91.720888 31.449543, -91.724119 31.438833, -91.738331 31.431572, -91.766493 31.433135, -91.784556 31.441381, -91.807098 31.438794, -91.824156 31.490419, -91.833825 31.500874, -91.847932 31.501652, -91.855908 31.49601, -91.855678 31.480205, -91.86413 31.466167, -91.855889 31.423831, -91.845524 31.409495, -91.81703 31.395619, -91.785669 31.395021, -91.776779 31.385215, -91.78929 31.374647, -91.808047 31.370718, -91.831618 31.378987, -91.845019 31.375916, -91.8633 31.354448, -91.867422 31.316187, -91.862168 31.302314, -91.841027 31.29244, -91.823646 31.29321, -91.823671 31.277577, -91.83428 31.266344, -91.854853 31.264282, -91.869676 31.280713, -91.885307 31.290084, -91.908924 31.296789, -91.922727 31.295901, -91.934305 31.289855, -91.946522 31.271981, -91.935391 31.238433, -91.922625 31.237892, -91.940962 31.221518, -91.946569 31.239667, -91.962675 31.242321, -91.973862 31.225333, -91.994828 31.229561, -92.004242 31.243457, -91.988022 31.248897, -92.002682 31.258079, -92.009849 31.282507, -92.023515 31.284634))"
        ],
        [
         "13",
         "22027",
         "Claiborne Parish",
         "23.9",
         "POLYGON ((-93.238607 33.017992, -93.2232426620064 33.0182604107143, -93.215653 33.018393, -93.197402 33.017951, -93.1579189495257 33.017863873341, -93.154351 33.017856, -93.1197298546433 33.0177800936558, -93.101443 33.01774, -93.100981 33.017786, -93.081428 33.017928, -93.073167 33.017898, -93.070686 33.017792, -92.9887766133733 33.0172983171707, -92.971137 33.017192, -92.9709650314843 33.0171893068712, -92.946553 33.016807, -92.86751 33.016062, -92.854167 33.016132, -92.844286 33.01607, -92.844073 33.016034, -92.830798 33.015661, -92.796533 33.014836, -92.733197 33.014347, -92.724994 33.014351, -92.7247428295372 33.0143469910336, -92.725435 32.832453, -92.734048 32.818155, -92.72544 32.803311, -92.725407 32.759443, -92.827976 32.759432, -92.828374 32.714654, -92.863787 32.687918, -92.868775 32.678001, -92.86027 32.641413, -92.866606 32.607227, -92.880926 32.585265, -92.983146 32.585003, -93.178751 32.584808, -93.173589 32.633068, -93.186294 32.687231, -93.186698 32.716227, -93.214006 32.716085, -93.237744 32.715973, -93.237704 32.752755, -93.237774 32.770588, -93.2386472755819 33.0179920949377, -93.238607 33.017992))"
        ],
        [
         "14",
         "22029",
         "Concordia Parish",
         "25.6",
         "POLYGON ((-91.8633 31.354448, -91.845019 31.375916, -91.831618 31.378987, -91.808047 31.370718, -91.78929 31.374647, -91.776779 31.385215, -91.785669 31.395021, -91.81703 31.395619, -91.845524 31.409495, -91.855889 31.423831, -91.86413 31.466167, -91.855678 31.480205, -91.855908 31.49601, -91.847932 31.501652, -91.833825 31.500874, -91.824156 31.490419, -91.807098 31.438794, -91.784556 31.441381, -91.766493 31.433135, -91.738331 31.431572, -91.724119 31.438833, -91.720888 31.449543, -91.727781 31.463586, -91.738032 31.46741, -91.778953 31.468115, -91.798754 31.473354, -91.802062 31.491104, -91.784124 31.502273, -91.77704 31.515311, -91.779725 31.530973, -91.813026 31.554872, -91.826426 31.572472, -91.824969 31.598003, -91.815374 31.618675, -91.812005 31.623035, -91.806261 31.63104, -91.775836 31.648626, -91.764476 31.644154, -91.756123 31.62267, -91.737189 31.614088, -91.712166 31.633229, -91.705948 31.642863, -91.714273 31.675992, -91.701676 31.70298, -91.694469 31.735286, -91.68035 31.743641, -91.662466 31.729368, -91.635822 31.729119, -91.614125 31.745557, -91.601622 31.761864, -91.584021 31.755764, -91.571204 31.735048, -91.548234 31.722659, -91.535305 31.73773, -91.544791 31.751731, -91.540831 31.752244, -91.437872 31.750856, -91.39829 31.753212, -91.377992 31.747585, -91.3800788050052 31.7327598853811, -91.380915 31.732464, -91.397115 31.711364, -91.397915 31.709364, -91.400015 31.697864, -91.400115 31.688164, -91.398015 31.662665, -91.395715 31.644165, -91.396115 31.639265, -91.398315 31.626265, -91.401015 31.620365, -91.416498 31.613133, -91.421116 31.611565, -91.429616 31.611365, -91.436716 31.612665, -91.463817 31.620365, -91.474318 31.625365, -91.479818 31.628965, -91.482618 31.631565, -91.487518 31.637065, -91.490027 31.641, -91.492748 31.644279, -91.494478 31.645013, -91.497665 31.645371, -91.499278 31.644658, -91.50731 31.639068, -91.512336 31.634722, -91.515462 31.630372, -91.516659 31.627332, -91.517921 31.618642, -91.517233 31.61346, -91.516567 31.611818, -91.5148155315998 31.6093889885807, -91.51301 31.606885, -91.502783 31.595727, -91.494118 31.590165, -91.488618 31.587466, -91.485218 31.586166, -91.479418 31.585466, -91.4671464203883 31.5860280141796, -91.466317 31.586066, -91.457517 31.587566, -91.436316 31.594965, -91.430716 31.596465, -91.422716 31.597065, -91.417115 31.596265, -91.413015 31.595365, -91.403915 31.589766, -91.405415 31.576466, -91.406615 31.571966, -91.4077734 31.5696492, -91.407915 31.569366, -91.414915 31.562166, -91.4198546253413 31.5589018357887, -91.426416 31.554566, -91.437616 31.546166, -91.443916 31.542466, -91.450017 31.539666, -91.479718 31.530366, -91.481318 31.530666, -91.483918 31.532566, -91.489618 31.534266, -91.500118 31.532616, -91.506719 31.532966, -91.511217 31.532612, -91.513963 31.532084, -91.51581 31.530894, -91.5180421394486 31.5281282861348, -91.521445 31.523912, -91.522536 31.522078, -91.52292 31.519841, -91.522862 31.517493, -91.520579 31.513207, -91.516759 31.511772, -91.514917 31.510113, -91.515157 31.50338, -91.51714 31.498394, -91.518148 31.483483, -91.516999 31.460574, -91.51513 31.449206, -91.513366 31.444396, -91.510356 31.438928, -91.506423 31.43146, -91.500046 31.42052, -91.49004 31.412716, -91.48023 31.404391, -91.476926 31.397796, -91.472065 31.395925, -91.472149 31.391434, -91.471992 31.382143, -91.471098 31.376917, -91.472465 31.371326, -91.47887 31.364955, -91.504163 31.36495, -91.508075 31.366276, -91.515978 31.370286, -91.521836 31.37517, -91.52695 31.380855, -91.532336 31.390275, -91.539458 31.414021, -91.539504 31.41791, -91.537002 31.423184, -91.537137 31.424161, -91.540647 31.430758, -91.541626 31.431706, -91.545013 31.433026, -91.548465 31.432668, -91.55275 31.430692, -91.554805 31.42857, -91.565179 31.423447, -91.570092 31.419487, -91.576265 31.410498, -91.578246 31.403859, -91.578334 31.399067, -91.573931 31.390886, -91.571234 31.384664, -91.568953 31.377629, -91.562555 31.383219, -91.560524 31.384559, -91.55568 31.386413, -91.552432 31.385658, -91.546207 31.38248, -91.546607 31.381198, -91.549915 31.376315, -91.551002 31.363645, -91.550869 31.360574, -91.548894 31.353998, -91.548967 31.347255, -91.545617 31.343762, -91.536061 31.338355, -91.533206 31.333225, -91.531657 31.331801, -91.518509 31.323332, -91.510049 31.316822, -91.50866 31.315131, -91.507977 31.312943, -91.508296 31.295829, -91.508858 31.291644, -91.512085 31.284177, -91.515614 31.27821, -91.518578 31.275283, -91.537734 31.267369, -91.553905 31.26305, -91.564192 31.261633, -91.574493 31.261289, -91.587749 31.262563, -91.606672 31.2659, -91.621358 31.267811, -91.637672 31.26768, -91.641253 31.266917, -91.648669 31.262238, -91.651369 31.259528, -91.654027 31.255753, -91.655009 31.251815, -91.654907 31.250175, -91.652019 31.242691, -91.644356 31.234414, -91.625119 31.226071, -91.601616 31.208573, -91.595029 31.201969, -91.590051 31.193693, -91.5894512930811 31.1911399311563, -91.588939 31.188959, -91.588695 31.181025, -91.589046 31.178586, -91.591502 31.173118, -91.597062 31.163492, -91.599732 31.159592, -91.604197 31.154545, -91.621671 31.13687, -91.624217 31.133729, -91.625118 31.131879, -91.625707 31.128763, -91.626476 31.119125, -91.625994 31.116896, -91.621535 31.110257, -91.61857 31.107328, -91.614763 31.104357, -91.609523 31.101557, -91.594693 31.091444, -91.567648 31.070186, -91.56415 31.06683, -91.561283 31.060906, -91.559907 31.054119, -91.560365 31.049508, -91.561232 31.046225, -91.564397 31.038965, -91.571695 31.029782, -91.578413 31.02403, -91.590463 31.01727, -91.60649 31.011216, -91.625118 31.005374, -91.636942 30.999416, -91.648766 30.983167, -91.662506 30.970362, -91.663142 30.984393, -91.658321 30.994365, -91.644117 31.022516, -91.649246 31.037183, -91.659808 31.043991, -91.696606 31.039186, -91.723804 31.044254, -91.710309 31.078327, -91.716257 31.093342, -91.703787 31.103566, -91.715938 31.116982, -91.719004 31.134616, -91.702705 31.161812, -91.687263 31.161928, -91.677302 31.188047, -91.690959 31.201906, -91.70815 31.208923, -91.721856 31.19955, -91.73837 31.204001, -91.75846 31.222245, -91.777566 31.222047, -91.811001 31.237087, -91.814197 31.250968, -91.83428 31.266344, -91.823671 31.277577, -91.823646 31.29321, -91.841027 31.29244, -91.862168 31.302314, -91.867422 31.316187, -91.8633 31.354448))"
        ],
        [
         "15",
         "22031",
         "De Soto Parish",
         "19.5",
         "POLYGON ((-94.042681 32.137956, -94.042591 32.158097, -94.042539 32.166826, -94.042566 32.166894, -94.0426206400517 32.196064957593, -93.951212 32.195625, -93.889044 32.232367, -93.862277 32.253034, -93.860327 32.253673, -93.852105 32.289669, -93.828444 32.302295, -93.808716 32.311705, -93.799429 32.333276, -93.791323 32.340197, -93.763631 32.344738, -93.725714 32.32846, -93.718066 32.318423, -93.66171 32.315089, -93.623697 32.283285, -93.614162 32.265101, -93.61469 32.237526, -93.593377 32.205679, -93.554768 32.192312, -93.535963 32.193126, -93.523416 32.176991, -93.520735 32.144621, -93.509505 32.132179, -93.522627 32.125681, -93.541264 32.10473, -93.514161 32.085811, -93.501553 32.062975, -93.479821 32.056382, -93.481179 32.032031, -93.460366 32.020259, -93.458522 32.007001, -93.441506 31.98918, -93.406336 31.98778, -93.400552 31.978308, -93.372622 31.961663, -93.366076 31.935752, -93.355452 31.932222, -93.377907 31.932712, -93.398813 31.91791, -93.420165 31.933964, -93.429557 31.925344, -93.440369 31.913868, -93.441171 31.845233, -93.747073 31.844972, -93.875187 31.844237, -93.8792944619865 31.8439767742438, -93.8804161785027 31.8448209277705, -93.884117 31.847606, -93.888149 31.856914, -93.889197 31.867693, -93.896981 31.873382, -93.901888 31.880063, -93.901173 31.885958, -93.904766 31.890599, -93.909557 31.893144, -93.915949 31.892861, -93.919588 31.890748, -93.923929 31.88985, -93.927672 31.891497, -93.932463 31.895539, -93.935008 31.903773, -93.938002 31.906917, -93.943541 31.908564, -93.953546 31.910563, -93.971712 31.920384, -93.977461 31.926419, -93.9815176675899 31.9327619059247, -94.0127962602173 31.9816683460243, -94.018664 31.990843, -94.029283 31.995865, -94.038412 31.992437, -94.041833 31.992402, -94.04272 31.999265, -94.0427199978854 31.9992709999993, -94.0427 32.056012, -94.042337 32.119914, -94.042752 32.125163, -94.042681 32.137956))"
        ],
        [
         "16",
         "22033",
         "East Baton Rouge Parish",
         "18.0",
         "POLYGON ((-91.315282 30.594288, -91.292821 30.631539, -91.297658 30.649548, -91.289356 30.678011, -91.27062 30.680846, -91.254736 30.704912, -91.213864 30.706481, -91.144969 30.708917, -91.078975 30.711247, -91.053363 30.712152, -90.848768 30.719458, -90.844181 30.708047, -90.870916 30.693329, -90.910701 30.649385, -90.940641 30.620376, -90.939837 30.608952, -90.958215 30.598641, -90.980497 30.589081, -90.985103 30.585601, -90.987906 30.572643, -90.971302 30.562687, -90.980931 30.535555, -90.96789 30.504381, -90.975761 30.497947, -90.970035 30.495571, -90.973126 30.491844, -90.974807 30.481763, -90.976255 30.467473, -90.989892 30.46488, -90.981142 30.451739, -90.985706 30.44761, -90.972402 30.440302, -90.981158 30.422263, -90.965794 30.414713, -90.957922 30.406076, -90.969401 30.405138, -90.968888 30.393287, -90.949197 30.394445, -90.936957 30.363913, -90.907063 30.361196, -90.90805 30.356018, -90.891728 30.345244, -90.910848 30.339502, -90.923852 30.34413, -90.939418 30.340313, -90.958892 30.345139, -90.974123 30.346933, -90.983178 30.343893, -90.992883 30.342749, -90.993064 30.342717, -91.014157 30.334779, -91.013825 30.330184, -91.014065 30.330029, -91.017168 30.326419, -91.021014 30.321489, -91.028645 30.315816, -91.098798 30.319537, -91.115459 30.312693, -91.142305 30.319893, -91.142105 30.323293, -91.151521 30.337809, -91.155872 30.339717, -91.174419 30.344187, -91.235808 30.344493, -91.241508 30.357592, -91.233908 30.375292, -91.212807 30.397091, -91.205707 30.407991, -91.199807 30.419091, -91.199056 30.422279, -91.196307 30.434691, -91.195906 30.43939, -91.195906 30.439493, -91.196007 30.44689, -91.196114 30.452699, -91.196207 30.45779, -91.196507 30.46389, -91.19653 30.469365, -91.200808 30.517689, -91.209308 30.522989, -91.262734 30.505238, -91.274406 30.504613, -91.284735 30.511598, -91.246058 30.535851, -91.244409 30.555888, -91.267121 30.572522, -91.305854 30.573027, -91.314406 30.578817, -91.315282 30.594288))"
        ],
        [
         "17",
         "22035",
         "East Carroll Parish",
         "36.0",
         "POLYGON ((-91.430908 32.560477, -91.445299 32.581956, -91.426574 32.599854, -91.396964 32.609468, -91.404971 32.627057, -91.395761 32.641025, -91.401733 32.669089, -91.398255 32.69298, -91.374887 32.689863, -91.377197 32.706279, -91.364203 32.729107, -91.343293 32.749654, -91.340947 32.817024, -91.347553 32.82256, -91.340361 32.859899, -91.326942 32.872337, -91.3204 32.863861, -91.310387 32.889541, -91.312234 32.913317, -91.302401 32.925891, -91.30938 32.935237, -91.296475 32.949137, -91.280203 32.950851, -91.267665 32.975081, -91.273883 32.987177, -91.262219 32.992372, -91.265018 33.005084, -91.166095 33.004291, -91.166195 33.002238, -91.168973 32.992132, -91.173308 32.986088, -91.182158 32.978639, -91.186983 32.976194, -91.197433 32.96482, -91.199646 32.963561, -91.201842 32.961212, -91.20203 32.957332, -91.20119 32.954982, -91.199415 32.952314, -91.20744 32.944393, -91.210705 32.939845, -91.21282 32.936076, -91.214027 32.93032, -91.213972 32.927198, -91.212837 32.922104, -91.211597 32.919624, -91.208263 32.915354, -91.199775 32.908512, -91.196785 32.906784, -91.181631 32.901446, -91.175405 32.899998, -91.170235 32.899391, -91.159975 32.899879, -91.15169 32.901935, -91.145076 32.905494, -91.134041 32.917676, -91.132115 32.923122, -91.131304 32.926919, -91.131289 32.930049, -91.135507 32.946164, -91.137863 32.952756, -91.137167 32.95652, -91.136628 32.957349, -91.133335 32.959056, -91.131243 32.960928, -91.130721 32.962257, -91.130947 32.963815, -91.13305 32.966541, -91.137524 32.96955, -91.138585 32.971352, -91.135517 32.979657, -91.134414 32.980533, -91.125107 32.984669, -91.111757 32.988361, -91.106581 32.988938, -91.09693 32.986412, -91.094265 32.984371, -91.090887 32.981174, -91.086802 32.976266, -91.080355 32.962794, -91.078904 32.951818, -91.080507 32.950123, -91.081892 32.949435, -91.083084 32.947909, -91.081913 32.944768, -91.080431 32.943206, -91.072075 32.937832, -91.070547 32.936036, -91.064804 32.926464, -91.063875 32.922692, -91.064854 32.91652, -91.063684 32.906364, -91.063809 32.903709, -91.064449 32.901064, -91.068186 32.891929, -91.070602 32.888659, -91.086683 32.873392, -91.105631 32.858396, -91.116091 32.855641, -91.124725 32.854861, -91.127886 32.855059, -91.13789 32.848975, -91.143559 32.844739, -91.145002 32.84287, -91.149704 32.83122, -91.152174 32.826673, -91.157155 32.823823, -91.158336 32.822304, -91.161669 32.812465, -91.1615150883724 32.8050023821331, -91.161412 32.800004, -91.164397 32.785821, -91.158583 32.781096, -91.156918 32.780343, -91.157614 32.776033, -91.164968 32.761984, -91.165814 32.757842, -91.165328 32.751301, -91.163389 32.747009, -91.15861 32.743449, -91.154461 32.742339, -91.150244 32.741786, -91.131691 32.743107, -91.123152 32.742798, -91.113652 32.73997, -91.090573 32.7361, -91.077176 32.732534, -91.060766 32.727494, -91.056999 32.72558, -91.054481 32.722259, -91.054749 32.719229, -91.057043 32.712576, -91.063946 32.702926, -91.076061 32.693751, -91.081145 32.691127, -91.098762 32.685291, -91.104443 32.682434, -91.118258 32.674075, -91.127723 32.665343, -91.130928 32.65887, -91.137638 32.650621, -91.138712 32.649774, -91.142038 32.649265, -91.144347 32.648029, -91.149753 32.644041, -91.152081 32.641508, -91.152699 32.640757, -91.153744 32.635228, -91.153821 32.631282, -91.153556 32.626181, -91.151318 32.615919, -91.146204 32.604144, -91.144074 32.600613, -91.141148 32.597209, -91.13528 32.591651, -91.127912 32.586493, -91.125108 32.585187, -91.119854 32.584795, -91.118641 32.585139, -91.112764 32.590186, -91.105704 32.590879, -91.087784 32.59707, -91.079506 32.60068, -91.061354 32.605372, -91.049796 32.607188, -91.0489 32.613556, -91.043263 32.620779, -91.041448 32.625135, -91.040401 32.632521, -91.038415 32.636443, -91.030181 32.644052, -91.025769 32.646573, -91.019115 32.643845, -91.014286 32.640482, -91.00682 32.631261, -91.0035 32.624845, -91.002962 32.622555, -91.002997 32.614678, -91.004599 32.60978, -91.010228 32.601927, -91.013723 32.598419, -91.016231 32.596953, -91.022943 32.591848, -91.030991 32.583347, -91.03617 32.579556, -91.0434509306582 32.5762695534421, -91.049312 32.573624, -91.069354 32.563052, -91.0702133080007 32.5625449638554, -91.1076 32.562272, -91.133144 32.537909, -91.169953 32.537805, -91.457614 32.537848, -91.430908 32.560477))"
        ],
        [
         "18",
         "22037",
         "East Feliciana Parish",
         "19.3",
         "POLYGON ((-91.320706 30.699417, -91.293103 30.715571, -91.285327 30.747587, -91.267553 30.757337, -91.24886 30.786429, -91.236153 30.790614, -91.242616 30.804611, -91.230589 30.810482, -91.226252 30.839978, -91.225517 30.869932, -91.217104 30.892945, -91.207776 30.918323, -91.18797 30.935608, -91.195246 30.962519, -91.182138 30.974454, -91.1761397522757 30.9991437308313, -91.108291 30.99888, -91.108114 30.998857, -91.080814 30.998909, -91.06827 30.99892, -91.0602129522528 30.9989529636044, -90.89473 30.99963, -90.8349414503027 30.9993950334277, -90.826027 30.99936, -90.8258293654941 30.9993604066554, -90.844211 30.982705, -90.845242 30.962524, -90.863041 30.941981, -90.845366 30.888574, -90.861408 30.870715, -90.844911 30.854959, -90.848207 30.839675, -90.834735 30.813177, -90.837545 30.798859, -90.850396 30.754326, -90.839794 30.719414, -90.848768 30.719458, -91.053363 30.712152, -91.078975 30.711247, -91.144969 30.708917, -91.213864 30.706481, -91.254736 30.704912, -91.27062 30.680846, -91.289356 30.678011, -91.297658 30.649548, -91.310061 30.653961, -91.305212 30.673382, -91.320706 30.699417))"
        ],
        [
         "19",
         "22039",
         "Evangeline Parish",
         "26.0",
         "POLYGON ((-92.630321 30.488012, -92.61415 30.506457, -92.623582 30.51883, -92.605186 30.52945, -92.582873 30.565876, -92.597537 30.581747, -92.598215 30.626415, -92.598841 30.801817, -92.597798 30.896001, -92.567254 30.896237, -92.547965 30.903084, -92.509137 30.895814, -92.498602 30.900109, -92.480124 30.918449, -92.48033 30.952271, -92.459669 30.955754, -92.43887 30.969792, -92.418651 30.974968, -92.409377 30.992288, -92.38021 31.000374, -92.341763 30.981503, -92.330778 30.963323, -92.310992 30.965162, -92.280738 30.965071, -92.280715 30.935954, -92.238281 30.892158, -92.237794 30.84828, -92.212593 30.848609, -92.21139 30.793157, -92.206915 30.78475, -92.172314 30.767914, -92.172484 30.673829, -92.193956 30.659333, -92.200451 30.656155, -92.202955 30.64393, -92.211517 30.617168, -92.211478 30.568127, -92.262356 30.568268, -92.262719 30.538738, -92.42078 30.53882, -92.424543 30.536776, -92.449371 30.534194, -92.458914 30.52793, -92.464347 30.495318, -92.493259 30.480499, -92.632025 30.481182, -92.630321 30.488012))"
        ],
        [
         "20",
         "22041",
         "Franklin Parish",
         "24.8",
         "POLYGON ((-91.933229 32.066882, -91.911081 32.08504, -91.903527 32.075809, -91.898017 32.085565, -91.868202 32.091555, -91.874466 32.104064, -91.869477 32.115354, -91.883078 32.132347, -91.894385 32.137987, -91.894729 32.15155, -91.872734 32.171824, -91.837285 32.176158, -91.820138 32.205047, -91.81294 32.222004, -91.792007 32.225673, -91.776729 32.238815, -91.769165 32.257188, -91.774117 32.277351, -91.76185 32.298504, -91.761786 32.334302, -91.743619 32.338631, -91.723188 32.333621, -91.703455 32.342497, -91.698824 32.369594, -91.680386 32.373144, -91.676501 32.383705, -91.658298 32.38617, -91.631049 32.40383, -91.635074 32.405768, -91.491964 32.4056, -91.476495 32.405564, -91.483197 32.402257, -91.475792 32.385148, -91.451705 32.368557, -91.465952 32.351053, -91.480532 32.35524, -91.484986 32.366535, -91.500529 32.347718, -91.494336 32.338652, -91.478094 32.342917, -91.472391 32.316529, -91.504107 32.313449, -91.50331 32.295191, -91.526719 32.300675, -91.523638 32.253045, -91.543021 32.259006, -91.557283 32.250693, -91.542457 32.23834, -91.525099 32.234326, -91.509891 32.245615, -91.514832 32.23077, -91.535966 32.221362, -91.547395 32.208444, -91.535881 32.204108, -91.493574 32.203247, -91.495029 32.148663, -91.505724 32.145774, -91.501224 32.10577, -91.509708 32.097847, -91.489761 32.092422, -91.50173 32.066378, -91.501705 32.045869, -91.510012 32.020539, -91.497342 32.010557, -91.498426 31.990728, -91.514782 31.985396, -91.512178 31.975355, -91.528204 31.959343, -91.512804 31.954092, -91.511374 31.930025, -91.525016 31.915519, -91.54322 31.913759, -91.569221 31.89356, -91.575346 31.883266, -91.597042 31.883243, -91.596437 31.970401, -91.647529 31.970525, -91.670325 31.925313, -91.682169 31.923516, -91.69659 31.9035, -91.729158 31.88251, -91.756667 31.884686, -91.781827 31.872462, -91.779711 31.888523, -91.804869 31.893193, -91.794975 31.902869, -91.804797 31.918466, -91.823547 31.917816, -91.850289 31.944862, -91.84522 31.959319, -91.851547 31.953259, -91.889823 31.97169, -91.902051 31.995805, -91.894379 32.010551, -91.902815 32.025444, -91.898496 32.040193, -91.909014 32.04621, -91.922108 32.066297, -91.933229 32.066882))"
        ],
        [
         "21",
         "22043",
         "Grant Parish",
         "19.6",
         "POLYGON ((-92.973529 31.708922, -92.667721 31.709398, -92.62086 31.709618, -92.619309 31.797288, -92.579384 31.797205, -92.362608 31.796633, -92.36134 31.79289, -92.352974 31.780395, -92.344924 31.754895, -92.358272 31.742726, -92.350709 31.738527, -92.360483 31.721462, -92.36837 31.723024, -92.372476 31.701519, -92.347739 31.696584, -92.350145 31.680736, -92.365728 31.672283, -92.360586 31.642913, -92.34676 31.628577, -92.367755 31.6259, -92.384441 31.619505, -92.34297 31.595824, -92.305002 31.587146, -92.32008 31.57173, -92.310231 31.573235, -92.298709 31.563248, -92.304568 31.553157, -92.286896 31.536584, -92.275088 31.536087, -92.276623 31.495385, -92.239461 31.501227, -92.24827 31.48448, -92.213969 31.491579, -92.212733 31.481645, -92.196131 31.477877, -92.242262 31.468783, -92.365423 31.446049, -92.40982 31.436945, -92.450313 31.428591, -92.478542 31.422778, -92.510825 31.416038, -92.631944 31.390478, -92.635945 31.393278, -92.658646 31.388078, -92.670556 31.404057, -92.681666 31.396009, -92.694666 31.40724, -92.677606 31.414738, -92.694422 31.428162, -92.680155 31.444085, -92.706233 31.450683, -92.706948 31.470473, -92.693147 31.471274, -92.698725 31.491881, -92.683315 31.499003, -92.70195 31.49438, -92.718899 31.517476, -92.761614 31.548527, -92.755734 31.556193, -92.787369 31.578661, -92.806206 31.598548, -92.840947 31.601233, -92.871434 31.617664, -92.908956 31.626029, -92.90241 31.656836, -92.924674 31.665941, -92.929432 31.677866, -92.964226 31.680239, -92.959858 31.701294, -92.973529 31.708922))"
        ],
        [
         "22",
         "22045",
         "Iberia Parish",
         "21.1",
         "MULTIPOLYGON (((-91.993884 29.982834, -91.986226 29.993897, -91.982482 30.002946, -91.967868 30.038178, -91.96218 30.043452, -91.951159 30.07278, -91.939256 30.072678, -91.906887 30.072593, -91.895806 30.05722, -91.883524 30.063569, -91.819013 30.044242, -91.815561 30.047089, -91.813546 30.049456, -91.801323 30.070081, -91.760549 30.090915, -91.765338 30.108432, -91.726628 30.122413, -91.703278 30.121144, -91.67839 30.104962, -91.655602 30.102896, -91.630579 30.07188, -91.612219 30.067702, -91.600217 30.033036, -91.507763 30.033282, -91.495427 30.041369, -91.487217 30.058055, -91.368835 30.058824, -91.366735 30.054699, -91.351156 30.060091, -91.269085 30.059308, -91.255942 30.039776, -91.238689 30.03052, -91.222239 30.039041, -91.22423 30.02556, -91.22479 30.024182, -91.233143 30.00549, -91.236346 30.000894, -91.258944 30.000674, -91.255229 29.971457, -91.471953 29.956304, -91.624347 29.94546, -91.661436 29.902722, -91.674971 29.887247, -91.711283 29.846131, -91.8585532125057 29.7360680465543, -91.85797 29.744072, -91.872873 29.747878, -91.879242 29.756556, -91.861222 29.773199, -91.851671 29.791834, -91.843115 29.779251, -91.828803 29.777929, -91.824784 29.789297, -91.82492 29.808539, -91.830808 29.82927, -91.859514 29.826068, -91.889118 29.836023, -91.901043 29.833447, -91.91525 29.819367, -91.937507 29.816765, -91.970986 29.834316, -91.9721321088952 29.833446850379, -91.97268 29.837015, -91.991662 29.969041, -91.993884 29.982834)), ((-92.017827 29.590962, -92.0092636191027 29.5992584400231, -92.005348 29.603052, -91.98265 29.61421, -91.960887 29.608937, -91.939903 29.610291, -91.927865 29.632496, -91.900532 29.634458, -91.886271 29.628467, -91.866425 29.629707, -91.848242 29.627124, -91.830945 29.611618, -91.806631 29.600197, -91.802727 29.588688, -91.784663 29.594062, -91.776582 29.583831, -91.765173 29.575046, -91.746323 29.574337, -91.733324 29.580834, -91.731541 29.562539, -91.711081 29.569328, -91.71324 29.55551, -91.735344 29.540106, -91.765411 29.524802, -91.774205 29.504946, -91.768263 29.490362, -91.786202 29.483108, -91.803558 29.487879, -91.814606 29.482061, -91.821579 29.473925, -91.846463 29.479308, -91.857274 29.500085, -91.870465 29.503808, -91.883987 29.501702, -91.900857 29.513948, -91.915321 29.518513, -91.949256 29.53628, -91.963597 29.535937, -91.971954 29.543414, -92.015139 29.561328, -92.030186 29.572669, -92.017827 29.590962)))"
        ],
        [
         "23",
         "22047",
         "Iberville Parish",
         "22.5",
         "POLYGON ((-91.701339 30.497747, -91.583425 30.496956, -91.583457 30.48259, -91.556325 30.482866, -91.526512 30.497234, -91.485155 30.497282, -91.460215 30.47043, -91.453161 30.475078, -91.407881 30.426318, -91.394571 30.394817, -91.363643 30.384187, -91.337202 30.35344, -91.325552 30.34759, -91.325402 30.347517, -91.31974 30.344674, -91.311285 30.322472, -91.26844 30.322857, -91.253396 30.323192, -91.142105 30.323293, -91.142305 30.319893, -91.115459 30.312693, -91.098798 30.319537, -91.028645 30.315816, -91.021014 30.321489, -91.019324 30.318561, -91.044909 30.251966, -91.048778 30.241451, -91.059124 30.213084, -91.07364 30.160921, -91.090097 30.14111, -91.089834 30.1087, -91.106559 30.108519, -91.105997 30.062749, -91.22423 30.02556, -91.222239 30.039041, -91.238689 30.03052, -91.255942 30.039776, -91.269085 30.059308, -91.351156 30.060091, -91.366735 30.054699, -91.368835 30.058824, -91.378025 30.094851, -91.388841 30.102445, -91.463898 30.102682, -91.46995 30.109072, -91.461313 30.131246, -91.468183 30.148957, -91.471797 30.186266, -91.489081 30.199277, -91.475277 30.229231, -91.508268 30.240297, -91.545816 30.239992, -91.575655 30.247773, -91.588039 30.257113, -91.587732 30.273282, -91.61141 30.298475, -91.627544 30.330102, -91.625483 30.354209, -91.644846 30.363445, -91.62483 30.394789, -91.640078 30.442673, -91.701339 30.497747))"
        ],
        [
         "24",
         "22049",
         "Jackson Parish",
         "17.8",
         "POLYGON ((-92.817149 32.161698, -92.798816 32.181325, -92.801279 32.207244, -92.787498 32.21497, -92.774016 32.243084, -92.776982 32.453611, -92.725842 32.453454, -92.659207 32.45297, -92.621681 32.453068, -92.622402 32.496408, -92.585352 32.496212, -92.549056 32.496138, -92.415515 32.495609, -92.415577 32.408029, -92.410184 32.403505, -92.322252 32.329629, -92.311957 32.320966, -92.312163 32.277348, -92.311937 32.146036, -92.329056 32.145501, -92.481597 32.14614, -92.72638 32.146818, -92.815344 32.147413, -92.817149 32.161698))"
        ],
        [
         "25",
         "22051",
         "Jefferson Parish",
         "16.5",
         "POLYGON ((-90.280057 29.991706, -90.279865 29.99802, -90.27951 30.006448, -90.279495 30.006797, -90.279569 30.023519, -90.279434 30.042793, -90.27922 30.049118, -90.27922 30.050213, -90.272604 30.1078, -90.259889 30.16341, -90.220332 30.1756, -90.156256 30.189613, -90.144658 30.180021, -90.108119 30.16494, -90.11884 30.032291, -90.120691 30.025169, -90.12178 30.012894, -90.122957 30.000071, -90.123354 29.995778, -90.124662 29.979253, -90.124861 29.975817, -90.125831 29.972204, -90.127662 29.968343, -90.130741 29.963919, -90.133825 29.958499, -90.136293 29.954155, -90.137602 29.951489, -90.140074 29.947904, -90.138974 29.938404, -90.139274 29.924904, -90.138886 29.921522, -90.132474 29.913005, -90.127428 29.910859, -90.122024 29.909635, -90.107155 29.90849, -90.100873 29.910005, -90.091073 29.912805, -90.085573 29.914405, -90.072572 29.919004, -90.071672 29.919304, -90.062472 29.926004, -90.059172 29.930404, -90.05803 29.937708, -90.058547 29.945334, -90.05413 29.940912, -90.047791 29.934822, -90.045102 29.93224, -90.043972 29.931104, -90.041871 29.929013, -90.039491 29.926858, -90.021228 29.909593, -90.018297 29.906829, -90.008056 29.895528, -90.015487 29.882089, -90.01759 29.878732, -90.017719 29.878504, -90.020075 29.873426, -90.023506 29.865519, -90.027456 29.85285, -90.034127 29.847849, -90.041048 29.845209, -90.057939 29.836873, -90.06861 29.82883, -90.069007 29.818384, -90.068496 29.801765, -90.060043 29.784128, -90.067519 29.778486, -90.075683 29.77185, -90.067331 29.738879, -90.047576 29.715213, -90.029518 29.687091, -90.015567 29.673729, -90.00074 29.62231, -89.985235 29.618923, -89.980812 29.580155, -89.988677 29.548892, -89.97895 29.533643, -89.979611 29.485596, -89.97747 29.449371, -89.960914 29.430746, -89.946517 29.375223, -89.930686 29.335561, -89.9041567022057 29.2946962823527, -89.939641 29.273422, -89.947668 29.27127, -89.953147 29.256406, -90.022029 29.216065, -90.058512 29.183687, -90.0898354481942 29.1644753566211, -90.089994 29.181659, -90.063533 29.210581, -90.056045 29.230382, -90.029251 29.269289, -90.015869 29.274007, -89.999129 29.297558, -90.003349 29.310392, -90.030189 29.332071, -90.03543 29.368234, -90.029396 29.377021, -90.033294 29.393278, -90.020622 29.428461, -90.037551 29.436344, -90.037376 29.447832, -90.049041 29.461523, -90.061424 29.459157, -90.080467 29.465915, -90.095184 29.461421, -90.114128 29.465684, -90.137504 29.477163, -90.146041 29.500232, -90.166458 29.526504, -90.174209 29.542892, -90.18782 29.546567, -90.186172 29.563341, -90.158459 29.570032, -90.15134 29.588374, -90.161117 29.64623, -90.155807 29.67753, -90.168281 29.681327, -90.20259 29.691406, -90.228157 29.692028, -90.211288 29.730504, -90.167274 29.81846, -90.173202 29.827524, -90.182044 29.827598, -90.231727 29.857086, -90.2332 29.857963, -90.243339 29.880935, -90.271153 29.914212, -90.27349 29.92176, -90.275527 29.940189, -90.275566 29.940683, -90.279533 29.967971, -90.280281 29.973703, -90.280057 29.991706))"
        ],
        [
         "26",
         "22053",
         "Jefferson Davis Parish",
         "18.6",
         "POLYGON ((-93.131155 30.423591, -93.065386 30.424346, -93.065525 30.438677, -93.014145 30.437847, -92.876768 30.437852, -92.775737 30.437617, -92.773981 30.488218, -92.671126 30.48839, -92.630321 30.488012, -92.632025 30.481182, -92.626013 30.466031, -92.600597 30.437483, -92.594586 30.420339, -92.605398 30.407202, -92.604306 30.39008, -92.629695 30.378926, -92.619505 30.340052, -92.632161 30.314289, -92.621205 30.308328, -92.627573 30.299342, -92.624006 30.267275, -92.627862 30.25861, -92.622069 30.252812, -92.622526 30.240413, -92.626648 30.230387, -92.602936 30.206674, -92.585492 30.203394, -92.595217 30.195162, -92.590655 30.190054, -92.618728 30.175524, -92.607983 30.15858, -92.62864 30.133743, -92.618338 30.10415, -92.625484 30.09233, -92.638368 30.071811, -92.65713 30.075171, -92.659961 30.069583, -92.664453 30.069067, -92.67234 30.071154, -92.675158 30.069613, -92.684644 30.059503, -92.690383 30.058767, -92.69431 30.061457, -92.697626 30.054014, -92.723869 30.048652, -92.737217 30.037455, -92.753676 30.0391, -92.845637 30.038709, -92.996624 30.038481, -92.996479 30.082593, -92.887222 30.083455, -92.891522 30.09661, -92.907896 30.112734, -92.906865 30.130812, -92.889115 30.143406, -92.893247 30.15651, -92.9963 30.156955, -92.996519 30.216606, -92.997033 30.25016, -92.997128 30.260743, -93.030728 30.260564, -93.030959 30.37939, -93.091176 30.379765, -93.131087 30.380008, -93.131224 30.403058, -93.131155 30.423591))"
        ],
        [
         "27",
         "22055",
         "Lafayette Parish",
         "16.5",
         "POLYGON ((-92.284675 30.147443, -92.275312 30.146134, -92.246328 30.185459, -92.24157 30.214652, -92.210059 30.226246, -92.210094 30.235438, -92.210205 30.241892, -92.176097 30.241076, -92.17624 30.262776, -92.159294 30.270019, -92.15951 30.28465, -92.142128 30.284546, -92.142184 30.298817, -92.094908 30.32998, -92.089215 30.330509, -92.085418 30.339516, -92.084554 30.352806, -92.083938 30.360078, -92.0533 30.378993, -92.027019 30.359898, -92.015775 30.371395, -91.988718 30.368598, -91.95377 30.359987, -91.950745 30.348369, -91.966215 30.32444, -91.952329 30.29278, -91.949944 30.280972, -91.949433 30.279286, -91.95134 30.275389, -91.976933 30.260649, -91.968119 30.259032, -91.963702 30.240672, -91.942818 30.236599, -91.957918 30.2119, -91.976879 30.210933, -91.974347 30.177363, -91.954718 30.1871, -91.920718 30.1879, -91.910442 30.15721, -91.906054 30.153715, -91.934126 30.119717, -91.941428 30.099765, -91.951159 30.07278, -91.96218 30.043452, -91.967868 30.038178, -91.990323 30.046464, -92.043157 30.065799, -92.066153 30.073926, -92.072743 30.080871, -92.073376 30.090796, -92.079607 30.103834, -92.090857 30.118069, -92.086723 30.126102, -92.089719 30.128269, -92.119374 30.121556, -92.12778 30.115972, -92.150015 30.123727, -92.175543 30.132905, -92.202926 30.142739, -92.22705 30.136896, -92.279691 30.141533, -92.284675 30.147443))"
        ],
        [
         "28",
         "22057",
         "Lafourche Parish",
         "16.5",
         "MULTIPOLYGON (((-90.376173 29.108668, -90.35977 29.125222, -90.351454 29.131092, -90.343013 29.128487, -90.303916 29.07538, -90.317585 29.067335, -90.334935 29.063803, -90.361688 29.103076, -90.376173 29.108668)), ((-90.981838 29.744875, -90.947605 29.792532, -90.924626 29.830326, -90.925046 29.830377, -90.909806 29.877195, -90.885266 29.877565, -90.885749 29.905348, -90.785427 29.907585, -90.7787 29.922007, -90.731854 29.905237, -90.728629 29.906186, -90.717344 29.8967, -90.690195 29.904865, -90.680691 29.892588, -90.656312 29.889246, -90.628003 29.89523, -90.600753 29.888065, -90.593505 29.892927, -90.535416 29.891061, -90.529601 29.884997, -90.515724 29.864727, -90.49887 29.86506, -90.479904 29.847377, -90.476306 29.824875, -90.475418 29.81221, -90.429887 29.776387, -90.405227 29.774335, -90.371978 29.759239, -90.360794 29.737054, -90.361541 29.70745, -90.352104 29.695512, -90.315965 29.692448, -90.228157 29.692028, -90.20259 29.691406, -90.168281 29.681327, -90.155807 29.67753, -90.161117 29.64623, -90.15134 29.588374, -90.158459 29.570032, -90.186172 29.563341, -90.18782 29.546567, -90.174209 29.542892, -90.166458 29.526504, -90.146041 29.500232, -90.137504 29.477163, -90.114128 29.465684, -90.095184 29.461421, -90.080467 29.465915, -90.061424 29.459157, -90.049041 29.461523, -90.037376 29.447832, -90.037551 29.436344, -90.020622 29.428461, -90.033294 29.393278, -90.029396 29.377021, -90.03543 29.368234, -90.030189 29.332071, -90.003349 29.310392, -89.999129 29.297558, -90.015869 29.274007, -90.029251 29.269289, -90.056045 29.230382, -90.063533 29.210581, -90.089994 29.181659, -90.0898354481942 29.1644753566211, -90.122753 29.144286, -90.17058 29.115209, -90.223587 29.085075, -90.2259735242039 29.0858295816079, -90.231984 29.08773, -90.245924 29.093403, -90.250044 29.108067, -90.233334 29.110655, -90.234405 29.128824, -90.248629 29.13837, -90.277773 29.142822, -90.28526 29.178003, -90.263513 29.180597, -90.259234 29.199583, -90.272832 29.199032, -90.304275 29.266161, -90.322101 29.273003, -90.344324 29.289277, -90.349196 29.304512, -90.376886 29.288655, -90.372608 29.264813, -90.403268 29.233811, -90.3997615912778 29.261401767989, -90.376666 29.302883, -90.386473 29.324743, -90.384285 29.365755, -90.446861 29.416843, -90.467604 29.452782, -90.486837 29.462029, -90.537516 29.505506, -90.536266 29.513543, -90.550791 29.531265, -90.568408 29.535195, -90.574544 29.558887, -90.587322 29.56667, -90.594567 29.569993, -90.619586 29.598538, -90.645431 29.60194, -90.663468 29.615086, -90.680739 29.639451, -90.687572 29.645354, -90.701992 29.661068, -90.707832 29.66538, -90.709759 29.666259, -90.727302 29.675582, -90.73921 29.675389, -90.751073 29.682776, -90.766757 29.695945, -90.771715 29.709163, -90.782853 29.730329, -90.785931 29.744045, -90.788232 29.747528, -90.804795 29.750957, -90.805918 29.77442, -90.810364 29.776199, -90.81764 29.777242, -90.817789 29.77721, -90.827735 29.775778, -90.833439 29.762131, -90.841429 29.746382, -90.882087 29.745897, -90.880351 29.719221, -90.889157 29.716673, -91.00689 29.715093, -90.981838 29.744875)))"
        ],
        [
         "29",
         "22059",
         "La Salle Parish",
         "18.1",
         "POLYGON ((-92.367755 31.6259, -92.34676 31.628577, -92.360586 31.642913, -92.365728 31.672283, -92.350145 31.680736, -92.347739 31.696584, -92.372476 31.701519, -92.36837 31.723024, -92.360483 31.721462, -92.350709 31.738527, -92.358272 31.742726, -92.344924 31.754895, -92.352974 31.780395, -92.36134 31.79289, -92.362608 31.796633, -92.362227 31.808113, -92.340494 31.813367, -92.340768 31.833075, -92.329229 31.849415, -92.337095 31.851613, -92.321311 31.865134, -92.324671 31.886304, -92.312363 31.896248, -92.312518 31.927656, -92.202485 31.92777, -92.005624 31.927383, -92.005855 31.796449, -92.008483 31.728762, -92.008498 31.589747, -92.008033 31.325809, -92.025948 31.343009, -92.081357 31.324143, -92.086718 31.335374, -92.07239 31.343174, -92.083288 31.364943, -92.109296 31.372761, -92.148761 31.404911, -92.160361 31.430956, -92.154481 31.447432, -92.16399 31.471822, -92.196131 31.477877, -92.212733 31.481645, -92.213969 31.491579, -92.24827 31.48448, -92.239461 31.501227, -92.276623 31.495385, -92.275088 31.536087, -92.286896 31.536584, -92.304568 31.553157, -92.298709 31.563248, -92.310231 31.573235, -92.32008 31.57173, -92.305002 31.587146, -92.34297 31.595824, -92.384441 31.619505, -92.367755 31.6259))"
        ],
        [
         "30",
         "22061",
         "Lincoln Parish",
         "22.6",
         "POLYGON ((-92.880926 32.585265, -92.866606 32.607227, -92.86027 32.641413, -92.868775 32.678001, -92.863787 32.687918, -92.828374 32.714654, -92.827976 32.759432, -92.725407 32.759443, -92.637046 32.759258, -92.571295 32.748579, -92.536068 32.720838, -92.519212 32.720685, -92.519018 32.716291, -92.518999 32.670807, -92.474879 32.670469, -92.415169 32.670254, -92.415228 32.582854, -92.415404 32.522138, -92.415515 32.495609, -92.549056 32.496138, -92.585352 32.496212, -92.622402 32.496408, -92.621681 32.453068, -92.659207 32.45297, -92.725842 32.453454, -92.776982 32.453611, -92.879461 32.454017, -92.879586 32.465118, -92.879897 32.509603, -92.880926 32.585265))"
        ],
        [
         "31",
         "22063",
         "Livingston Parish",
         "13.2",
         "POLYGON ((-90.989892 30.46488, -90.976255 30.467473, -90.974807 30.481763, -90.973126 30.491844, -90.970035 30.495571, -90.975761 30.497947, -90.96789 30.504381, -90.980931 30.535555, -90.971302 30.562687, -90.987906 30.572643, -90.985103 30.585601, -90.980497 30.589081, -90.958215 30.598641, -90.939837 30.608952, -90.940641 30.620376, -90.910701 30.649385, -90.852662 30.649564, -90.643606 30.649875, -90.634595 30.649869, -90.567126 30.650015, -90.56714 30.643089, -90.567032 30.577053, -90.5669 30.52613, -90.566877 30.504328, -90.566906 30.48706, -90.556713 30.483718, -90.558229 30.478919, -90.552844 30.475572, -90.546882 30.431609, -90.520336 30.41541, -90.489349 30.355546, -90.47909 30.357621, -90.483583 30.333316, -90.485826 30.276992, -90.509076 30.230135, -90.554147 30.195628, -90.577815 30.197168, -90.592021 30.208324, -90.5995 30.216836, -90.631905 30.22119, -90.644671 30.230714, -90.649294 30.232296, -90.660422 30.22553, -90.66169 30.213722, -90.678968 30.20669, -90.673287 30.198013, -90.694554 30.175163, -90.70327 30.185806, -90.719539 30.189994, -90.722632 30.206514, -90.734413 30.211878, -90.731407 30.221153, -90.749109 30.241281, -90.767804 30.239749, -90.774076 30.251719, -90.791359 30.265, -90.782121 30.274843, -90.794017 30.280867, -90.81091 30.275701, -90.824045 30.292692, -90.829065 30.317461, -90.838758 30.318182, -90.851844 30.331946, -90.858509 30.343765, -90.891728 30.345244, -90.90805 30.356018, -90.907063 30.361196, -90.936957 30.363913, -90.949197 30.394445, -90.968888 30.393287, -90.969401 30.405138, -90.957922 30.406076, -90.965794 30.414713, -90.981158 30.422263, -90.972402 30.440302, -90.985706 30.44761, -90.981142 30.451739, -90.989892 30.46488))"
        ],
        [
         "32",
         "22065",
         "Madison Parish",
         "30.6",
         "MULTIPOLYGON (((-91.057647 32.177354, -91.050207 32.178451, -91.041807 32.174551, -91.031907 32.167851, -91.025007 32.162552, -91.016606 32.160852, -91.00619 32.156957, -91.004106 32.146152, -91.005006 32.142852, -91.006406 32.139952, -91.011806 32.131153, -91.017606 32.125153, -91.020006 32.123553, -91.027007 32.121053, -91.0307991898912 32.1205658494524, -91.039007 32.120353, -91.045207 32.121553, -91.052207 32.123753, -91.053175 32.124237, -91.051207 32.144152, -91.050207 32.145252, -91.048507 32.150152, -91.049707 32.157352, -91.055707 32.163752, -91.058907 32.171251, -91.057647 32.177354)), ((-91.543021 32.259006, -91.523638 32.253045, -91.526719 32.300675, -91.50331 32.295191, -91.504107 32.313449, -91.472391 32.316529, -91.478094 32.342917, -91.494336 32.338652, -91.500529 32.347718, -91.484986 32.366535, -91.480532 32.35524, -91.465952 32.351053, -91.451705 32.368557, -91.475792 32.385148, -91.483197 32.402257, -91.476495 32.405564, -91.486536 32.434809, -91.47146 32.434354, -91.484367 32.47159, -91.485199 32.502957, -91.457614 32.537848, -91.169953 32.537805, -91.133144 32.537909, -91.1076 32.562272, -91.0702133080007 32.5625449638554, -91.076511 32.558829, -91.070849 32.54852, -91.057004 32.538286, -91.031647 32.525018, -91.007075 32.516371, -90.994867 32.508611, -90.988699 32.50023, -90.987202 32.495663, -90.990703 32.487749, -90.996388 32.483925, -91.004206 32.48214, -91.024106 32.48524, -91.038106 32.49044, -91.045807 32.495539, -91.050907 32.500139, -91.067406 32.523218, -91.097878 32.544751, -91.101304 32.525599, -91.106985 32.514934, -91.116708 32.500139, -91.117308 32.495039, -91.116008 32.48314, -91.112108 32.47614, -91.108808 32.47204, -91.095308 32.458741, -91.081807 32.450441, -91.070207 32.445141, -91.052907 32.438442, -91.029606 32.433542, -91.026306 32.434442, -91.016506 32.440342, -91.004806 32.445741, -90.998974 32.450165, -90.993863 32.45085, -90.983423 32.449077, -90.978547 32.447032, -90.96959 32.43949, -90.96856 32.438084, -90.966869 32.435499, -90.966457 32.433868, -90.965986 32.424806, -90.966255 32.421027, -90.967767 32.418279, -90.971141 32.414636, -90.974461 32.412001, -90.980723 32.408243, -90.99408 32.403862, -90.99378 32.396778, -90.994686 32.392277, -90.996237 32.388061, -91.000606 32.381644, -91.004506 32.368144, -91.004506 32.364744, -91.003506 32.362145, -91.000106 32.357695, -90.993625 32.354047, -90.986672 32.35176, -90.954583 32.345859, -90.942981 32.345956, -90.934897 32.344967, -90.92117 32.342073, -90.912363 32.339454, -90.907756 32.343611, -90.897762 32.35436, -90.89206 32.370579, -90.888947 32.373246, -90.878289 32.374548, -90.875631 32.372434, -90.8757158777355 32.369777272587, -90.8761 32.357754, -90.8779134481662 32.354689848051, -90.8835446495825 32.3451749045766, -90.8882535885815 32.3372182919307, -90.893653 32.328095, -90.902558 32.319587, -90.905173 32.315497, -90.9065484299256 32.3140049891148, -90.916157 32.303582, -90.922231 32.298639, -90.9234496740595 32.2977792959185, -90.933991 32.290343, -90.947834 32.283486, -90.951351 32.283199, -90.953008 32.284043, -90.955405 32.286241, -90.961171 32.293288, -90.963079 32.296285, -90.964149 32.296872, -90.971643 32.297497, -90.974602 32.297122, -90.976199 32.29645, -90.979475 32.293702, -90.980747 32.29141, -90.984077 32.279954, -90.982985 32.270294, -90.981028 32.266733, -90.979663 32.265252, -90.971344 32.257742, -90.969403 32.25252, -90.970016 32.25168, -90.976139 32.248092, -90.98029 32.243601, -90.983135 32.231371, -90.983263 32.226201, -90.983381 32.211767, -90.990304 32.200346, -90.991391 32.199443, -90.993946 32.198293, -90.997012 32.197399, -91.000078 32.197527, -91.00225 32.198293, -91.003536 32.200766, -91.005006 32.21285, -91.002906 32.22305, -91.006106 32.22405, -91.009606 32.22615, -91.021507 32.236149, -91.026607 32.238749, -91.034307 32.241549, -91.039007 32.242349, -91.046507 32.241149, -91.050307 32.237949, -91.051807 32.234449, -91.053107 32.22795, -91.055107 32.22475, -91.061408 32.21865, -91.071108 32.22605, -91.075108 32.22705, -91.083708 32.22645, -91.092108 32.22385, -91.100409 32.21785, -91.108509 32.20815, -91.113009 32.20655, -91.114084 32.206697, -91.11727 32.206668, -91.124043 32.211104, -91.12139 32.2398, -91.13378 32.249339, -91.183592 32.245435, -91.215529 32.233065, -91.234815 32.210039, -91.272214 32.230908, -91.317059 32.207619, -91.321366 32.202916, -91.493574 32.203247, -91.535881 32.204108, -91.547395 32.208444, -91.535966 32.221362, -91.514832 32.23077, -91.509891 32.245615, -91.525099 32.234326, -91.542457 32.23834, -91.557283 32.250693, -91.543021 32.259006)))"
        ],
        [
         "33",
         "22067",
         "Morehouse Parish",
         "25.0",
         "POLYGON ((-92.085617 32.965193, -92.076088 32.969609, -92.081664 32.9821, -92.071004 32.988643, -92.0689289215002 33.0081618952539, -92.0010940972461 33.0077362881463, -91.951958 33.007428, -91.950001 33.00752, -91.875128 33.007728, -91.8003160450046 33.0072805988365, -91.755068 33.00701, -91.735531 33.007569, -91.62667 33.006639, -91.617615 33.006717, -91.609001 33.006556, -91.579802 33.006518, -91.579639 33.006472, -91.572326 33.006908, -91.559494 33.00684, -91.500118 33.006784, -91.489176 33.006182, -91.4603776475285 33.0059093538278, -91.453369 33.005843, -91.435782 33.006099, -91.438925 32.990957, -91.449893 32.983924, -91.437551 32.980932, -91.456279 32.965842, -91.479736 32.93542, -91.47576 32.929723, -91.498296 32.901705, -91.494655 32.890796, -91.511515 32.879007, -91.534728 32.87747, -91.566363 32.855561, -91.572682 32.842747, -91.573595 32.825387, -91.605247 32.782379, -91.595841 32.771054, -91.596081 32.754798, -91.617719 32.720816, -91.638883 32.702472, -91.624023 32.69567, -91.621993 32.679944, -91.637595 32.667298, -91.647093 32.639924, -91.671986 32.611187, -91.690296 32.608463, -91.705991 32.613177, -91.73477 32.587854, -91.742286 32.558906, -91.769798 32.554375, -91.80432 32.571316, -91.818415 32.553835, -91.837652 32.543531, -91.839532 32.518482, -91.866439 32.522483, -91.889168 32.543388, -91.897824 32.53566, -91.903312 32.509838, -91.913057 32.505902, -91.90416 32.515326, -91.904832 32.528621, -91.920738 32.547411, -91.926933 32.567803, -91.925377 32.58302, -91.943419 32.587119, -91.924401 32.618587, -91.924214 32.645255, -91.911168 32.661139, -91.9363 32.658873, -91.962696 32.679435, -91.975324 32.711612, -92.015996 32.700659, -92.042063 32.711335, -92.031879 32.700372, -92.046927 32.686658, -92.042829 32.699248, -92.058379 32.706117, -92.047915 32.719796, -92.065179 32.723003, -92.069639 32.733513, -92.052668 32.736954, -92.061854 32.765637, -92.052728 32.794734, -92.06599 32.821434, -92.067014 32.833947, -92.056038 32.83753, -92.078362 32.864929, -92.084296 32.882176, -92.077266 32.893159, -92.076693 32.933871, -92.085617 32.965193))"
        ],
        [
         "34",
         "22069",
         "Natchitoches Parish",
         "23.6",
         "POLYGON ((-93.441109 31.761648, -93.441171 31.845233, -93.440369 31.913868, -93.429557 31.925344, -93.420165 31.933964, -93.398813 31.91791, -93.377907 31.932712, -93.355452 31.932222, -93.350481 31.898736, -93.315091 31.889968, -93.303806 31.89762, -93.282375 31.887442, -93.245472 31.910891, -93.239499 31.903605, -93.239061 31.932978, -93.23847 31.972781, -93.121188 31.97261, -93.1361 31.983242, -93.158098 32.009407, -93.158906 32.027749, -93.135587 32.051406, -93.145606 32.072699, -93.164306 32.093317, -93.152395 32.104512, -93.187138 32.148509, -93.098496 32.148328, -93.097793 32.148369, -92.939092 32.14792, -92.931221 32.122484, -92.912763 32.10342, -92.904734 32.081435, -92.911756 32.077104, -92.895838 32.055007, -92.898457 32.044894, -92.888185 32.031202, -92.887804 32.008629, -92.90063 31.987946, -92.883495 31.981142, -92.885034 31.956563, -92.872174 31.945856, -92.884867 31.939233, -92.89464 31.917159, -92.892582 31.901446, -92.901088 31.893909, -92.906222 31.869395, -92.8982 31.859415, -92.908368 31.850751, -92.950039 31.856053, -92.938425 31.82941, -92.948597 31.818894, -92.94198 31.814973, -92.952552 31.783688, -92.9668 31.781299, -92.968603 31.731006, -92.976035 31.712423, -92.973529 31.708922, -92.959858 31.701294, -92.964226 31.680239, -92.929432 31.677866, -92.924674 31.665941, -92.90241 31.656836, -92.908956 31.626029, -92.871434 31.617664, -92.840947 31.601233, -92.806206 31.598548, -92.787369 31.578661, -92.755734 31.556193, -92.761614 31.548527, -92.718899 31.517476, -92.761551 31.486234, -92.761674 31.476399, -92.779059 31.476486, -92.795776 31.455338, -92.813377 31.454845, -92.81313 31.440945, -92.846837 31.433513, -92.846954 31.418775, -92.871656 31.418829, -92.871486 31.40406, -92.888469 31.403994, -92.888443 31.389631, -92.913475 31.389732, -92.913328 31.368193, -92.947265 31.367723, -92.947159 31.346751, -92.98146 31.346864, -92.992013 31.36043, -93.032208 31.363736, -93.171 31.364326, -93.232157 31.364033, -93.236643 31.364491, -93.236444 31.453915, -93.236752 31.537863, -93.332358 31.538159, -93.33763 31.539182, -93.338436 31.714205, -93.340775 31.714211, -93.441689 31.714485, -93.441109 31.761648))"
        ],
        [
         "35",
         "22071",
         "Orleans Parish",
         "27.0",
         "POLYGON ((-90.140074 29.947904, -90.137602 29.951489, -90.136293 29.954155, -90.133825 29.958499, -90.130741 29.963919, -90.127662 29.968343, -90.125831 29.972204, -90.124861 29.975817, -90.124662 29.979253, -90.123354 29.995778, -90.122957 30.000071, -90.12178 30.012894, -90.120691 30.025169, -90.11884 30.032291, -90.108119 30.16494, -90.082527 30.1572, -90.040277 30.155114, -90.003403 30.162997, -89.974424 30.176177, -89.903234 30.19866, -89.848403 30.190079, -89.820793 30.180002, -89.797414 30.160757, -89.775915 30.159404, -89.755318 30.16975, -89.74544 30.17745, -89.733433 30.171818, -89.714037 30.161214, -89.685287 30.175346, -89.655406 30.159304, -89.6228797076882 30.1523675549142, -89.6266923457716 30.1494715305074, -89.640989 30.138612, -89.656986 30.118381, -89.669182 30.110667, -89.674633 30.110406, -89.678163 30.108286, -89.682181 30.091536, -89.683712 30.076018, -89.698496 30.070491, -89.712942 30.069088, -89.727453 30.062661, -89.730999 30.057581, -89.731545 30.049691, -89.7163 30.02811, -89.716377 30.026222, -89.724649 30.022454, -89.733323 30.022054, -89.746505 30.032599, -89.763216 30.042108, -89.782534 30.045372, -89.818561 30.043328, -89.8199834508197 30.0420513084585, -89.839933 30.024146, -89.857558 30.004439, -89.8561145499887 29.9970679396966, -89.881599 29.9862, -89.895132 30.002345, -89.914168 29.999098, -89.93901 29.980391, -89.974291 29.994692, -89.989882 29.98949, -89.996539 29.973076, -89.998675 29.973703, -90.006408 29.958288, -90.012102 29.94598, -90.008158 29.943704, -90.00188 29.939968, -89.985051 29.930173, -89.972001 29.925456, -89.960702 29.923846, -89.943353 29.924454, -89.928776 29.921786, -89.91681 29.910391, -89.907784 29.897151, -89.902694 29.878068, -89.910708 29.867865, -89.917587 29.866661, -89.935394 29.892961, -89.984523 29.904186, -89.989183 29.889388, -90.002273 29.897806, -90.008056 29.895528, -90.018297 29.906829, -90.021228 29.909593, -90.039491 29.926858, -90.041871 29.929013, -90.043972 29.931104, -90.045102 29.93224, -90.047791 29.934822, -90.05413 29.940912, -90.058547 29.945334, -90.05803 29.937708, -90.059172 29.930404, -90.062472 29.926004, -90.071672 29.919304, -90.072572 29.919004, -90.085573 29.914405, -90.091073 29.912805, -90.100873 29.910005, -90.107155 29.90849, -90.122024 29.909635, -90.127428 29.910859, -90.132474 29.913005, -90.138886 29.921522, -90.139274 29.924904, -90.138974 29.938404, -90.140074 29.947904))"
        ],
        [
         "36",
         "22073",
         "Ouachita Parish",
         "21.2",
         "POLYGON ((-92.415515 32.495609, -92.415404 32.522138, -92.415228 32.582854, -92.312631 32.582716, -92.272313 32.580975, -92.224265 32.590094, -92.219329 32.611533, -92.186162 32.631692, -92.183795 32.633137, -92.138157 32.660846, -92.140866 32.673849, -92.120867 32.673589, -92.08873 32.690099, -92.065179 32.723003, -92.047915 32.719796, -92.058379 32.706117, -92.042829 32.699248, -92.046927 32.686658, -92.031879 32.700372, -92.042063 32.711335, -92.015996 32.700659, -91.975324 32.711612, -91.962696 32.679435, -91.9363 32.658873, -91.911168 32.661139, -91.924214 32.645255, -91.924401 32.618587, -91.943419 32.587119, -91.925377 32.58302, -91.926933 32.567803, -91.920738 32.547411, -91.904832 32.528621, -91.90416 32.515326, -91.913057 32.505902, -91.919716 32.497422, -91.933301 32.490932, -91.944278 32.448777, -91.983631 32.413859, -91.993631 32.397902, -92.011493 32.363246, -92.006192 32.354244, -92.019816 32.297649, -92.031168 32.281402, -92.034473 32.277237, -92.106498 32.276886, -92.106327 32.25873, -92.15264 32.258833, -92.152716 32.264668, -92.164816 32.276697, -92.312163 32.277348, -92.311957 32.320966, -92.322252 32.329629, -92.410184 32.403505, -92.415577 32.408029, -92.415515 32.495609))"
        ],
        [
         "37",
         "22075",
         "Plaquemines Parish",
         "16.2",
         "MULTIPOLYGON (((-89.626769 29.535205, -89.610844 29.536549, -89.588978 29.547612, -89.575192 29.549886, -89.564615 29.543786, -89.578401 29.532309, -89.590404 29.518867, -89.599673 29.507594, -89.617737 29.520521, -89.626769 29.535205)), ((-90.067519 29.778486, -90.060043 29.784128, -90.068496 29.801765, -90.069007 29.818384, -90.06861 29.82883, -90.057939 29.836873, -90.041048 29.845209, -90.034127 29.847849, -90.027456 29.85285, -90.023506 29.865519, -90.020075 29.873426, -90.017719 29.878504, -90.01759 29.878732, -90.015487 29.882089, -90.008056 29.895528, -90.002273 29.897806, -89.989183 29.889388, -89.984523 29.904186, -89.935394 29.892961, -89.917587 29.866661, -89.910708 29.867865, -89.90408 29.853082, -89.895932 29.833237, -89.878485 29.815193, -89.86972 29.795451, -89.859815 29.793042, -89.83066 29.801246, -89.816395 29.801327, -89.803004 29.792724, -89.786198 29.773281, -89.790754 29.760821, -89.767727 29.755323, -89.758023 29.758498, -89.721045 29.757652, -89.705033 29.752792, -89.692208 29.738457, -89.683853 29.716033, -89.660282 29.708747, -89.628181 29.680682, -89.570928 29.665046, -89.53376 29.670204, -89.510735 29.657473, -89.487915 29.630405, -89.485367 29.624357, -89.4867087315144 29.6210026712139, -89.486931 29.620447, -89.504738 29.631508, -89.523018 29.639427, -89.535202 29.648567, -89.583336 29.652834, -89.610827 29.63856, -89.641228 29.647961, -89.665689 29.643145, -89.602109 29.610295, -89.602585 29.582188, -89.637761 29.596655, -89.649108 29.613017, -89.674736 29.626633, -89.684486 29.624804, -89.688141 29.615055, -89.684486 29.602867, -89.671082 29.588243, -89.650358 29.586942, -89.641802 29.575573, -89.663668 29.56441, -89.684486 29.563263, -89.684486 29.551073, -89.681092 29.534487, -89.657192 29.532309, -89.640198 29.50356, -89.60846 29.490439, -89.569607 29.494044, -89.572102 29.475217, -89.551088 29.463446, -89.528429 29.454702, -89.53215 29.434567, -89.531943 29.425679, -89.518368 29.40023, -89.508551 29.386168, -89.505038 29.38604, -89.487308 29.393346, -89.484354 29.397471, -89.482318 29.406222, -89.47714 29.411241, -89.470142 29.401471, -89.457303 29.393148, -89.42238 29.390628, -89.380001 29.391785, -89.373109 29.387175, -89.355528 29.381569, -89.340304 29.381412, -89.336589 29.378228, -89.347615 29.365, -89.338582 29.355445, -89.319922 29.36268, -89.3141019851687 29.3815116876473, -89.312085 29.388038, -89.3067429747521 29.383060602898, -89.272543 29.351195, -89.2653 29.345352, -89.257852 29.336872, -89.253545 29.322802, -89.24087 29.310081, -89.224192 29.313792, -89.223444 29.318066, -89.219734 29.324412, -89.204703 29.338674, -89.200389 29.344418, -89.200599 29.347672, -89.189354 29.345061, -89.179547 29.339608, -89.177351 29.33521, -89.178221 29.32697, -89.165015 29.303039, -89.157593 29.296691, -89.140275 29.291085, -89.134337 29.27934, -89.136979 29.275239, -89.129688 29.265632, -89.115104 29.252901, -89.116653 29.219532, -89.112727 29.20229, -89.091336 29.191086, -89.066379 29.197518, -89.057126 29.210534, -89.025974 29.215153, -89.003869 29.179881, -89.01428 29.166913, -89.032506 29.180735, -89.051173 29.170483, -89.089434 29.166391, -89.11035 29.152693, -89.09704 29.138784, -89.039521 29.135463, -89.066617 29.090714, -89.085869 29.111689, -89.098704 29.117711, -89.106309 29.111481, -89.110825 29.081159, -89.11653 29.074097, -89.13079 29.070773, -89.146953 29.051659, -89.148792 29.02967, -89.137743 29.018878, -89.142866 28.991623, -89.218673 29.022515, -89.217514 29.055675, -89.225957 29.069404, -89.251727 29.083172, -89.259354 29.058358, -89.293066 29.041322, -89.36437 28.964721, -89.400966 28.933812, -89.4075611825122 28.9323801764195, -89.419865 28.929709, -89.393011 28.987073, -89.362112 29.012123, -89.343751 29.052906, -89.329728 29.056023, -89.310001 29.070981, -89.312853 29.087391, -89.302633 29.097775, -89.312378 29.117503, -89.296216 29.126431, -89.29574 29.133698, -89.278627 29.137642, -89.281479 29.159853, -89.282261 29.181435, -89.295027 29.198867, -89.318557 29.201564, -89.32854 29.190567, -89.325688 29.177079, -89.331868 29.148645, -89.350585 29.129598, -89.390515 29.123576, -89.409371 29.127855, -89.417718 29.13869, -89.428965 29.14451, -89.432932 29.149023, -89.447472 29.178576, -89.455829 29.190991, -89.47231 29.20755, -89.482844 29.215053, -89.5366 29.236212, -89.5618788566687 29.2419176145207, -89.606651 29.252023, -89.608289 29.264202, -89.623976 29.269178, -89.639663 29.290531, -89.671781 29.289028, -89.6819271367324 29.2920749871704, -89.697258 29.296679, -89.726162 29.304026, -89.782149 29.311132, -89.808513 29.313845, -89.842641 29.318823, -89.883463 29.307103, -89.9041567022057 29.2946962823527, -89.930686 29.335561, -89.946517 29.375223, -89.960914 29.430746, -89.97747 29.449371, -89.979611 29.485596, -89.97895 29.533643, -89.988677 29.548892, -89.980812 29.580155, -89.985235 29.618923, -90.00074 29.62231, -90.015567 29.673729, -90.029518 29.687091, -90.047576 29.715213, -90.067331 29.738879, -90.075683 29.77185, -90.067519 29.778486)))"
        ],
        [
         "38",
         "22077",
         "Pointe Coupee Parish",
         "19.9",
         "POLYGON ((-91.823072 30.856354, -91.804324 30.863713, -91.80018 30.924621, -91.805963 30.972558, -91.796521 30.982842, -91.780473 30.986694, -91.774174 31.002637, -91.750119 31.018814, -91.714001 31.006768, -91.687266 31.018142, -91.658321 30.994365, -91.663142 30.984393, -91.662506 30.970362, -91.660133 30.959615, -91.653568 30.943645, -91.644917 30.928971, -91.66073 30.89498, -91.661811 30.860019, -91.646961 30.844936, -91.623381 30.84048, -91.603031 30.845964, -91.578546 30.846278, -91.563535 30.836483, -91.556407 30.848643, -91.563605 30.883332, -91.576078 30.893402, -91.613861 30.90181, -91.614608 30.9176, -91.590969 30.917592, -91.549308 30.916228, -91.521413 30.890078, -91.515586 30.875181, -91.517894 30.851381, -91.539473 30.791224, -91.557251 30.778159, -91.584475 30.772765, -91.592941 30.766016, -91.594595 30.750184, -91.581276 30.74139, -91.555334 30.73095, -91.534111 30.734255, -91.486906 30.741337, -91.450382 30.736168, -91.397957 30.757238, -91.395037 30.757892, -91.375112 30.756717, -91.353181 30.722048, -91.342317 30.677331, -91.336727 30.662306, -91.33087 30.658677, -91.309752 30.650086, -91.317434 30.637005, -91.365272 30.588632, -91.364966 30.569591, -91.398786 30.568367, -91.407679 30.540342, -91.415016 30.535198, -91.414815 30.511427, -91.481734 30.511029, -91.485155 30.497282, -91.526512 30.497234, -91.556325 30.482866, -91.583457 30.48259, -91.583425 30.496956, -91.701339 30.497747, -91.756209 30.498133, -91.731432 30.512119, -91.749474 30.546425, -91.75698 30.562551, -91.751357 30.603698, -91.740996 30.632538, -91.744539 30.662418, -91.734813 30.666697, -91.733955 30.703406, -91.757942 30.74099, -91.756279 30.760135, -91.768759 30.785389, -91.807295 30.811069, -91.798459 30.828991, -91.815258 30.848107, -91.823072 30.856354))"
        ],
        [
         "39",
         "22079",
         "Rapides Parish",
         "20.2",
         "POLYGON ((-92.98146 31.346864, -92.947159 31.346751, -92.947265 31.367723, -92.913328 31.368193, -92.913475 31.389732, -92.888443 31.389631, -92.888469 31.403994, -92.871486 31.40406, -92.871656 31.418829, -92.846954 31.418775, -92.846837 31.433513, -92.81313 31.440945, -92.813377 31.454845, -92.795776 31.455338, -92.779059 31.476486, -92.761674 31.476399, -92.761551 31.486234, -92.718899 31.517476, -92.70195 31.49438, -92.683315 31.499003, -92.698725 31.491881, -92.693147 31.471274, -92.706948 31.470473, -92.706233 31.450683, -92.680155 31.444085, -92.694422 31.428162, -92.677606 31.414738, -92.694666 31.40724, -92.681666 31.396009, -92.670556 31.404057, -92.658646 31.388078, -92.635945 31.393278, -92.631944 31.390478, -92.510825 31.416038, -92.478542 31.422778, -92.450313 31.428591, -92.40982 31.436945, -92.365423 31.446049, -92.242262 31.468783, -92.196131 31.477877, -92.16399 31.471822, -92.154481 31.447432, -92.160361 31.430956, -92.148761 31.404911, -92.109296 31.372761, -92.083288 31.364943, -92.07239 31.343174, -92.086718 31.335374, -92.126063 31.306045, -92.16236 31.300341, -92.176738 31.311206, -92.178268 31.323295, -92.193856 31.333904, -92.211065 31.327402, -92.221837 31.331667, -92.233231 31.318816, -92.232821 31.255703, -92.233811 31.151496, -92.22458 31.144144, -92.232265 31.116243, -92.227124 31.074759, -92.216729 30.991373, -92.208605 30.962171, -92.280738 30.965071, -92.310992 30.965162, -92.330778 30.963323, -92.341763 30.981503, -92.38021 31.000374, -92.409377 30.992288, -92.418651 30.974968, -92.43887 30.969792, -92.459669 30.955754, -92.48033 30.952271, -92.480124 30.918449, -92.498602 30.900109, -92.509137 30.895814, -92.547965 30.903084, -92.567254 30.896237, -92.597798 30.896001, -92.606318 30.898885, -92.623277 30.898758, -92.661395 30.898699, -92.720966 30.891362, -92.82387 30.892071, -92.827776 31.010978, -92.828592 31.108492, -92.82911 31.194751, -92.829525 31.252055, -92.846056 31.25294, -92.846414 31.27408, -92.862768 31.274204, -92.862661 31.288481, -92.879628 31.288464, -92.879715 31.317439, -92.896447 31.324725, -92.930415 31.324448, -92.930549 31.332209, -92.964258 31.332388, -92.964405 31.339645, -92.981393 31.339416, -92.98146 31.346864))"
        ],
        [
         "40",
         "22081",
         "Red River Parish",
         "23.7",
         "POLYGON ((-93.61469 32.237526, -93.469441 32.237181, -93.459253 32.235148, -93.428644 32.235273, -93.422064 32.236161, -93.313471 32.235956, -93.213143 32.235757, -93.211144 32.192231, -93.191901 32.178362, -93.187138 32.148509, -93.152395 32.104512, -93.164306 32.093317, -93.145606 32.072699, -93.135587 32.051406, -93.158906 32.027749, -93.158098 32.009407, -93.1361 31.983242, -93.121188 31.97261, -93.23847 31.972781, -93.239061 31.932978, -93.239499 31.903605, -93.245472 31.910891, -93.282375 31.887442, -93.303806 31.89762, -93.315091 31.889968, -93.350481 31.898736, -93.355452 31.932222, -93.366076 31.935752, -93.372622 31.961663, -93.400552 31.978308, -93.406336 31.98778, -93.441506 31.98918, -93.458522 32.007001, -93.460366 32.020259, -93.481179 32.032031, -93.479821 32.056382, -93.501553 32.062975, -93.514161 32.085811, -93.541264 32.10473, -93.522627 32.125681, -93.509505 32.132179, -93.520735 32.144621, -93.523416 32.176991, -93.535963 32.193126, -93.554768 32.192312, -93.593377 32.205679, -93.61469 32.237526))"
        ],
        [
         "41",
         "22083",
         "Richland Parish",
         "24.7",
         "POLYGON ((-92.031168 32.281402, -92.019816 32.297649, -92.006192 32.354244, -92.011493 32.363246, -91.993631 32.397902, -91.983631 32.413859, -91.944278 32.448777, -91.933301 32.490932, -91.919716 32.497422, -91.913057 32.505902, -91.903312 32.509838, -91.897824 32.53566, -91.889168 32.543388, -91.866439 32.522483, -91.839532 32.518482, -91.837652 32.543531, -91.818415 32.553835, -91.80432 32.571316, -91.769798 32.554375, -91.742286 32.558906, -91.73477 32.587854, -91.705991 32.613177, -91.690296 32.608463, -91.671986 32.611187, -91.647093 32.639924, -91.637595 32.667298, -91.596876 32.667147, -91.594236 32.582128, -91.445299 32.581956, -91.430908 32.560477, -91.457614 32.537848, -91.485199 32.502957, -91.484367 32.47159, -91.47146 32.434354, -91.486536 32.434809, -91.476495 32.405564, -91.491964 32.4056, -91.635074 32.405768, -91.631049 32.40383, -91.658298 32.38617, -91.676501 32.383705, -91.680386 32.373144, -91.698824 32.369594, -91.703455 32.342497, -91.723188 32.333621, -91.743619 32.338631, -91.761786 32.334302, -91.76185 32.298504, -91.774117 32.277351, -91.769165 32.257188, -91.776729 32.238815, -91.792007 32.225673, -91.81294 32.222004, -91.820138 32.205047, -91.837285 32.176158, -91.872734 32.171824, -91.894729 32.15155, -91.892892 32.162799, -91.910586 32.16906, -91.932756 32.165236, -91.954852 32.173558, -91.980603 32.166634, -91.975908 32.17718, -91.982313 32.193292, -91.975255 32.20429, -92.000132 32.190393, -92.006391 32.201628, -91.977979 32.216175, -91.984835 32.223089, -91.998233 32.211532, -91.992589 32.227093, -92.005402 32.228909, -91.996989 32.246383, -91.993367 32.276795, -92.034473 32.277237, -92.031168 32.281402))"
        ],
        [
         "42",
         "22085",
         "Sabine Parish",
         "18.8",
         "POLYGON ((-93.875187 31.844237, -93.747073 31.844972, -93.441171 31.845233, -93.441109 31.761648, -93.441689 31.714485, -93.340775 31.714211, -93.338436 31.714205, -93.33763 31.539182, -93.332358 31.538159, -93.236752 31.537863, -93.236444 31.453915, -93.236643 31.364491, -93.390495 31.364147, -93.442554 31.276716, -93.458511 31.276805, -93.535414 31.276402, -93.535883 31.252715, -93.552139 31.23813, -93.54472 31.204029, -93.554856 31.1884, -93.5525399494441 31.1856050930259, -93.552649 31.185575, -93.560943 31.182482, -93.569563 31.177574, -93.579215 31.167422, -93.588503 31.165581, -93.598828 31.174679, -93.600308 31.176158, -93.602443 31.182541, -93.607288 31.205403, -93.604319 31.215286, -93.604319 31.220794, -93.60526 31.224153, -93.607409 31.227243, -93.609828 31.229661, -93.616007 31.23396, -93.616308 31.244595, -93.614288 31.251631, -93.613942 31.259375, -93.620343 31.271025, -93.642516 31.269508, -93.657004 31.281736, -93.668928 31.297975, -93.67544 31.30104, -93.684039 31.301771, -93.68688 31.305166, -93.687851 31.309835, -93.677277 31.330483, -93.668439 31.353012, -93.665825 31.355184, -93.664665 31.357698, -93.663698 31.360019, -93.663892 31.361953, -93.665052 31.363886, -93.66892 31.3664, -93.669693 31.371815, -93.668146 31.375103, -93.668533 31.379357, -93.670182 31.387184, -93.6716172752724 31.393239251628, -93.671644 31.393352, -93.674117 31.397681, -93.695866 31.409392, -93.701611 31.409334, -93.704879 31.410881, -93.7046979697245 31.418103297408, -93.704678 31.4189, -93.697603 31.428409, -93.70093 31.437784, -93.709416 31.442995, -93.749476 31.46869, -93.74987 31.475276, -93.74987 31.478929, -93.747841 31.480958, -93.745608 31.481973, -93.741885 31.483535, -93.737168 31.484622, -93.730998 31.492119, -93.728766 31.496786, -93.725925 31.504092, -93.7266515585516 31.5108182658517, -93.726736 31.5116, -93.733433 31.513223, -93.739318 31.51505, -93.740332 31.517079, -93.741111 31.520101, -93.7414101445306 31.5217752553796, -93.74155 31.522558, -93.743376 31.525196, -93.746826 31.526008, -93.74987 31.526211, -93.751899 31.525602, -93.75386 31.525331, -93.760062 31.523933, -93.780835 31.525384, -93.787687 31.527344, -93.798087 31.534044, -93.818582 31.554826, -93.820764 31.558221, -93.822958 31.56813, -93.834924 31.586211, -93.839383 31.599075, -93.838057 31.606795, -93.827852 31.616551, -93.823977 31.614228, -93.818717 31.614556, -93.816838 31.622509, -93.818037 31.647892, -93.825661 31.661022, -93.826462 31.666919, -93.822051 31.673967, -93.817425 31.672146, -93.804479 31.685664, -93.802452 31.693186, -93.802694 31.697783, -93.803419 31.700686, -93.80727 31.704232, -93.810304 31.705481, -93.814587 31.707444, -93.815836 31.711905, -93.815657 31.719043, -93.819048 31.728858, -93.824579 31.734397, -93.830647 31.745811, -93.830112 31.754555, -93.827343 31.75937, -93.822598 31.773559, -93.823443 31.775098, -93.827451 31.777741, -93.831197 31.780227, -93.834649 31.783309, -93.836868 31.788734, -93.836868 31.794159, -93.839951 31.798597, -93.846188 31.802021, -93.85339 31.805467, -93.870917 31.816837, -93.874761 31.821661, -93.874822 31.840611, -93.8792944619865 31.8439767742438, -93.875187 31.844237))"
        ],
        [
         "43",
         "22087",
         "St. Bernard Parish",
         "15.1",
         "MULTIPOLYGON (((-88.881454 30.053202, -88.870476 30.049212, -88.855583 30.034414, -88.841225 30.012789, -88.833725 29.998821, -88.824158 29.970461, -88.817017 29.93425, -88.818146 29.889109, -88.826538 29.847092, -88.83271 29.824062, -88.844078 29.795713, -88.86295 29.757052, -88.875091 29.759818, -88.873734 29.775426, -88.867973 29.79133, -88.861267 29.805826, -88.853579 29.821337, -88.846861 29.836636, -88.843277 29.86381, -88.836784 29.886159, -88.835104 29.922558, -88.837379 29.944878, -88.838715 29.962326, -88.84938 29.994588, -88.854419 30.012042, -88.867856 30.025858, -88.877933 30.041126, -88.881454 30.053202)), ((-89.342163 30.059172, -89.316431 30.069213, -89.303026 30.09157, -89.2488843191278 30.125196, -89.233168 30.134957, -89.200275223582 30.1556073428274, -89.190475 30.16176, -89.1860179113059 30.1540942272855, -89.183256 30.149344, -89.2037390455571 30.1259605110683, -89.212966 30.115427, -89.227085 30.095126, -89.2208 30.071445, -89.185799 30.063934, -89.173401 30.04336, -89.183959 30.032768, -89.202974 30.03462, -89.212336 30.019577, -89.201584 30.001429, -89.215675 29.993523, -89.2295 30.000433, -89.227217 30.021244, -89.239289 30.040805, -89.259779 30.049433, -89.276179 30.031739, -89.281262 30.032894, -89.308504 30.039763, -89.328706 30.038323, -89.336991 30.039992, -89.342163 30.059172)), ((-89.442093 30.144369, -89.424501 30.153455, -89.419687853324 30.1465446308999, -89.417694 30.143682, -89.429031 30.128559, -89.439003 30.127527, -89.453022 30.139068, -89.442093 30.144369)), ((-90.012102 29.94598, -90.006408 29.958288, -89.998675 29.973703, -89.996539 29.973076, -89.989882 29.98949, -89.974291 29.994692, -89.93901 29.980391, -89.914168 29.999098, -89.895132 30.002345, -89.881599 29.9862, -89.8561145499887 29.9970679396966, -89.852312 29.97765, -89.844202 29.955645, -89.8385 29.945816, -89.8374713040458 29.9451008951202, -89.829023 29.939228, -89.81803 29.934145, -89.804463 29.932588, -89.775459 29.937416, -89.748492 29.945831, -89.727933 29.95878, -89.719067 29.953699, -89.71291 29.946349, -89.736311 29.936263, -89.742727 29.935894, -89.746273 29.928221, -89.742479 29.90817, -89.711158 29.879287, -89.692004 29.868722, -89.671555 29.867535, -89.660568 29.862909, -89.638016 29.864065, -89.613159 29.87216, -89.598129 29.881409, -89.591194 29.897018, -89.592346 29.917253, -89.583099 29.931705, -89.583099 29.945581, -89.574997 29.959455, -89.574425 29.983738, -89.58136 29.994722, -89.571533 29.999926, -89.551292 30.005709, -89.501587 30.034037, -89.494064 30.040972, -89.494637 30.0508, -89.499275 30.058893, -89.493484 30.072191, -89.481926 30.079128, -89.458946 30.06345, -89.444618 30.060959, -89.429047 30.05224, -89.418465 30.049747, -89.372375 30.054729, -89.368637 30.047256, -89.372375 30.036671, -89.381096 30.030441, -89.393555 30.029818, -89.41597 30.020477, -89.422813 30.015495, -89.432785 30.008022, -89.433411 29.991205, -89.432785 29.978752, -89.40538 29.965672, -89.393555 29.966295, -89.379227 29.963804, -89.378601 29.919588, -89.368019 29.911491, -89.331894 29.91585, -89.315453 29.923208, -89.283562 29.97332, -89.273315 29.99382, -89.250534 30.002361, -89.243706 29.997236, -89.249969 29.975597, -89.218071 29.97275, -89.22377 29.961929, -89.231178 29.925484, -89.244843 29.93004, -89.263062 29.929472, -89.280144 29.924915, -89.318306 29.898149, -89.322289 29.887333, -89.311462 29.881636, -89.289253 29.880499, -89.272179 29.886763, -89.241425 29.88961, -89.236298 29.886763, -89.236298 29.877081, -89.254517 29.864552, -89.269897 29.859997, -89.294952 29.857149, -89.317726 29.850885, -89.363289 29.84576, -89.383789 29.838928, -89.383217 29.830385, -89.372971 29.82526, -89.345634 29.820135, -89.342781 29.798496, -89.33197 29.790524, -89.318306 29.788815, -89.293251 29.803053, -89.277298 29.807608, -89.277298 29.799635, -89.284134 29.795649, -89.284706 29.770021, -89.269325 29.760912, -89.271034 29.756355, -89.305199 29.756926, -89.316025 29.760912, -89.325134 29.772301, -89.337662 29.779135, -89.354179 29.781412, -89.367271 29.775148, -89.386063 29.788815, -89.394608 29.784828, -89.399162 29.770592, -89.414536 29.752371, -89.428207 29.74155, -89.43025 29.712606, -89.39609 29.69572, -89.387794 29.679991, -89.403956 29.681808, -89.42421 29.697638, -89.426667 29.678625, -89.433808 29.656365, -89.465562 29.651738, -89.471182 29.673158, -89.467599 29.699019, -89.486961 29.72592, -89.524887 29.726566, -89.519563 29.692215, -89.53376 29.670204, -89.570928 29.665046, -89.628181 29.680682, -89.660282 29.708747, -89.683853 29.716033, -89.692208 29.738457, -89.705033 29.752792, -89.721045 29.757652, -89.758023 29.758498, -89.767727 29.755323, -89.790754 29.760821, -89.786198 29.773281, -89.803004 29.792724, -89.816395 29.801327, -89.83066 29.801246, -89.859815 29.793042, -89.86972 29.795451, -89.878485 29.815193, -89.895932 29.833237, -89.90408 29.853082, -89.910708 29.867865, -89.902694 29.878068, -89.907784 29.897151, -89.91681 29.910391, -89.928776 29.921786, -89.943353 29.924454, -89.960702 29.923846, -89.972001 29.925456, -89.985051 29.930173, -90.00188 29.939968, -90.008158 29.943704, -90.012102 29.94598)))"
        ],
        [
         "44",
         "22089",
         "St. Charles Parish",
         "13.3",
         "POLYGON ((-90.54974 30.002696, -90.538748 30.007748, -90.538264 30.016847, -90.475767 30.035905, -90.474238 30.031353, -90.467788 30.031709, -90.450218 30.033106, -90.442839 30.041927, -90.407006 30.083109, -90.349714 30.120251, -90.326637 30.150188, -90.259889 30.16341, -90.272604 30.1078, -90.27922 30.050213, -90.27922 30.049118, -90.279434 30.042793, -90.279569 30.023519, -90.279495 30.006797, -90.27951 30.006448, -90.279865 29.99802, -90.280057 29.991706, -90.280281 29.973703, -90.279533 29.967971, -90.275566 29.940683, -90.275527 29.940189, -90.27349 29.92176, -90.271153 29.914212, -90.243339 29.880935, -90.2332 29.857963, -90.231727 29.857086, -90.182044 29.827598, -90.173202 29.827524, -90.167274 29.81846, -90.211288 29.730504, -90.228157 29.692028, -90.315965 29.692448, -90.352104 29.695512, -90.361541 29.70745, -90.360794 29.737054, -90.371978 29.759239, -90.405227 29.774335, -90.429887 29.776387, -90.475418 29.81221, -90.476306 29.824875, -90.479904 29.847377, -90.49887 29.86506, -90.515724 29.864727, -90.529601 29.884997, -90.532203 29.967938, -90.549342 29.968045, -90.54974 30.002696))"
        ],
        [
         "45",
         "22091",
         "St. Helena Parish",
         "22.0",
         "POLYGON ((-90.870916 30.693329, -90.844181 30.708047, -90.848768 30.719458, -90.839794 30.719414, -90.850396 30.754326, -90.837545 30.798859, -90.834735 30.813177, -90.848207 30.839675, -90.844911 30.854959, -90.861408 30.870715, -90.845366 30.888574, -90.863041 30.941981, -90.845242 30.962524, -90.844211 30.982705, -90.8258293654941 30.9993604066554, -90.783745 30.999447, -90.779858 30.999457, -90.775981 30.999491, -90.769333 30.999374, -90.758775 30.999583, -90.734552 30.999222, -90.734473 30.999214, -90.651193 30.99951, -90.648721 30.999486, -90.588676 30.99965, -90.587373 30.999604, -90.584448 30.999698, -90.583518 30.999698, -90.567195 30.999733, -90.567198 30.824806, -90.566367 30.716257, -90.565821 30.663902, -90.567126 30.650015, -90.634595 30.649869, -90.643606 30.649875, -90.852662 30.649564, -90.910701 30.649385, -90.870916 30.693329))"
        ],
        [
         "46",
         "22093",
         "St. James Parish",
         "17.7",
         "POLYGON ((-90.963745 30.066831, -90.935594 30.085558, -90.914657 30.108835, -90.915565 30.113285, -90.786133 30.138325, -90.70791 30.153656, -90.642111 30.166448, -90.64982 30.120658, -90.653722 30.096361, -90.670871 30.094112, -90.661213 30.050812, -90.669967 30.0476, -90.687269 30.037204, -90.68885 30.035953, -90.678568 29.988417, -90.675663 29.987126, -90.667137 29.981012, -90.665603 29.907684, -90.656312 29.889246, -90.680691 29.892588, -90.690195 29.904865, -90.717344 29.8967, -90.728629 29.906186, -90.731854 29.905237, -90.7787 29.922007, -90.785427 29.907585, -90.885749 29.905348, -90.886086 29.923702, -90.886306 29.935647, -90.911784 29.935072, -90.911804 29.9785, -90.946294 29.977932, -90.946325 30.000957, -90.946373 30.036042, -90.963357 30.035783, -90.963745 30.066831))"
        ],
        [
         "47",
         "22095",
         "St. John the Baptist Parish",
         "16.4",
         "POLYGON ((-90.687269 30.037204, -90.669967 30.0476, -90.661213 30.050812, -90.670871 30.094112, -90.653722 30.096361, -90.64982 30.120658, -90.642111 30.166448, -90.631905 30.22119, -90.5995 30.216836, -90.592021 30.208324, -90.577815 30.197168, -90.554147 30.195628, -90.509076 30.230135, -90.485826 30.276992, -90.410745 30.281428, -90.400528 30.285695, -90.372264 30.283638, -90.350308 30.296831, -90.320464 30.298985, -90.300923 30.29468, -90.160636 30.234337, -90.154034 30.20348, -90.156256 30.189613, -90.220332 30.1756, -90.259889 30.16341, -90.326637 30.150188, -90.349714 30.120251, -90.407006 30.083109, -90.442839 30.041927, -90.450218 30.033106, -90.467788 30.031709, -90.474238 30.031353, -90.475767 30.035905, -90.538264 30.016847, -90.538748 30.007748, -90.54974 30.002696, -90.549342 29.968045, -90.532203 29.967938, -90.529601 29.884997, -90.535416 29.891061, -90.593505 29.892927, -90.600753 29.888065, -90.628003 29.89523, -90.656312 29.889246, -90.665603 29.907684, -90.667137 29.981012, -90.675663 29.987126, -90.678568 29.988417, -90.68885 30.035953, -90.687269 30.037204))"
        ],
        [
         "48",
         "22097",
         "St. Landry Parish",
         "23.9",
         "POLYGON ((-92.464347 30.495318, -92.458914 30.52793, -92.449371 30.534194, -92.424543 30.536776, -92.42078 30.53882, -92.262719 30.538738, -92.262356 30.568268, -92.211478 30.568127, -92.211517 30.617168, -92.202955 30.64393, -92.200451 30.656155, -92.193956 30.659333, -92.172484 30.673829, -92.172314 30.767914, -92.206915 30.78475, -92.21139 30.793157, -92.212593 30.848609, -92.100518 30.849964, -92.057016 30.849628, -92.02998 30.849462, -91.949037 30.849353, -91.815258 30.848107, -91.798459 30.828991, -91.807295 30.811069, -91.768759 30.785389, -91.756279 30.760135, -91.757942 30.74099, -91.733955 30.703406, -91.734813 30.666697, -91.744539 30.662418, -91.740996 30.632538, -91.751357 30.603698, -91.75698 30.562551, -91.749474 30.546425, -91.731432 30.512119, -91.756209 30.498133, -91.754157 30.485334, -91.736545 30.451489, -91.72264 30.452326, -91.713295 30.431893, -91.6985 30.414607, -91.6943 30.401748, -91.678896 30.394731, -91.802826 30.394285, -91.81271 30.39426, -91.869273 30.417235, -91.907402 30.404411, -91.937271 30.394718, -91.978184 30.407403, -91.981472 30.381692, -91.988718 30.368598, -92.015775 30.371395, -92.027019 30.359898, -92.0533 30.378993, -92.083938 30.360078, -92.084554 30.352806, -92.085418 30.339516, -92.089215 30.330509, -92.094908 30.32998, -92.142184 30.298817, -92.141789 30.309839, -92.141509 30.320764, -92.15846 30.320806, -92.158605 30.349909, -92.175778 30.3497, -92.176124 30.385983, -92.176059 30.400471, -92.176435 30.421033, -92.176444 30.436852, -92.24425 30.436678, -92.244795 30.480193, -92.389177 30.480004, -92.412875 30.480068, -92.413567 30.480061, -92.431544 30.480074, -92.493259 30.480499, -92.464347 30.495318))"
        ],
        [
         "49",
         "22099",
         "St. Martin Parish",
         "20.4",
         "MULTIPOLYGON (((-91.471953 29.956304, -91.255229 29.971457, -91.251395 29.957591, -91.231576 29.935649, -91.232016 29.918171, -91.214076 29.907569, -91.200263 29.861793, -91.187338 29.84869, -91.150227 29.836831, -91.133079 29.837306, -91.109462 29.823945, -91.092748 29.801574, -91.100052 29.785059, -91.094378 29.764575, -91.095364 29.737032, -91.106551 29.733487, -91.10001 29.699402, -91.134117 29.724073, -91.179058 29.728135, -91.195289 29.740419, -91.206105 29.746258, -91.215195 29.751211, -91.229398 29.748922, -91.298584 29.764966, -91.352348 29.766552, -91.386491 29.783681, -91.373642 29.834401, -91.40113 29.873526, -91.413559 29.904993, -91.47196 29.947964, -91.471953 29.956304)), ((-91.981472 30.381692, -91.978184 30.407403, -91.937271 30.394718, -91.907402 30.404411, -91.869273 30.417235, -91.81271 30.39426, -91.802826 30.394285, -91.678896 30.394731, -91.6943 30.401748, -91.6985 30.414607, -91.713295 30.431893, -91.72264 30.452326, -91.736545 30.451489, -91.754157 30.485334, -91.756209 30.498133, -91.701339 30.497747, -91.640078 30.442673, -91.62483 30.394789, -91.644846 30.363445, -91.625483 30.354209, -91.627544 30.330102, -91.61141 30.298475, -91.587732 30.273282, -91.588039 30.257113, -91.575655 30.247773, -91.545816 30.239992, -91.508268 30.240297, -91.475277 30.229231, -91.489081 30.199277, -91.471797 30.186266, -91.468183 30.148957, -91.461313 30.131246, -91.46995 30.109072, -91.463898 30.102682, -91.388841 30.102445, -91.378025 30.094851, -91.368835 30.058824, -91.487217 30.058055, -91.495427 30.041369, -91.507763 30.033282, -91.600217 30.033036, -91.612219 30.067702, -91.630579 30.07188, -91.655602 30.102896, -91.67839 30.104962, -91.703278 30.121144, -91.726628 30.122413, -91.765338 30.108432, -91.760549 30.090915, -91.801323 30.070081, -91.813546 30.049456, -91.815561 30.047089, -91.819013 30.044242, -91.883524 30.063569, -91.895806 30.05722, -91.906887 30.072593, -91.939256 30.072678, -91.951159 30.07278, -91.941428 30.099765, -91.934126 30.119717, -91.906054 30.153715, -91.910442 30.15721, -91.920718 30.1879, -91.954718 30.1871, -91.974347 30.177363, -91.976879 30.210933, -91.957918 30.2119, -91.942818 30.236599, -91.963702 30.240672, -91.968119 30.259032, -91.976933 30.260649, -91.95134 30.275389, -91.949433 30.279286, -91.949944 30.280972, -91.952329 30.29278, -91.966215 30.32444, -91.950745 30.348369, -91.95377 30.359987, -91.988718 30.368598, -91.981472 30.381692)))"
        ]
       ],
       "shape": {
        "columns": 4,
        "rows": 64
       }
      },
      "text/html": [
       "<div>\n",
       "<style scoped>\n",
       "    .dataframe tbody tr th:only-of-type {\n",
       "        vertical-align: middle;\n",
       "    }\n",
       "\n",
       "    .dataframe tbody tr th {\n",
       "        vertical-align: top;\n",
       "    }\n",
       "\n",
       "    .dataframe thead th {\n",
       "        text-align: right;\n",
       "    }\n",
       "</style>\n",
       "<table border=\"1\" class=\"dataframe\">\n",
       "  <thead>\n",
       "    <tr style=\"text-align: right;\">\n",
       "      <th></th>\n",
       "      <th>index</th>\n",
       "      <th>parish</th>\n",
       "      <th>all_ages_pov_pct_est</th>\n",
       "      <th>geometry</th>\n",
       "    </tr>\n",
       "  </thead>\n",
       "  <tbody>\n",
       "    <tr>\n",
       "      <th>0</th>\n",
       "      <td>22001</td>\n",
       "      <td>Acadia Parish</td>\n",
       "      <td>21.0</td>\n",
       "      <td>POLYGON ((-92.63216 30.31429, -92.6195 30.3400...</td>\n",
       "    </tr>\n",
       "    <tr>\n",
       "      <th>1</th>\n",
       "      <td>22003</td>\n",
       "      <td>Allen Parish</td>\n",
       "      <td>22.0</td>\n",
       "      <td>POLYGON ((-93.13119 30.51828, -93.13081 30.564...</td>\n",
       "    </tr>\n",
       "    <tr>\n",
       "      <th>2</th>\n",
       "      <td>22005</td>\n",
       "      <td>Ascension Parish</td>\n",
       "      <td>12.0</td>\n",
       "      <td>POLYGON ((-91.10656 30.10852, -91.08983 30.108...</td>\n",
       "    </tr>\n",
       "    <tr>\n",
       "      <th>3</th>\n",
       "      <td>22007</td>\n",
       "      <td>Assumption Parish</td>\n",
       "      <td>19.3</td>\n",
       "      <td>POLYGON ((-91.25894 30.00067, -91.23635 30.000...</td>\n",
       "    </tr>\n",
       "    <tr>\n",
       "      <th>4</th>\n",
       "      <td>22009</td>\n",
       "      <td>Avoyelles Parish</td>\n",
       "      <td>24.8</td>\n",
       "      <td>POLYGON ((-92.28074 30.96507, -92.2086 30.9621...</td>\n",
       "    </tr>\n",
       "    <tr>\n",
       "      <th>...</th>\n",
       "      <td>...</td>\n",
       "      <td>...</td>\n",
       "      <td>...</td>\n",
       "      <td>...</td>\n",
       "    </tr>\n",
       "    <tr>\n",
       "      <th>59</th>\n",
       "      <td>22119</td>\n",
       "      <td>Webster Parish</td>\n",
       "      <td>19.0</td>\n",
       "      <td>POLYGON ((-93.51632 33.00254, -93.52099 33.018...</td>\n",
       "    </tr>\n",
       "    <tr>\n",
       "      <th>60</th>\n",
       "      <td>22121</td>\n",
       "      <td>West Baton Rouge Parish</td>\n",
       "      <td>16.8</td>\n",
       "      <td>POLYGON ((-91.48173 30.51103, -91.41482 30.511...</td>\n",
       "    </tr>\n",
       "    <tr>\n",
       "      <th>61</th>\n",
       "      <td>22123</td>\n",
       "      <td>West Carroll Parish</td>\n",
       "      <td>22.7</td>\n",
       "      <td>POLYGON ((-91.63888 32.70247, -91.61772 32.720...</td>\n",
       "    </tr>\n",
       "    <tr>\n",
       "      <th>62</th>\n",
       "      <td>22125</td>\n",
       "      <td>West Feliciana Parish</td>\n",
       "      <td>20.4</td>\n",
       "      <td>MULTIPOLYGON (((-91.66251 30.97036, -91.64877 ...</td>\n",
       "    </tr>\n",
       "    <tr>\n",
       "      <th>63</th>\n",
       "      <td>22127</td>\n",
       "      <td>Winn Parish</td>\n",
       "      <td>22.8</td>\n",
       "      <td>POLYGON ((-92.97604 31.71242, -92.9686 31.7310...</td>\n",
       "    </tr>\n",
       "  </tbody>\n",
       "</table>\n",
       "<p>64 rows × 4 columns</p>\n",
       "</div>"
      ],
      "text/plain": [
       "    index                   parish all_ages_pov_pct_est  \\\n",
       "0   22001            Acadia Parish                 21.0   \n",
       "1   22003             Allen Parish                 22.0   \n",
       "2   22005         Ascension Parish                 12.0   \n",
       "3   22007        Assumption Parish                 19.3   \n",
       "4   22009         Avoyelles Parish                 24.8   \n",
       "..    ...                      ...                  ...   \n",
       "59  22119           Webster Parish                 19.0   \n",
       "60  22121  West Baton Rouge Parish                 16.8   \n",
       "61  22123      West Carroll Parish                 22.7   \n",
       "62  22125    West Feliciana Parish                 20.4   \n",
       "63  22127              Winn Parish                 22.8   \n",
       "\n",
       "                                             geometry  \n",
       "0   POLYGON ((-92.63216 30.31429, -92.6195 30.3400...  \n",
       "1   POLYGON ((-93.13119 30.51828, -93.13081 30.564...  \n",
       "2   POLYGON ((-91.10656 30.10852, -91.08983 30.108...  \n",
       "3   POLYGON ((-91.25894 30.00067, -91.23635 30.000...  \n",
       "4   POLYGON ((-92.28074 30.96507, -92.2086 30.9621...  \n",
       "..                                                ...  \n",
       "59  POLYGON ((-93.51632 33.00254, -93.52099 33.018...  \n",
       "60  POLYGON ((-91.48173 30.51103, -91.41482 30.511...  \n",
       "61  POLYGON ((-91.63888 32.70247, -91.61772 32.720...  \n",
       "62  MULTIPOLYGON (((-91.66251 30.97036, -91.64877 ...  \n",
       "63  POLYGON ((-92.97604 31.71242, -92.9686 31.7310...  \n",
       "\n",
       "[64 rows x 4 columns]"
      ]
     },
     "execution_count": 304,
     "metadata": {},
     "output_type": "execute_result"
    }
   ],
   "source": [
    "# Concatenate the la dataframe with the df_poverty dataframe to include the geometry variable\n",
    "df_poverty_with_geometry = pd.concat(\n",
    "    [df_poverty.set_index(\"FIPS\"), la.set_index(\"GEOID\")[[\"geometry\"]]],\n",
    "    axis=1,\n",
    "    join=\"inner\",\n",
    ").reset_index()\n",
    "\n",
    "df_poverty_with_geometry"
   ]
  },
  {
   "cell_type": "code",
   "execution_count": 305,
   "id": "aa520b34",
   "metadata": {},
   "outputs": [
    {
     "data": {
      "text/html": [
       "<div>\n",
       "<style scoped>\n",
       "    .dataframe tbody tr th:only-of-type {\n",
       "        vertical-align: middle;\n",
       "    }\n",
       "\n",
       "    .dataframe tbody tr th {\n",
       "        vertical-align: top;\n",
       "    }\n",
       "\n",
       "    .dataframe thead th {\n",
       "        text-align: right;\n",
       "    }\n",
       "</style>\n",
       "<table border=\"1\" class=\"dataframe\">\n",
       "  <thead>\n",
       "    <tr style=\"text-align: right;\">\n",
       "      <th></th>\n",
       "      <th>index</th>\n",
       "      <th>parish</th>\n",
       "      <th>all_ages_pov_pct_est</th>\n",
       "      <th>geometry</th>\n",
       "      <th>pov_bin</th>\n",
       "    </tr>\n",
       "  </thead>\n",
       "  <tbody>\n",
       "    <tr>\n",
       "      <th>0</th>\n",
       "      <td>22001</td>\n",
       "      <td>Acadia Parish</td>\n",
       "      <td>21.0</td>\n",
       "      <td>POLYGON ((-92.63216 30.31429, -92.6195 30.3400...</td>\n",
       "      <td>21–25%</td>\n",
       "    </tr>\n",
       "    <tr>\n",
       "      <th>1</th>\n",
       "      <td>22003</td>\n",
       "      <td>Allen Parish</td>\n",
       "      <td>22.0</td>\n",
       "      <td>POLYGON ((-93.13119 30.51828, -93.13081 30.564...</td>\n",
       "      <td>21–25%</td>\n",
       "    </tr>\n",
       "    <tr>\n",
       "      <th>2</th>\n",
       "      <td>22005</td>\n",
       "      <td>Ascension Parish</td>\n",
       "      <td>12.0</td>\n",
       "      <td>POLYGON ((-91.10656 30.10852, -91.08983 30.108...</td>\n",
       "      <td>11–15%</td>\n",
       "    </tr>\n",
       "    <tr>\n",
       "      <th>3</th>\n",
       "      <td>22007</td>\n",
       "      <td>Assumption Parish</td>\n",
       "      <td>19.3</td>\n",
       "      <td>POLYGON ((-91.25894 30.00067, -91.23635 30.000...</td>\n",
       "      <td>16–20%</td>\n",
       "    </tr>\n",
       "    <tr>\n",
       "      <th>4</th>\n",
       "      <td>22009</td>\n",
       "      <td>Avoyelles Parish</td>\n",
       "      <td>24.8</td>\n",
       "      <td>POLYGON ((-92.28074 30.96507, -92.2086 30.9621...</td>\n",
       "      <td>21–25%</td>\n",
       "    </tr>\n",
       "    <tr>\n",
       "      <th>...</th>\n",
       "      <td>...</td>\n",
       "      <td>...</td>\n",
       "      <td>...</td>\n",
       "      <td>...</td>\n",
       "      <td>...</td>\n",
       "    </tr>\n",
       "    <tr>\n",
       "      <th>59</th>\n",
       "      <td>22119</td>\n",
       "      <td>Webster Parish</td>\n",
       "      <td>19.0</td>\n",
       "      <td>POLYGON ((-93.51632 33.00254, -93.52099 33.018...</td>\n",
       "      <td>16–20%</td>\n",
       "    </tr>\n",
       "    <tr>\n",
       "      <th>60</th>\n",
       "      <td>22121</td>\n",
       "      <td>West Baton Rouge Parish</td>\n",
       "      <td>16.8</td>\n",
       "      <td>POLYGON ((-91.48173 30.51103, -91.41482 30.511...</td>\n",
       "      <td>16–20%</td>\n",
       "    </tr>\n",
       "    <tr>\n",
       "      <th>61</th>\n",
       "      <td>22123</td>\n",
       "      <td>West Carroll Parish</td>\n",
       "      <td>22.7</td>\n",
       "      <td>POLYGON ((-91.63888 32.70247, -91.61772 32.720...</td>\n",
       "      <td>21–25%</td>\n",
       "    </tr>\n",
       "    <tr>\n",
       "      <th>62</th>\n",
       "      <td>22125</td>\n",
       "      <td>West Feliciana Parish</td>\n",
       "      <td>20.4</td>\n",
       "      <td>MULTIPOLYGON (((-91.66251 30.97036, -91.64877 ...</td>\n",
       "      <td>21–25%</td>\n",
       "    </tr>\n",
       "    <tr>\n",
       "      <th>63</th>\n",
       "      <td>22127</td>\n",
       "      <td>Winn Parish</td>\n",
       "      <td>22.8</td>\n",
       "      <td>POLYGON ((-92.97604 31.71242, -92.9686 31.7310...</td>\n",
       "      <td>21–25%</td>\n",
       "    </tr>\n",
       "  </tbody>\n",
       "</table>\n",
       "<p>64 rows × 5 columns</p>\n",
       "</div>"
      ],
      "text/plain": [
       "    index                   parish  all_ages_pov_pct_est  \\\n",
       "0   22001            Acadia Parish                  21.0   \n",
       "1   22003             Allen Parish                  22.0   \n",
       "2   22005         Ascension Parish                  12.0   \n",
       "3   22007        Assumption Parish                  19.3   \n",
       "4   22009         Avoyelles Parish                  24.8   \n",
       "..    ...                      ...                   ...   \n",
       "59  22119           Webster Parish                  19.0   \n",
       "60  22121  West Baton Rouge Parish                  16.8   \n",
       "61  22123      West Carroll Parish                  22.7   \n",
       "62  22125    West Feliciana Parish                  20.4   \n",
       "63  22127              Winn Parish                  22.8   \n",
       "\n",
       "                                             geometry pov_bin  \n",
       "0   POLYGON ((-92.63216 30.31429, -92.6195 30.3400...  21–25%  \n",
       "1   POLYGON ((-93.13119 30.51828, -93.13081 30.564...  21–25%  \n",
       "2   POLYGON ((-91.10656 30.10852, -91.08983 30.108...  11–15%  \n",
       "3   POLYGON ((-91.25894 30.00067, -91.23635 30.000...  16–20%  \n",
       "4   POLYGON ((-92.28074 30.96507, -92.2086 30.9621...  21–25%  \n",
       "..                                                ...     ...  \n",
       "59  POLYGON ((-93.51632 33.00254, -93.52099 33.018...  16–20%  \n",
       "60  POLYGON ((-91.48173 30.51103, -91.41482 30.511...  16–20%  \n",
       "61  POLYGON ((-91.63888 32.70247, -91.61772 32.720...  21–25%  \n",
       "62  MULTIPOLYGON (((-91.66251 30.97036, -91.64877 ...  21–25%  \n",
       "63  POLYGON ((-92.97604 31.71242, -92.9686 31.7310...  21–25%  \n",
       "\n",
       "[64 rows x 5 columns]"
      ]
     },
     "execution_count": 305,
     "metadata": {},
     "output_type": "execute_result"
    }
   ],
   "source": [
    "import pandas as pd\n",
    "import matplotlib.pyplot as plt\n",
    "\n",
    "# Create bins manually\n",
    "bins = [0, 5, 10, 15, 20, 25, 100]\n",
    "labels = [\"0–5%\", \"6–10%\", \"11–15%\", \"16–20%\", \"21–25%\", \"25%+\"]\n",
    "\n",
    "# Ensure the column is numeric before applying pd.cut\n",
    "df_poverty_with_geometry[\"all_ages_pov_pct_est\"] = pd.to_numeric(\n",
    "    df_poverty_with_geometry[\"all_ages_pov_pct_est\"], errors=\"coerce\"\n",
    ")\n",
    "\n",
    "df_poverty_with_geometry[\"pov_bin\"] = pd.cut(\n",
    "    df_poverty_with_geometry[\"all_ages_pov_pct_est\"],\n",
    "    bins=bins,\n",
    "    labels=labels,\n",
    "    include_lowest=True,\n",
    ")\n",
    "df_poverty_with_geometry = gpd.GeoDataFrame(\n",
    "    df_poverty_with_geometry, geometry=\"geometry\", crs=\"EPSG:4269\"\n",
    ")\n",
    "df_poverty_with_geometry"
   ]
  },
  {
   "cell_type": "code",
   "execution_count": 306,
   "id": "1f0db417",
   "metadata": {},
   "outputs": [
    {
     "data": {
      "image/png": "[encoded data removed]",
      "text/plain": [
       "<Figure size 800x800 with 1 Axes>"
      ]
     },
     "metadata": {},
     "output_type": "display_data"
    }
   ],
   "source": [
    "# Plot with grey for missing\n",
    "fig, ax = plt.subplots(figsize=(8, 8))\n",
    "df_poverty_with_geometry.plot(\n",
    "    column=\"pov_bin\",\n",
    "    cmap=\"YlGnBu\",\n",
    "    linewidth=0.8,\n",
    "    edgecolor=\"white\",\n",
    "    legend=True,\n",
    "    ax=ax,\n",
    "    missing_kwds={\n",
    "        \"color\": \"lightgrey\",\n",
    "        \"edgecolor\": \"white\",\n",
    "        \"hatch\": \"///\",\n",
    "        \"label\": \"No data\",\n",
    "    },\n",
    ")\n",
    "ax.set_title(\"Poverty Rate by Parish\", fontsize=14)\n",
    "ax.axis(\"off\")\n",
    "plt.show()"
   ]
  },
  {
   "cell_type": "code",
   "execution_count": 307,
   "id": "607248bc",
   "metadata": {},
   "outputs": [
    {
     "data": {
      "application/vnd.microsoft.datawrangler.viewer.v0+json": {
       "columns": [
        {
         "name": "index",
         "rawType": "int64",
         "type": "integer"
        },
        {
         "name": "Unnamed: 0",
         "rawType": "float64",
         "type": "float"
        },
        {
         "name": "Structure Type",
         "rawType": "object",
         "type": "string"
        },
        {
         "name": "GIS City",
         "rawType": "object",
         "type": "string"
        },
        {
         "name": "GIS State",
         "rawType": "object",
         "type": "string"
        },
        {
         "name": "GIS Zip",
         "rawType": "object",
         "type": "string"
        },
        {
         "name": "PARISH",
         "rawType": "object",
         "type": "string"
        },
        {
         "name": "Closing Option",
         "rawType": "float64",
         "type": "float"
        },
        {
         "name": "TOTAL_CLOSING_AMOUNT",
         "rawType": "float64",
         "type": "float"
        },
        {
         "name": "Total CG Amount",
         "rawType": "float64",
         "type": "float"
        },
        {
         "name": "Total ACG Amunt",
         "rawType": "float64",
         "type": "float"
        },
        {
         "name": "Total Elevation Amount",
         "rawType": "float64",
         "type": "float"
        },
        {
         "name": "Total IMM Amount",
         "rawType": "float64",
         "type": "float"
        },
        {
         "name": "NOLA Planning District Number",
         "rawType": "float64",
         "type": "float"
        },
        {
         "name": "NOLA Planning District Name",
         "rawType": "object",
         "type": "unknown"
        },
        {
         "name": "NOLA Neighborhood Number",
         "rawType": "float64",
         "type": "float"
        },
        {
         "name": "NOLA Neighborhood Name",
         "rawType": "object",
         "type": "unknown"
        },
        {
         "name": "FIPS",
         "rawType": "float64",
         "type": "float"
        },
        {
         "name": "STFID",
         "rawType": "float64",
         "type": "float"
        },
        {
         "name": "Census Block",
         "rawType": "float64",
         "type": "float"
        },
        {
         "name": "Block Group",
         "rawType": "float64",
         "type": "float"
        },
        {
         "name": "Census Track",
         "rawType": "float64",
         "type": "float"
        },
        {
         "name": "Current Damage Assessment",
         "rawType": "float64",
         "type": "float"
        },
        {
         "name": "Current Damage Assessment - Type 1",
         "rawType": "float64",
         "type": "float"
        },
        {
         "name": "Current Damage Assessment - Type 2",
         "rawType": "float64",
         "type": "float"
        },
        {
         "name": "Damage Type 1 or 2",
         "rawType": "float64",
         "type": "float"
        },
        {
         "name": "Current PSV",
         "rawType": "float64",
         "type": "float"
        },
        {
         "name": "Current Total DOB Amount (no Legal Fees removed)",
         "rawType": "float64",
         "type": "float"
        },
        {
         "name": "Current Legal Fees",
         "rawType": "float64",
         "type": "float"
        },
        {
         "name": "Closing Damage Assessment",
         "rawType": "float64",
         "type": "float"
        },
        {
         "name": "PSV at Closing",
         "rawType": "float64",
         "type": "float"
        },
        {
         "name": "Closed file - PSV Option 1 With No ACG -excluding Sold Home, Inelig, Deceased and files closed with RHEI & IMM only -23,912",
         "rawType": "object",
         "type": "string"
        },
        {
         "name": "Closed File - Option 2/3, Sold Home, Ineligible, Deceased, and Closed with RHEI and IMM Only",
         "rawType": "object",
         "type": "string"
        },
        {
         "name": "Closed with Approved Unmet Needs (Y/N)",
         "rawType": "object",
         "type": "string"
        },
        {
         "name": "Applicant With Current Insurance (Private and/or Flood) Y/N",
         "rawType": "object",
         "type": "string"
        },
        {
         "name": "Closing Total DOB Amount",
         "rawType": "float64",
         "type": "float"
        },
        {
         "name": "Difference between Current PSV and Current Damage Assessment Type 2 (col AG - col AC",
         "rawType": "float64",
         "type": "float"
        },
        {
         "name": "ARS File (Yes/No)",
         "rawType": "object",
         "type": "string"
        },
        {
         "name": "delta",
         "rawType": "float64",
         "type": "float"
        },
        {
         "name": "gross_loan_amount",
         "rawType": "float64",
         "type": "float"
        }
       ],
       "ref": "d9fdb1f8-688c-46e7-b20c-6e26d579fdac",
       "rows": [
        [
         "0",
         "9613.0",
         "Single (including mobile home)",
         "METAIRIE",
         "LA",
         "70001",
         "Jefferson",
         "1.0",
         "150000.0",
         "95213.27",
         "39036.73",
         "15750.0",
         "0.0",
         null,
         null,
         null,
         null,
         "22051.0",
         "220510000000000.0",
         "220510000000000.0",
         "220510000000.0",
         "22051022900.0",
         "139791.0",
         "139791.0",
         "83181.87",
         "1.0",
         "172000.0",
         "3772.04",
         "0.0",
         "139791.0",
         "172000.0",
         "N",
         "N",
         "N",
         "N",
         "3772.04",
         "-88818.13",
         "N",
         "0.0",
         "150000.0"
        ],
        [
         "1",
         "21349.0",
         "Duplex (with one owner-occupied unit)",
         "METAIRIE",
         "LA",
         "70001",
         "Jefferson",
         "2.0",
         "150000.0",
         "150000.0",
         "0.0",
         "0.0",
         "0.0",
         null,
         null,
         null,
         null,
         "22051.0",
         "220510000000000.0",
         "220510000000000.0",
         "220510000000.0",
         "22051022600.0",
         "197070.0",
         "197070.0",
         "0.0",
         "1.0",
         "250000.0",
         "58137.26",
         "0.0",
         "197070.0",
         "250000.0",
         "N",
         "Y",
         "N",
         "Y",
         "57512.26",
         "-250000.0",
         "N",
         "625.0",
         "149375.0"
        ],
        [
         "2",
         "25325.0",
         "Duplex (with one owner-occupied unit)",
         "METAIRIE",
         "LA",
         "70001",
         "Jefferson",
         "1.0",
         "3450.14",
         "3450.14",
         "0.0",
         "0.0",
         "0.0",
         null,
         null,
         null,
         null,
         "22051.0",
         "220510000000000.0",
         "220510000000000.0",
         "220510000000.0",
         "22051023100.0",
         "33191.14",
         "305010.6",
         "33191.14",
         "2.0",
         "240000.0",
         "29741.0",
         "0.0",
         "33191.14",
         "240000.0",
         "N",
         "Y",
         "N",
         "Y",
         "29741.0",
         "-206808.86",
         "N",
         "0.0",
         "3450.14"
        ],
        [
         "3",
         "27236.0",
         "Duplex (with one owner-occupied unit)",
         "METAIRIE",
         "LA",
         "70001",
         "Jefferson",
         "1.0",
         "10665.59",
         "10665.59",
         "0.0",
         "0.0",
         "0.0",
         null,
         null,
         null,
         null,
         "22051.0",
         "220510000000000.0",
         "220510000000000.0",
         "220510000000.0",
         "22051024200.0",
         "15490.14",
         "242423.4",
         "15490.14",
         "2.0",
         "136000.0",
         "4824.55",
         "0.0",
         "15490.14",
         "136000.0",
         "N",
         "N",
         "N",
         "Y",
         "4824.55",
         "-120509.86",
         "N",
         "0.0",
         "10665.59"
        ],
        [
         "4",
         "36177.0",
         "Single (including mobile home)",
         "METAIRIE",
         "LA",
         "70001",
         "Jefferson",
         "1.0",
         "131947.98",
         "101947.98",
         "0.0",
         "30000.0",
         "0.0",
         null,
         null,
         null,
         null,
         "22051.0",
         "220510000000000.0",
         "220510000000000.0",
         "220510000000.0",
         "22051024800.0",
         "178120.0",
         "178120.0",
         "0.0",
         "1.0",
         "345000.0",
         "76172.02",
         "0.0",
         "178112.4",
         "345000.0",
         "N",
         "N",
         "N",
         "Y",
         "75005.62",
         "-345000.0",
         "N",
         "1166.4000000000087",
         "130781.58"
        ]
       ],
       "shape": {
        "columns": 39,
        "rows": 5
       }
      },
      "text/html": [
       "<div>\n",
       "<style scoped>\n",
       "    .dataframe tbody tr th:only-of-type {\n",
       "        vertical-align: middle;\n",
       "    }\n",
       "\n",
       "    .dataframe tbody tr th {\n",
       "        vertical-align: top;\n",
       "    }\n",
       "\n",
       "    .dataframe thead th {\n",
       "        text-align: right;\n",
       "    }\n",
       "</style>\n",
       "<table border=\"1\" class=\"dataframe\">\n",
       "  <thead>\n",
       "    <tr style=\"text-align: right;\">\n",
       "      <th></th>\n",
       "      <th>Unnamed: 0</th>\n",
       "      <th>Structure Type</th>\n",
       "      <th>GIS City</th>\n",
       "      <th>GIS State</th>\n",
       "      <th>GIS Zip</th>\n",
       "      <th>PARISH</th>\n",
       "      <th>Closing Option</th>\n",
       "      <th>TOTAL_CLOSING_AMOUNT</th>\n",
       "      <th>Total CG Amount</th>\n",
       "      <th>Total ACG Amunt</th>\n",
       "      <th>...</th>\n",
       "      <th>PSV at Closing</th>\n",
       "      <th>Closed file - PSV Option 1 With No ACG -excluding Sold Home, Inelig, Deceased and files closed with RHEI &amp; IMM only -23,912</th>\n",
       "      <th>Closed File - Option 2/3, Sold Home, Ineligible, Deceased, and Closed with RHEI and IMM Only</th>\n",
       "      <th>Closed with Approved Unmet Needs (Y/N)</th>\n",
       "      <th>Applicant With Current Insurance (Private and/or Flood) Y/N</th>\n",
       "      <th>Closing Total DOB Amount</th>\n",
       "      <th>Difference between Current PSV and Current Damage Assessment Type 2 (col AG - col AC</th>\n",
       "      <th>ARS File (Yes/No)</th>\n",
       "      <th>delta</th>\n",
       "      <th>gross_loan_amount</th>\n",
       "    </tr>\n",
       "  </thead>\n",
       "  <tbody>\n",
       "    <tr>\n",
       "      <th>0</th>\n",
       "      <td>9613.0</td>\n",
       "      <td>Single (including mobile home)</td>\n",
       "      <td>METAIRIE</td>\n",
       "      <td>LA</td>\n",
       "      <td>70001</td>\n",
       "      <td>Jefferson</td>\n",
       "      <td>1.0</td>\n",
       "      <td>150000.00</td>\n",
       "      <td>95213.27</td>\n",
       "      <td>39036.73</td>\n",
       "      <td>...</td>\n",
       "      <td>172000.0</td>\n",
       "      <td>N</td>\n",
       "      <td>N</td>\n",
       "      <td>N</td>\n",
       "      <td>N</td>\n",
       "      <td>3772.04</td>\n",
       "      <td>-88818.13</td>\n",
       "      <td>N</td>\n",
       "      <td>0.0</td>\n",
       "      <td>150000.00</td>\n",
       "    </tr>\n",
       "    <tr>\n",
       "      <th>1</th>\n",
       "      <td>21349.0</td>\n",
       "      <td>Duplex (with one owner-occupied unit)</td>\n",
       "      <td>METAIRIE</td>\n",
       "      <td>LA</td>\n",
       "      <td>70001</td>\n",
       "      <td>Jefferson</td>\n",
       "      <td>2.0</td>\n",
       "      <td>150000.00</td>\n",
       "      <td>150000.00</td>\n",
       "      <td>0.00</td>\n",
       "      <td>...</td>\n",
       "      <td>250000.0</td>\n",
       "      <td>N</td>\n",
       "      <td>Y</td>\n",
       "      <td>N</td>\n",
       "      <td>Y</td>\n",
       "      <td>57512.26</td>\n",
       "      <td>-250000.00</td>\n",
       "      <td>N</td>\n",
       "      <td>625.0</td>\n",
       "      <td>149375.00</td>\n",
       "    </tr>\n",
       "    <tr>\n",
       "      <th>2</th>\n",
       "      <td>25325.0</td>\n",
       "      <td>Duplex (with one owner-occupied unit)</td>\n",
       "      <td>METAIRIE</td>\n",
       "      <td>LA</td>\n",
       "      <td>70001</td>\n",
       "      <td>Jefferson</td>\n",
       "      <td>1.0</td>\n",
       "      <td>3450.14</td>\n",
       "      <td>3450.14</td>\n",
       "      <td>0.00</td>\n",
       "      <td>...</td>\n",
       "      <td>240000.0</td>\n",
       "      <td>N</td>\n",
       "      <td>Y</td>\n",
       "      <td>N</td>\n",
       "      <td>Y</td>\n",
       "      <td>29741.00</td>\n",
       "      <td>-206808.86</td>\n",
       "      <td>N</td>\n",
       "      <td>0.0</td>\n",
       "      <td>3450.14</td>\n",
       "    </tr>\n",
       "    <tr>\n",
       "      <th>3</th>\n",
       "      <td>27236.0</td>\n",
       "      <td>Duplex (with one owner-occupied unit)</td>\n",
       "      <td>METAIRIE</td>\n",
       "      <td>LA</td>\n",
       "      <td>70001</td>\n",
       "      <td>Jefferson</td>\n",
       "      <td>1.0</td>\n",
       "      <td>10665.59</td>\n",
       "      <td>10665.59</td>\n",
       "      <td>0.00</td>\n",
       "      <td>...</td>\n",
       "      <td>136000.0</td>\n",
       "      <td>N</td>\n",
       "      <td>N</td>\n",
       "      <td>N</td>\n",
       "      <td>Y</td>\n",
       "      <td>4824.55</td>\n",
       "      <td>-120509.86</td>\n",
       "      <td>N</td>\n",
       "      <td>0.0</td>\n",
       "      <td>10665.59</td>\n",
       "    </tr>\n",
       "    <tr>\n",
       "      <th>4</th>\n",
       "      <td>36177.0</td>\n",
       "      <td>Single (including mobile home)</td>\n",
       "      <td>METAIRIE</td>\n",
       "      <td>LA</td>\n",
       "      <td>70001</td>\n",
       "      <td>Jefferson</td>\n",
       "      <td>1.0</td>\n",
       "      <td>131947.98</td>\n",
       "      <td>101947.98</td>\n",
       "      <td>0.00</td>\n",
       "      <td>...</td>\n",
       "      <td>345000.0</td>\n",
       "      <td>N</td>\n",
       "      <td>N</td>\n",
       "      <td>N</td>\n",
       "      <td>Y</td>\n",
       "      <td>75005.62</td>\n",
       "      <td>-345000.00</td>\n",
       "      <td>N</td>\n",
       "      <td>1166.4</td>\n",
       "      <td>130781.58</td>\n",
       "    </tr>\n",
       "  </tbody>\n",
       "</table>\n",
       "<p>5 rows × 39 columns</p>\n",
       "</div>"
      ],
      "text/plain": [
       "   Unnamed: 0                         Structure Type  GIS City GIS State  \\\n",
       "0      9613.0         Single (including mobile home)  METAIRIE        LA   \n",
       "1     21349.0  Duplex (with one owner-occupied unit)  METAIRIE        LA   \n",
       "2     25325.0  Duplex (with one owner-occupied unit)  METAIRIE        LA   \n",
       "3     27236.0  Duplex (with one owner-occupied unit)  METAIRIE        LA   \n",
       "4     36177.0         Single (including mobile home)  METAIRIE        LA   \n",
       "\n",
       "  GIS Zip     PARISH  Closing Option  TOTAL_CLOSING_AMOUNT  Total CG Amount  \\\n",
       "0   70001  Jefferson             1.0             150000.00         95213.27   \n",
       "1   70001  Jefferson             2.0             150000.00        150000.00   \n",
       "2   70001  Jefferson             1.0               3450.14          3450.14   \n",
       "3   70001  Jefferson             1.0              10665.59         10665.59   \n",
       "4   70001  Jefferson             1.0             131947.98        101947.98   \n",
       "\n",
       "   Total ACG Amunt  ...  PSV at Closing  \\\n",
       "0         39036.73  ...        172000.0   \n",
       "1             0.00  ...        250000.0   \n",
       "2             0.00  ...        240000.0   \n",
       "3             0.00  ...        136000.0   \n",
       "4             0.00  ...        345000.0   \n",
       "\n",
       "   Closed file - PSV Option 1 With No ACG -excluding Sold Home, Inelig, Deceased and files closed with RHEI & IMM only -23,912  \\\n",
       "0                                                  N                                                                             \n",
       "1                                                  N                                                                             \n",
       "2                                                  N                                                                             \n",
       "3                                                  N                                                                             \n",
       "4                                                  N                                                                             \n",
       "\n",
       "   Closed File - Option 2/3, Sold Home, Ineligible, Deceased, and Closed with RHEI and IMM Only  \\\n",
       "0                                                  N                                              \n",
       "1                                                  Y                                              \n",
       "2                                                  Y                                              \n",
       "3                                                  N                                              \n",
       "4                                                  N                                              \n",
       "\n",
       "  Closed with Approved Unmet Needs (Y/N)  \\\n",
       "0                                      N   \n",
       "1                                      N   \n",
       "2                                      N   \n",
       "3                                      N   \n",
       "4                                      N   \n",
       "\n",
       "   Applicant With Current Insurance (Private and/or Flood) Y/N  \\\n",
       "0                                                  N             \n",
       "1                                                  Y             \n",
       "2                                                  Y             \n",
       "3                                                  Y             \n",
       "4                                                  Y             \n",
       "\n",
       "  Closing Total DOB Amount  \\\n",
       "0                  3772.04   \n",
       "1                 57512.26   \n",
       "2                 29741.00   \n",
       "3                  4824.55   \n",
       "4                 75005.62   \n",
       "\n",
       "   Difference between Current PSV and Current Damage Assessment Type 2 (col AG - col AC  \\\n",
       "0                                          -88818.13                                      \n",
       "1                                         -250000.00                                      \n",
       "2                                         -206808.86                                      \n",
       "3                                         -120509.86                                      \n",
       "4                                         -345000.00                                      \n",
       "\n",
       "   ARS File (Yes/No)   delta  gross_loan_amount  \n",
       "0                  N     0.0          150000.00  \n",
       "1                  N   625.0          149375.00  \n",
       "2                  N     0.0            3450.14  \n",
       "3                  N     0.0           10665.59  \n",
       "4                  N  1166.4          130781.58  \n",
       "\n",
       "[5 rows x 39 columns]"
      ]
     },
     "execution_count": 307,
     "metadata": {},
     "output_type": "execute_result"
    }
   ],
   "source": [
    "# To get accurate figures for the net grant amounts, the  difference between “current” (Current Total DOB Amount) and “closing” (Closing Total DOB Amount) DOB must\n",
    "# be subtracted from the sum of the compensation and additional compensation grants (TOTAL_CLOSING_AMOUNT).\n",
    "\n",
    "# Difference between “current” (Current Total DOB Amount) and “closing” (Closing Total DOB Amount) DOB\n",
    "df_loan[\"delta\"] = (\n",
    "    df_loan[\"Current Total DOB Amount (no Legal Fees removed)\"]\n",
    "    - df_loan[\"Closing Total DOB Amount\"]\n",
    ")\n",
    "\n",
    "# Calculate gross average loan amount\n",
    "df_loan[\"gross_loan_amount\"] = df_loan[\"TOTAL_CLOSING_AMOUNT\"] - df_loan[\"delta\"]\n",
    "\n",
    "df_loan.head()"
   ]
  },
  {
   "cell_type": "code",
   "execution_count": 308,
   "id": "20fa4544",
   "metadata": {},
   "outputs": [
    {
     "name": "stderr",
     "output_type": "stream",
     "text": [
      "No artists with labels found to put in legend.  Note that artists whose label start with an underscore are ignored when legend() is called with no argument.\n",
      "No artists with labels found to put in legend.  Note that artists whose label start with an underscore are ignored when legend() is called with no argument.\n"
     ]
    },
    {
     "data": {
      "image/png": "[encoded data removed]",
      "text/plain": [
       "<Figure size 1600x600 with 2 Axes>"
      ]
     },
     "metadata": {},
     "output_type": "display_data"
    }
   ],
   "source": [
    "from matplotlib.ticker import FuncFormatter\n",
    "\n",
    "# Filter the dataframe for Low Income rows\n",
    "low_income_df = df_loan[df_loan[\"Total ACG Amunt\"] > 0]\n",
    "\n",
    "# Filter the dataframe for High Income rows\n",
    "high_income_df = df_loan[df_loan[\"Total ACG Amunt\"] == 0]\n",
    "\n",
    "# Create subplots\n",
    "fig, (ax1, ax2) = plt.subplots(1, 2, figsize=(16, 6))\n",
    "\n",
    "# Define formatter for dollar amounts with commas\n",
    "formatter = FuncFormatter(lambda x, _: f\"${x:,.0f}\")\n",
    "\n",
    "# Plot Low Income dots\n",
    "ax1.scatter(\n",
    "    low_income_df[\"Current PSV\"],\n",
    "    low_income_df[\"Current Damage Assessment\"],\n",
    "    c=\"red\",\n",
    "    alpha=0.4,\n",
    "    s=10,\n",
    ")\n",
    "ax1.plot(\n",
    "    [low_income_df[\"Current PSV\"].min(), low_income_df[\"Current PSV\"].max()],\n",
    "    [low_income_df[\"Current PSV\"].min(), low_income_df[\"Current PSV\"].max()],\n",
    "    color=\"black\",\n",
    "    linestyle=\"--\",\n",
    ")\n",
    "ax1.set_xlabel(\"Pre-Storm Value ($)\")\n",
    "ax1.set_ylabel(\"Damage Assessment ($)\")\n",
    "ax1.set_title(\"Low Property Value Households\", fontsize=12)\n",
    "ax1.xaxis.set_major_formatter(formatter)\n",
    "ax1.yaxis.set_major_formatter(formatter)\n",
    "\n",
    "# Plot High Income\n",
    "ax2.scatter(\n",
    "    high_income_df[\"Current PSV\"],\n",
    "    high_income_df[\"Current Damage Assessment\"],\n",
    "    c=\"blue\",\n",
    "    alpha=0.4,\n",
    "    s=10,\n",
    ")\n",
    "ax2.plot(\n",
    "    [high_income_df[\"Current PSV\"].min(), high_income_df[\"Current PSV\"].max()],\n",
    "    [high_income_df[\"Current PSV\"].min(), high_income_df[\"Current PSV\"].max()],\n",
    "    color=\"black\",\n",
    "    linestyle=\"--\",\n",
    ")\n",
    "ax2.set_xlabel(\"Pre-Storm Value ($)\")\n",
    "ax2.set_title(\"High Proverty Value Households\", fontsize=12)\n",
    "ax2.xaxis.set_major_formatter(formatter)\n",
    "ax2.yaxis.set_major_formatter(formatter)\n",
    "\n",
    "# Remove gridlines, legends, and extra text\n",
    "ax1.grid(False)\n",
    "ax2.grid(False)\n",
    "ax1.legend().remove()\n",
    "ax2.legend().remove()\n",
    "\n",
    "fig.suptitle(\n",
    "    \"Damage Outpaced Property Value for Low-Income Residents Under the Road Home Program\\nLeading to Less Aid Distribution for Low-Income Households\",\n",
    "    fontsize=14,\n",
    "    y=1.1,\n",
    ")\n",
    "fig.text(\n",
    "    0.5,\n",
    "    0.95,\n",
    "    \"Because Road Home grants were based on pre-storm property values rather than actual damage, \\n low-income homeowners—whose homes were worth less before the storm—received less funding to rebuild.\",\n",
    "    ha=\"center\",\n",
    "    fontsize=10,\n",
    ")\n",
    "\n",
    "# Simplify layout\n",
    "plt.tight_layout()\n",
    "plt.show()"
   ]
  }
 ],
 "metadata": {
  "kernelspec": {
   "display_name": "base",
   "language": "python",
   "name": "python3"
  },
  "language_info": {
   "codemirror_mode": {
    "name": "ipython",
    "version": 3
   },
   "file_extension": ".py",
   "mimetype": "text/x-python",
   "name": "python",
   "nbconvert_exporter": "python",
   "pygments_lexer": "ipython3",
   "version": "3.12.2"
  }
 },
 "nbformat": 4,
 "nbformat_minor": 5
}
